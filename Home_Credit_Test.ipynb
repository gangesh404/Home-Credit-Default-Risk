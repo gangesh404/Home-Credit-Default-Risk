{
  "nbformat": 4,
  "nbformat_minor": 0,
  "metadata": {
    "colab": {
      "name": "Home Credit - Test.ipynb",
      "provenance": [],
      "machine_shape": "hm"
    },
    "kernelspec": {
      "name": "python3",
      "display_name": "Python 3"
    },
    "language_info": {
      "name": "python"
    }
  },
  "cells": [
    {
      "cell_type": "markdown",
      "source": [
        "# Import Modules and Load Data Set"
      ],
      "metadata": {
        "id": "BrQPpvYwFXQd"
      }
    },
    {
      "cell_type": "code",
      "execution_count": 1,
      "metadata": {
        "id": "ALCjxmwpF25T"
      },
      "outputs": [],
      "source": [
        "import pandas as pd\n",
        "import seaborn as sns\n",
        "import numpy as np\n",
        "import matplotlib.pyplot as plt\n",
        "from sklearn.preprocessing import StandardScaler\n",
        "from sklearn.preprocessing import MinMaxScaler\n",
        "from sklearn.preprocessing import LabelEncoder\n",
        "from sklearn.experimental import enable_iterative_imputer\n",
        "from sklearn.impute import IterativeImputer\n",
        "from sklearn.feature_extraction.text import CountVectorizer\n",
        "from scipy.stats import spearmanr\n",
        "from lightgbm import LGBMClassifier\n",
        "import warnings\n",
        "import pickle\n",
        "%matplotlib inline\n",
        "warnings.filterwarnings('ignore')\n",
        "from sklearn.impute import SimpleImputer"
      ]
    },
    {
      "cell_type": "code",
      "source": [
        "# Upload Dataset\n",
        "!wget --header=\"Host: doc-0s-3g-docs.googleusercontent.com\" --header=\"User-Agent: Mozilla/5.0 (Windows NT 10.0; Win64; x64) AppleWebKit/537.36 (KHTML, like Gecko) Chrome/99.0.4844.51 Safari/537.36\" --header=\"Accept: text/html,application/xhtml+xml,application/xml;q=0.9,image/avif,image/webp,image/apng,*/*;q=0.8,application/signed-exchange;v=b3;q=0.9\" --header=\"Accept-Language: en-US,en;q=0.9\" --header=\"Referer: https://drive.google.com/\" --header=\"Cookie: AUTH_6i6311e1ha4e3lu90s1q4hbjnb369mac=17867563074405901316|1647934950000|jfj1rfm9rbr6stjf3qnsnkkt67e89e3p\" --header=\"Connection: keep-alive\" \"https://doc-0s-3g-docs.googleusercontent.com/docs/securesc/7jhvm23dpf0jsrpv14f2fr5ihu8tg8kq/6hdruqsjq2cvlk4p27710un90gp3bb6t/1647934950000/17867563074405901316/17867563074405901316/1O4UgcWFo84LG3Ebcr3epzCEK7-625SFS?ax=ACxEAsbkpRwTilQSkGjTTCKBZRDi4uaPj5oVlnOwdiW8Y3MS1UAGLL0diW4AJQ-XwsJCqBoyH61bbFZx-xdFQdXHDnn-4k5IR2_1lly_rf7rqm1KJ4n5O1SvFMAmz6Z1E_sFvpB-JDoFiTFUvUYopzJ_XEsfSRusmvbhSscuyJ3ru89zhoCpRYskAtprvcXOQqC6cXjvzfkgXzIQj7nwmdd1Bb_zcJE3CSJntMZf5aCeenxhoJN68-ZUPAGewOamd91Iqj_V9yDFCAzc57lxQaLJSFPVX8Au2-nHNItjr2L7NSst9XXV3FeA4LQ7hVa4_gzWYKFO2tuKHBM5Wiyef1K8yGJR-EsLd5v2qhWx1Ee-ejyN6rf45Ruw4vpobujzJAW7-88nDhfU1SxQdEgK1PvkADgkL6F0o7MCAxT-rDoafU0wVHmzz8tUDQ5p9p8GuWsJEeCT3830_QimWgwlaTlq3B-bTRvzzuISjsVLeNUFMEXwAwwawlEeaQDosKxPZGHu5qW6xcdS7Rpfc0y78Ew9bFnDGxkiXnPxckPQu6CpULG_swSKWies6aDsT7oNDr98tz5wMq3JTTk11huKrzqW_o9aQgfByzjXKG2nOShwENQgqLo0EIUf_6RkddUYR81gkfmy1qtFIH3RFH1X1CVP0DHlWKD8PggV9_DRA1oufXq3PMfqQwqgT3OG-XAM8yge8rvReh9jLeZWLbihP_NfB5RXc22JbX3HNG-iKihCkJ-90f4V8kjLda6Tgtb_S2-yGBG-Ww_grTl0VsAx3rPG20WeeAZjN8VqTUv8QwPunhJbasUcKThXZUB5wb4&authuser=0\" -c -O 'complete_data.zip'"
      ],
      "metadata": {
        "id": "vsHqjPyIG9wn"
      },
      "execution_count": 2,
      "outputs": []
    },
    {
      "cell_type": "code",
      "source": [
        "#Unzip Dataset\n",
        "get_ipython().system_raw(\"unzip complete_data.zip\")"
      ],
      "metadata": {
        "id": "xXsRXu-tHD0E"
      },
      "execution_count": 3,
      "outputs": []
    },
    {
      "cell_type": "markdown",
      "source": [
        "# Preprocessing the Test DataSet"
      ],
      "metadata": {
        "id": "hUQjWmZjF1C7"
      }
    },
    {
      "cell_type": "code",
      "source": [
        "# Function to preprocess the test dataset\n",
        "\n",
        "def Preprocessing(app_test,train_target):\n",
        "  app_test_num = app_test.select_dtypes(['int','float']) #Filtering the numerical data\n",
        "  app_test_cat = app_test.select_dtypes('object') #Filtering the categorical data\n",
        "\n",
        "  #Replace outliers with NAN\n",
        "  app_test_num['DAYS_EMPLOYED'].replace({365243 :np.nan}, inplace = True)\n",
        "  app_test_cat['NAME_FAMILY_STATUS'].replace('Unknown', np.nan, inplace=True)\n",
        "  app_test_cat['ORGANIZATION_TYPE'].replace('XNA', np.nan, inplace=True)\n",
        "  app_test_cat['CODE_GENDER'].replace('XNA', np.nan, inplace=True)\n",
        "\n",
        "  #Bureau Data\n",
        "  bureau = pd.read_csv('/content/bureau.csv') #Read bureau.csv \n",
        "  bu_bal = pd.read_csv('/content/bureau_balance.csv') # Read bureau_balance.csv \n",
        "  bu_bal_dum=pd.get_dummies(bu_bal['STATUS'].astype(str)) #Create Categorical features and perform one hot encoding\n",
        "  bu_bal_num=bu_bal.drop(['STATUS'],axis=1) # Filter numerical features\n",
        "  bu_bal_num= pd.concat([bu_bal_num,bu_bal_dum],axis=1) # Concat both numerical and encoded categorical features \n",
        "  bu_bal_num.sort_values(by='MONTHS_BALANCE') #Sort values by Months Balance\n",
        "  bu_bal_num['EWM_MONTHS_BALANCE'] = bu_bal_num['MONTHS_BALANCE'].transform(lambda x: x.ewm(alpha = 0.5).mean()) #Get Exponential Weighted Moving Average\n",
        "  bu_bal_num = bu_bal_num.groupby(by = ['SK_ID_BUREAU']).mean().reset_index() \n",
        "  cat=bureau.select_dtypes('object') #Select categorical dataset\n",
        "  cat_list= list(cat.columns.values) #Make a list of categorical dataset\n",
        "  bureau_dum=pd.get_dummies(bureau[cat_list]) #Perform One hot Encoding on the Categorical Dataset\n",
        "  bureau_num = bureau.drop(cat_list,axis=1) \n",
        "  bureau_num = pd.concat([bureau_num,bureau_dum],axis=1) #Concatenate the categorical and Numerical dataset\n",
        "  bureau_num.sort_values(by='DAYS_CREDIT')\n",
        "  bureau_num['EWM_DAYS_CREDIT'] = bureau_num['DAYS_CREDIT'].transform(lambda x: x.ewm(alpha = 0.8).mean()) #Get Exponential Weighted Moving Average\n",
        "  bureau_num.sort_values(by='DAYS_CREDIT_ENDDATE')\n",
        "  bureau_num['EWM_DAYS_CREDIT_ENDDATE'] = bureau_num['DAYS_CREDIT_ENDDATE'].transform(lambda x: x.ewm(alpha = 0.5).mean()) #Get Exponential Weighted Moving Average\n",
        "  bureau_num = bureau_num.groupby(by = ['SK_ID_BUREAU']).mean().reset_index()\n",
        "\n",
        "  count = (bureau_num.groupby(by =['SK_ID_CURR'])).count().reset_index() #Group by SK_ID_CURR and count values of SK_ID_BUREAU\n",
        "  count['COUNT']=count['SK_ID_BUREAU']  \n",
        "  bureau_num = bureau_num.merge(bu_bal_num, on='SK_ID_BUREAU',how='left') #Merge Bureau Balance features on Bureau features\n",
        "  bureau_num = bureau_num.drop(['SK_ID_BUREAU'],axis=1) #Drop SK_ID_BUREAU\n",
        "  agg1 = bureau_num.groupby(by = ['SK_ID_CURR']).min().reset_index() # Groupby SK_ID_CURR and take the min values\n",
        "  agg1=agg1.rename(columns= lambda x: x+'_min' if x !='SK_ID_CURR'  else x) \n",
        "  agg2 = bureau_num.groupby(by = ['SK_ID_CURR']).max().reset_index()  # Groupby SK_ID_CURR and take the max values\n",
        "  agg2=agg2.rename(columns= lambda x: x+'_max' if x !='SK_ID_CURR'  else x) \n",
        "  agg3 = bureau_num.groupby(by = ['SK_ID_CURR']).mean().reset_index() # Groupby SK_ID_CURR and take the mean of values\n",
        "  agg3=agg3.rename(columns= lambda x: x+'_mean' if x !='SK_ID_CURR' else x) \n",
        "\n",
        "  bureau_num = agg1\n",
        "  bureau_num = bureau_num.merge(agg2, on='SK_ID_CURR',how='left') # Merge the min max and mean feature together\n",
        "  bureau_num = bureau_num.merge(agg3, on='SK_ID_CURR',how='left')\n",
        "  bureau_num = bureau_num.merge(count[['SK_ID_CURR','COUNT']], on='SK_ID_CURR',how='left')\n",
        "\n",
        "  bureau_num=bureau_num.rename(columns= lambda x: 'BU_'+x if x !='SK_ID_CURR' else x) #Update the name of the Features\n",
        "  app_test_num = app_test_num.merge(bureau_num, on='SK_ID_CURR', how='left') #Merge the features on the SK_ID_CURR\n",
        "  del bureau_num\n",
        "  del bureau\n",
        "  del count\n",
        "  del agg1\n",
        "  del agg2\n",
        "  del agg3\n",
        "\n",
        "  # Credit Card Balance\n",
        "\n",
        "  cc_bal = pd.read_csv('/content/credit_card_balance.csv')\n",
        "\n",
        "  cc_bal_dum=pd.get_dummies(cc_bal['NAME_CONTRACT_STATUS'])\n",
        "  cc_bal_num=cc_bal.drop(['NAME_CONTRACT_STATUS'],axis=1)\n",
        "  cc_bal_num= pd.concat([cc_bal_num,cc_bal_dum],axis=1)\n",
        "  cc_bal_num.sort_values(by='MONTHS_BALANCE')\n",
        "  cc_bal['EWM_MONTHS_BALANCE'] = cc_bal['MONTHS_BALANCE'].transform(lambda x: x.ewm(alpha = 0.5).mean())\n",
        "  count = cc_bal_num.groupby(by =['SK_ID_CURR']).count().reset_index()\n",
        "  count['COUNT']=count['SK_ID_PREV']\n",
        "\n",
        "  cc_bal_num =cc_bal_num.drop(['SK_ID_PREV'],axis=1)\n",
        "  agg1 = cc_bal_num.groupby(by = ['SK_ID_CURR']).min().reset_index()\n",
        "  agg1=agg1.rename(columns= lambda x: x+'_min' if x !='SK_ID_CURR'  else x) \n",
        "  agg2 = cc_bal_num.groupby(by = ['SK_ID_CURR']).max().reset_index()\n",
        "  agg2=agg2.rename(columns= lambda x: x+'_max' if x !='SK_ID_CURR'  else x) \n",
        "  agg3 = cc_bal_num.groupby(by = ['SK_ID_CURR']).mean().reset_index()\n",
        "  agg3=agg3.rename(columns= lambda x: x+'_mean' if x !='SK_ID_CURR' else x) \n",
        "\n",
        "  cc_bal_num = agg1\n",
        "  cc_bal_num = cc_bal_num.merge(agg2, on='SK_ID_CURR',how='left')\n",
        "  cc_bal_num = cc_bal_num.merge(agg3, on='SK_ID_CURR',how='left')\n",
        "  cc_bal_num = cc_bal_num.merge(count[['SK_ID_CURR','COUNT']], on='SK_ID_CURR',how='left')\n",
        "  cc_bal_num =cc_bal_num.rename(columns= lambda x: 'CCB_'+x if x !='SK_ID_CURR' else x)\n",
        "  app_test_num = app_test_num.merge(cc_bal_num, on='SK_ID_CURR', how='left')\n",
        "  del cc_bal_num\n",
        "  del cc_bal\n",
        "  del count\n",
        "  del agg1\n",
        "  del agg2\n",
        "  del agg3\n",
        "\n",
        "  #Installment Payments\n",
        "\n",
        "  install_pay = pd.read_csv('/content/installments_payments.csv')\n",
        "\n",
        "  install_pay.sort_values(by='DAYS_INSTALMENT')\n",
        "  install_pay['EWM_DAYS_INSTALMENT'] = install_pay['DAYS_INSTALMENT'] .transform(lambda x: x.ewm(alpha = 0.5).mean())\n",
        "  install_pay.sort_values(by='DAYS_ENTRY_PAYMENT')\n",
        "  install_pay['EWM_DAYS_ENTRY_PAYMENT'] = install_pay['DAYS_ENTRY_PAYMENT'] .transform(lambda x: x.ewm(alpha = 0.5).mean())\n",
        "\n",
        "  count = install_pay.groupby(by =['SK_ID_CURR']).count().reset_index()\n",
        "  count['COUNT']=count['SK_ID_PREV']\n",
        "\n",
        "  install_pay_num =install_pay.drop(['SK_ID_PREV'],axis=1)\n",
        "  agg1 = install_pay_num.groupby(by = ['SK_ID_CURR']).min().reset_index()\n",
        "  agg1=agg1.rename(columns= lambda x: x+'_min' if x !='SK_ID_CURR'  else x) \n",
        "  agg2 = install_pay_num.groupby(by = ['SK_ID_CURR']).max().reset_index()\n",
        "  agg2=agg2.rename(columns= lambda x: x+'_max' if x !='SK_ID_CURR'  else x) \n",
        "  agg3 = install_pay_num.groupby(by = ['SK_ID_CURR']).mean().reset_index()\n",
        "  agg3=agg3.rename(columns= lambda x: x+'_mean' if x !='SK_ID_CURR' else x) \n",
        "\n",
        "  install_pay_num = agg1\n",
        "  install_pay_num = install_pay_num.merge(agg2, on='SK_ID_CURR',how='left')\n",
        "  install_pay_num = install_pay_num.merge(agg3, on='SK_ID_CURR',how='left')\n",
        "  install_pay_num = install_pay_num.merge(count[['SK_ID_CURR','COUNT']], on='SK_ID_CURR',how='left')\n",
        "\n",
        "  install_pay_num =install_pay_num.rename(columns= lambda x: 'IP_'+x if x !='SK_ID_CURR' else x)\n",
        "  app_test_num = app_test_num.merge(install_pay_num, on='SK_ID_CURR', how='left')\n",
        "  del install_pay_num\n",
        "  del install_pay\n",
        "  del count\n",
        "  del agg1\n",
        "  del agg2\n",
        "  del agg3\n",
        "\n",
        "  #POS Cash Balance\n",
        "\n",
        "  pcb = pd.read_csv('/content/POS_CASH_balance.csv')\n",
        "\n",
        "  pcb_dum=pd.get_dummies(pcb['NAME_CONTRACT_STATUS'])\n",
        "  pcb_num=pcb.drop(['NAME_CONTRACT_STATUS'],axis=1)\n",
        "  pcb_num= pd.concat([pcb_num,pcb_dum],axis=1)\n",
        "  pcb_num.sort_values(by='MONTHS_BALANCE')\n",
        "  pcb_num['EWM_MONTHS_BALANCE'] = pcb_num['MONTHS_BALANCE'].transform(lambda x: x.ewm(alpha = 0.5).mean())\n",
        "\n",
        "  count = pcb_num.groupby(by =['SK_ID_CURR']).count().reset_index()\n",
        "  count['COUNT']=count['SK_ID_PREV']\n",
        "\n",
        "  pcb_num =pcb_num.drop(['SK_ID_PREV'],axis=1)\n",
        "  agg1 = pcb_num.groupby(by = ['SK_ID_CURR']).min().reset_index()\n",
        "  agg1=agg1.rename(columns= lambda x: x+'_min' if x !='SK_ID_CURR'  else x) \n",
        "  agg2 = pcb_num.groupby(by = ['SK_ID_CURR']).max().reset_index()\n",
        "  agg2=agg2.rename(columns= lambda x: x+'_max' if x !='SK_ID_CURR'  else x) \n",
        "  agg3 = pcb_num.groupby(by = ['SK_ID_CURR']).mean().reset_index()\n",
        "  agg3=agg3.rename(columns= lambda x: x+'_mean' if x !='SK_ID_CURR' else x) \n",
        "\n",
        "  pcb_num = agg1\n",
        "  pcb_num = pcb_num.merge(agg2, on='SK_ID_CURR',how='left')\n",
        "  pcb_num = pcb_num.merge(agg3, on='SK_ID_CURR',how='left')\n",
        "  pcb_num = pcb_num.merge(count[['SK_ID_CURR','COUNT']], on='SK_ID_CURR',how='left')\n",
        "\n",
        "  pcb_num = pcb_num.rename(columns= lambda x: 'PCB_'+x if x !='SK_ID_CURR' else x)\n",
        "  app_test_num = app_test_num.merge(pcb_num, on='SK_ID_CURR', how='left')\n",
        "  del pcb_num\n",
        "  del pcb\n",
        "  del count\n",
        "  del agg1\n",
        "  del agg2\n",
        "  del agg3\n",
        "\n",
        "  #Previous Application\n",
        "\n",
        "  prev_app = pd.read_csv('/content/previous_application.csv')\n",
        "\n",
        "  cat=prev_app.select_dtypes('object')\n",
        "  cat_list= list(cat.columns.values)\n",
        "  prev_app_dum=pd.get_dummies(prev_app[cat_list])\n",
        "\n",
        "  prev_app_num = prev_app.drop(cat_list,axis=1)\n",
        "  prev_app_num = pd.concat([prev_app_num,prev_app_dum],axis=1)\n",
        "\n",
        "  count = prev_app_num.groupby(by =['SK_ID_CURR']).count().reset_index()\n",
        "  count['COUNT']=count['SK_ID_PREV']\n",
        "\n",
        "  prev_app_num = prev_app_num.drop(['SK_ID_PREV'],axis=1)\n",
        "  agg1 = prev_app_num.groupby(by = ['SK_ID_CURR']).min().reset_index()\n",
        "  agg1=agg1.rename(columns= lambda x: x+'_min' if x !='SK_ID_CURR'  else x) \n",
        "  agg2 = prev_app_num.groupby(by = ['SK_ID_CURR']).max().reset_index()\n",
        "  agg2=agg2.rename(columns= lambda x: x+'_max' if x !='SK_ID_CURR'  else x) \n",
        "  agg3 = prev_app_num.groupby(by = ['SK_ID_CURR']).mean().reset_index()\n",
        "  agg3=agg3.rename(columns= lambda x: x+'_mean' if x !='SK_ID_CURR' else x) \n",
        " \n",
        "  prev_app_num = agg1\n",
        "  prev_app_num = prev_app_num.merge(agg2, on='SK_ID_CURR',how='left')\n",
        "  prev_app_num = prev_app_num.merge(agg3, on='SK_ID_CURR',how='left')\n",
        "  prev_app_num = prev_app_num.merge(count[['SK_ID_CURR','COUNT']], on='SK_ID_CURR',how='left')\n",
        "\n",
        "  prev_app_num = prev_app_num.rename(columns= lambda x: 'PA_'+x if x !='SK_ID_CURR' else x)\n",
        "  app_test_num = app_test_num.merge(prev_app_num, on='SK_ID_CURR', how='left')\n",
        "  del prev_app_num\n",
        "  del prev_app\n",
        "  del count\n",
        "  del agg1\n",
        "  del agg2\n",
        "  del agg3\n",
        " \n",
        "  # Load all the trained and saved list, normalizer, encoder and model\n",
        "  Mut_corr_File = open('Mut_corr_File', 'rb')     \n",
        "  Mut_corr = pickle.load(Mut_corr_File)\n",
        "\n",
        "  knn_model = open('knn_model', 'rb')     \n",
        "  knn = pickle.load(knn_model)\n",
        "\n",
        "  cat_mode_file = open('cat_mode_file', 'rb')     \n",
        "  cat_mode = pickle.load(cat_mode_file)\n",
        "\n",
        "  normalizer_file = open('normalizer_file', 'rb')     \n",
        "  normalizer = pickle.load(normalizer_file)\n",
        "\n",
        "\n",
        "  empty_list_File = open('empty_list_File', 'rb')     \n",
        "  empty_list = pickle.load(empty_list_File)\n",
        "\n",
        "  res_enco_file = open('res_enco_file', 'rb')     \n",
        "  res_enco = pickle.load(res_enco_file)\n",
        "\n",
        "  #Fill NAN values with Zeros in Numerical features\n",
        "  for i in app_test_num.columns.values:\n",
        "    if i !='TARGET' and i!='SK_ID_CURR':\n",
        "      app_test_num[i].replace({np.nan:0}, inplace = True)\n",
        "\n",
        "  #Drop Features which have single unique value\n",
        "  app_test_num = app_test_num.drop(empty_list,axis=1)\n",
        "\n",
        "  #Create New Features\n",
        "  app_test_num['INSTALL_MNT'] = app_test_num['AMT_CREDIT']/(app_test_num['AMT_ANNUITY']+1)\n",
        "  app_test_num['CREDIT_Income'] = app_test_num['AMT_CREDIT']/(app_test_num['AMT_INCOME_TOTAL']+1)\n",
        "  app_test_num['ANNUITY_Income'] = app_test_num['AMT_ANNUITY']/(app_test_num['AMT_INCOME_TOTAL']+1)\n",
        "  app_test_num['EXT_combined'] = app_test_num['EXT_SOURCE_1'] * app_test_num['EXT_SOURCE_2'] * app_test_num['EXT_SOURCE_3'] \n",
        "  app_test_num['EXT_mean'] = app_test_num[['EXT_SOURCE_1', 'EXT_SOURCE_2', 'EXT_SOURCE_3']].mean(axis=1)\n",
        "  app_test_num['INC_PER_CHLD'] = app_test_num['AMT_INCOME_TOTAL'] / (1 + app_test_num['CNT_CHILDREN'])\n",
        "  app_test_num['EMPLOY_TO_BIRTH_RATIO'] = app_test_num['DAYS_EMPLOYED'] / (app_test_num['DAYS_BIRTH']+1)\n",
        "  app_test_num['SCORES_STD'] = app_test_num[['EXT_SOURCE_1', 'EXT_SOURCE_2', 'EXT_SOURCE_3']].std(axis=1)\n",
        "  app_test_num['CAR_TO_BIRTH_RATIO'] = app_test_num['OWN_CAR_AGE'] / (app_test_num['DAYS_BIRTH']+1)\n",
        "  app_test_num['PHONE_TO_BIRTH_RATIO'] = app_test_num['DAYS_LAST_PHONE_CHANGE'] / (app_test_num['DAYS_BIRTH']+1)\n",
        "  app_test_num['AGE_EMPLOYED'] = app_test_num['DAYS_EMPLOYED'] - app_test_num['DAYS_BIRTH']\n",
        "  docs_list = [i for i in app_test_num.columns if 'FLAG_DOC' in i]\n",
        "  app_test_num['DOC_IND_KURT'] = app_test_num[docs_list].kurtosis(axis=1)\n",
        "\n",
        " #Normalize numerical features\n",
        "  for i in app_test_num.columns.values:\n",
        "    if i !='TARGET' and i!='SK_ID_CURR':\n",
        "      app_test_num[i] = normalizer['norm_'+i].transform(app_test_num[i].values.reshape(-1, 1))\n",
        "\n",
        "  # Function for response Encoding\n",
        "  def response_coding_transform(X,Cats_class_counts):\n",
        "    class0=[]\n",
        "    class1=[]\n",
        "    X=np.array(X)\n",
        "    for i in X:\n",
        "        if i+str(1) in Cats_class_counts and i+str(0) in Cats_class_counts:\n",
        "            class1.append(Cats_class_counts[i+str(1)])\n",
        "            class0.append(Cats_class_counts[i+str(0)])\n",
        "        if i+str(1) in Cats_class_counts and i+str(0) not in Cats_class_counts:\n",
        "            class1.append(Cats_class_counts[i+str(1)])\n",
        "            class0.append(0)\n",
        "        if i+str(1) not in Cats_class_counts and i+str(0) in Cats_class_counts:\n",
        "            class1.append(0)\n",
        "            class0.append(Cats_class_counts[i+str(0)])\n",
        "        if i+str(0) not in Cats_class_counts and i+str(1) not in Cats_class_counts :\n",
        "            class1.append(0.5)\n",
        "            class0.append(0.5)\n",
        "            \n",
        "    return  (np.array(class1)).reshape(-1,1)\n",
        "  \n",
        "  # Fill NAN values with mode of categorical features\n",
        "  for i in app_test_cat.columns.values:\n",
        "    if i !='TARGET' and i!='SK_ID_CURR':\n",
        "      app_test_cat[i].replace({np.nan:cat_mode[i]}, inplace = True)\n",
        "\n",
        "  # Encoding Categorical Features\n",
        "  for i in app_test_cat.columns.values:\n",
        "    if i !='TARGET' and i!='SK_ID_CURR':\n",
        "      app_test_cat[i+str(1)] = response_coding_transform(app_test_cat[i],res_enco[i])\n",
        "      app_test_cat.drop([i],axis=1,inplace=True)\n",
        "\n",
        "  #Concat Numerical and Categorical values\n",
        "  app_test = pd.concat([app_test_num,app_test_cat],axis=1)\n",
        "\n",
        "  # Create New Features with the complete data\n",
        "  app_test['EMPLOY_TO_BIRTH_RATIOFLAG_DOCUMENT_6']=app_test['EMPLOY_TO_BIRTH_RATIO']/app_test['FLAG_DOCUMENT_6']\n",
        "  app_test['PA_DAYS_DECISIONPCB_Demand_mean'] =app_test['PA_DAYS_DECISION_mean']/app_test['PCB_Demand_mean']\n",
        "  app_test['SCORES_STDFLAG_DOCUMENT_17'] = app_test['SCORES_STD']/app_test['FLAG_DOCUMENT_17']\n",
        "  app_test['PA_NAME_YIELD_GROUP_XNAPA_CODE_REJECT_REASON_SYSTEM_mean']=  app_test['PA_NAME_YIELD_GROUP_XNA_mean']/app_test['PA_CODE_REJECT_REASON_SYSTEM_mean']\n",
        "  app_test['SCORES_STDFLAG_DOCUMENT_16'] = app_test['SCORES_STD']/app_test['FLAG_DOCUMENT_16']\n",
        "  app_test['EMPLOY_TO_BIRTH_RATIO_mul_FLAG_EMP_PHONE']=app_test['EMPLOY_TO_BIRTH_RATIO']/app_test['FLAG_EMP_PHONE']\n",
        "  app_test['PA_NAME_CONTRACT_STATUS_Refused_meanPA_NAME_YIELD_GROUP_high_min']=app_test['PA_NAME_CONTRACT_STATUS_Refused_mean']/app_test['PA_NAME_YIELD_GROUP_high_min']\n",
        "\n",
        "  # Drop highly correlated features\n",
        "  app_test = app_test.drop(Mut_corr,axis=1)\n",
        "  \n",
        "  train_data_for_neighbors = app_test[['EXT_SOURCE_1','EXT_SOURCE_2','EXT_SOURCE_3','EXT_mean','INSTALL_MNT']]\n",
        "  train_1000_neighbors = knn.kneighbors(train_data_for_neighbors)[1]\n",
        "\n",
        "  #adding the standard deviation of targets of 1000 neighbors to new column\n",
        "  app_test['TARGET_NEIGHBORS_1000_STD'] = [train_target['TARGET'].iloc[i].std() for i in train_1000_neighbors]\n",
        "  \n",
        "  # Rename features and remove special characters\n",
        "  for i in app_test.columns:\n",
        "    if ',' in i:\n",
        "      j=i.replace(',','')\n",
        "      app_test[j]=app_test[i]\n",
        "      del app_test[i]\n",
        "    if  ':' in i:\n",
        "     j=i.replace(':','')\n",
        "     app_test[j]=app_test[i]\n",
        "     del app_test[i]\n",
        "\n",
        "  return app_test\n"
      ],
      "metadata": {
        "id": "7fdufKW0HGW_"
      },
      "execution_count": 4,
      "outputs": []
    },
    {
      "cell_type": "code",
      "source": [
        "# Loading data to pandas and preprocessing test data\n",
        "app_test = pd.read_csv('/content/application_test.csv')\n",
        "train_target = pd.read_csv('/content/application_train.csv')\n",
        "test_data = Preprocessing(app_test,train_target)"
      ],
      "metadata": {
        "id": "7u2xffKr2QL4"
      },
      "execution_count": null,
      "outputs": []
    },
    {
      "cell_type": "code",
      "source": [
        "test_data.head(1)"
      ],
      "metadata": {
        "colab": {
          "base_uri": "https://localhost:8080/",
          "height": 191
        },
        "id": "3YNLPTSF4d-l",
        "outputId": "2f3084a4-0d99-410d-8e74-ac446b89df2b"
      },
      "execution_count": 6,
      "outputs": [
        {
          "output_type": "execute_result",
          "data": {
            "text/plain": [
              "   SK_ID_CURR  CNT_CHILDREN  AMT_INCOME_TOTAL  AMT_CREDIT  AMT_ANNUITY  \\\n",
              "0      100001     -0.577538         -0.142533   -0.075097    -0.451692   \n",
              "\n",
              "   AMT_GOODS_PRICE  REGION_POPULATION_RELATIVE  DAYS_BIRTH  DAYS_EMPLOYED  \\\n",
              "0        -0.237829                    -0.14591   -0.734193      -0.162177   \n",
              "\n",
              "   DAYS_REGISTRATION  ...  PA_PRODUCT_COMBINATION_Cash X-Sell high_max  \\\n",
              "0          -0.052196  ...                                    -0.361813   \n",
              "\n",
              "   PA_PRODUCT_COMBINATION_Cash X-Sell low_max  \\\n",
              "0                                   -0.521722   \n",
              "\n",
              "   PA_PRODUCT_COMBINATION_Cash X-Sell middle_max  \\\n",
              "0                                      -0.549182   \n",
              "\n",
              "   PA_NAME_TYPE_SUITE_Spouse partner_mean  \\\n",
              "0                               -0.307961   \n",
              "\n",
              "   PA_PRODUCT_COMBINATION_Cash Street high_mean  \\\n",
              "0                                      -0.26247   \n",
              "\n",
              "   PA_PRODUCT_COMBINATION_Cash Street low_mean  \\\n",
              "0                                    -0.181791   \n",
              "\n",
              "   PA_PRODUCT_COMBINATION_Cash Street middle_mean  \\\n",
              "0                                       -0.199357   \n",
              "\n",
              "   PA_PRODUCT_COMBINATION_Cash X-Sell high_mean  \\\n",
              "0                                     -0.300583   \n",
              "\n",
              "   PA_PRODUCT_COMBINATION_Cash X-Sell low_mean  \\\n",
              "0                                    -0.436201   \n",
              "\n",
              "   PA_PRODUCT_COMBINATION_Cash X-Sell middle_mean  \n",
              "0                                       -0.452033  \n",
              "\n",
              "[1 rows x 865 columns]"
            ],
            "text/html": [
              "\n",
              "  <div id=\"df-9d86db02-9a77-4d95-971a-485aefa8d9b3\">\n",
              "    <div class=\"colab-df-container\">\n",
              "      <div>\n",
              "<style scoped>\n",
              "    .dataframe tbody tr th:only-of-type {\n",
              "        vertical-align: middle;\n",
              "    }\n",
              "\n",
              "    .dataframe tbody tr th {\n",
              "        vertical-align: top;\n",
              "    }\n",
              "\n",
              "    .dataframe thead th {\n",
              "        text-align: right;\n",
              "    }\n",
              "</style>\n",
              "<table border=\"1\" class=\"dataframe\">\n",
              "  <thead>\n",
              "    <tr style=\"text-align: right;\">\n",
              "      <th></th>\n",
              "      <th>SK_ID_CURR</th>\n",
              "      <th>CNT_CHILDREN</th>\n",
              "      <th>AMT_INCOME_TOTAL</th>\n",
              "      <th>AMT_CREDIT</th>\n",
              "      <th>AMT_ANNUITY</th>\n",
              "      <th>AMT_GOODS_PRICE</th>\n",
              "      <th>REGION_POPULATION_RELATIVE</th>\n",
              "      <th>DAYS_BIRTH</th>\n",
              "      <th>DAYS_EMPLOYED</th>\n",
              "      <th>DAYS_REGISTRATION</th>\n",
              "      <th>...</th>\n",
              "      <th>PA_PRODUCT_COMBINATION_Cash X-Sell high_max</th>\n",
              "      <th>PA_PRODUCT_COMBINATION_Cash X-Sell low_max</th>\n",
              "      <th>PA_PRODUCT_COMBINATION_Cash X-Sell middle_max</th>\n",
              "      <th>PA_NAME_TYPE_SUITE_Spouse partner_mean</th>\n",
              "      <th>PA_PRODUCT_COMBINATION_Cash Street high_mean</th>\n",
              "      <th>PA_PRODUCT_COMBINATION_Cash Street low_mean</th>\n",
              "      <th>PA_PRODUCT_COMBINATION_Cash Street middle_mean</th>\n",
              "      <th>PA_PRODUCT_COMBINATION_Cash X-Sell high_mean</th>\n",
              "      <th>PA_PRODUCT_COMBINATION_Cash X-Sell low_mean</th>\n",
              "      <th>PA_PRODUCT_COMBINATION_Cash X-Sell middle_mean</th>\n",
              "    </tr>\n",
              "  </thead>\n",
              "  <tbody>\n",
              "    <tr>\n",
              "      <th>0</th>\n",
              "      <td>100001</td>\n",
              "      <td>-0.577538</td>\n",
              "      <td>-0.142533</td>\n",
              "      <td>-0.075097</td>\n",
              "      <td>-0.451692</td>\n",
              "      <td>-0.237829</td>\n",
              "      <td>-0.14591</td>\n",
              "      <td>-0.734193</td>\n",
              "      <td>-0.162177</td>\n",
              "      <td>-0.052196</td>\n",
              "      <td>...</td>\n",
              "      <td>-0.361813</td>\n",
              "      <td>-0.521722</td>\n",
              "      <td>-0.549182</td>\n",
              "      <td>-0.307961</td>\n",
              "      <td>-0.26247</td>\n",
              "      <td>-0.181791</td>\n",
              "      <td>-0.199357</td>\n",
              "      <td>-0.300583</td>\n",
              "      <td>-0.436201</td>\n",
              "      <td>-0.452033</td>\n",
              "    </tr>\n",
              "  </tbody>\n",
              "</table>\n",
              "<p>1 rows × 865 columns</p>\n",
              "</div>\n",
              "      <button class=\"colab-df-convert\" onclick=\"convertToInteractive('df-9d86db02-9a77-4d95-971a-485aefa8d9b3')\"\n",
              "              title=\"Convert this dataframe to an interactive table.\"\n",
              "              style=\"display:none;\">\n",
              "        \n",
              "  <svg xmlns=\"http://www.w3.org/2000/svg\" height=\"24px\"viewBox=\"0 0 24 24\"\n",
              "       width=\"24px\">\n",
              "    <path d=\"M0 0h24v24H0V0z\" fill=\"none\"/>\n",
              "    <path d=\"M18.56 5.44l.94 2.06.94-2.06 2.06-.94-2.06-.94-.94-2.06-.94 2.06-2.06.94zm-11 1L8.5 8.5l.94-2.06 2.06-.94-2.06-.94L8.5 2.5l-.94 2.06-2.06.94zm10 10l.94 2.06.94-2.06 2.06-.94-2.06-.94-.94-2.06-.94 2.06-2.06.94z\"/><path d=\"M17.41 7.96l-1.37-1.37c-.4-.4-.92-.59-1.43-.59-.52 0-1.04.2-1.43.59L10.3 9.45l-7.72 7.72c-.78.78-.78 2.05 0 2.83L4 21.41c.39.39.9.59 1.41.59.51 0 1.02-.2 1.41-.59l7.78-7.78 2.81-2.81c.8-.78.8-2.07 0-2.86zM5.41 20L4 18.59l7.72-7.72 1.47 1.35L5.41 20z\"/>\n",
              "  </svg>\n",
              "      </button>\n",
              "      \n",
              "  <style>\n",
              "    .colab-df-container {\n",
              "      display:flex;\n",
              "      flex-wrap:wrap;\n",
              "      gap: 12px;\n",
              "    }\n",
              "\n",
              "    .colab-df-convert {\n",
              "      background-color: #E8F0FE;\n",
              "      border: none;\n",
              "      border-radius: 50%;\n",
              "      cursor: pointer;\n",
              "      display: none;\n",
              "      fill: #1967D2;\n",
              "      height: 32px;\n",
              "      padding: 0 0 0 0;\n",
              "      width: 32px;\n",
              "    }\n",
              "\n",
              "    .colab-df-convert:hover {\n",
              "      background-color: #E2EBFA;\n",
              "      box-shadow: 0px 1px 2px rgba(60, 64, 67, 0.3), 0px 1px 3px 1px rgba(60, 64, 67, 0.15);\n",
              "      fill: #174EA6;\n",
              "    }\n",
              "\n",
              "    [theme=dark] .colab-df-convert {\n",
              "      background-color: #3B4455;\n",
              "      fill: #D2E3FC;\n",
              "    }\n",
              "\n",
              "    [theme=dark] .colab-df-convert:hover {\n",
              "      background-color: #434B5C;\n",
              "      box-shadow: 0px 1px 3px 1px rgba(0, 0, 0, 0.15);\n",
              "      filter: drop-shadow(0px 1px 2px rgba(0, 0, 0, 0.3));\n",
              "      fill: #FFFFFF;\n",
              "    }\n",
              "  </style>\n",
              "\n",
              "      <script>\n",
              "        const buttonEl =\n",
              "          document.querySelector('#df-9d86db02-9a77-4d95-971a-485aefa8d9b3 button.colab-df-convert');\n",
              "        buttonEl.style.display =\n",
              "          google.colab.kernel.accessAllowed ? 'block' : 'none';\n",
              "\n",
              "        async function convertToInteractive(key) {\n",
              "          const element = document.querySelector('#df-9d86db02-9a77-4d95-971a-485aefa8d9b3');\n",
              "          const dataTable =\n",
              "            await google.colab.kernel.invokeFunction('convertToInteractive',\n",
              "                                                     [key], {});\n",
              "          if (!dataTable) return;\n",
              "\n",
              "          const docLinkHtml = 'Like what you see? Visit the ' +\n",
              "            '<a target=\"_blank\" href=https://colab.research.google.com/notebooks/data_table.ipynb>data table notebook</a>'\n",
              "            + ' to learn more about interactive tables.';\n",
              "          element.innerHTML = '';\n",
              "          dataTable['output_type'] = 'display_data';\n",
              "          await google.colab.output.renderOutput(dataTable, element);\n",
              "          const docLink = document.createElement('div');\n",
              "          docLink.innerHTML = docLinkHtml;\n",
              "          element.appendChild(docLink);\n",
              "        }\n",
              "      </script>\n",
              "    </div>\n",
              "  </div>\n",
              "  "
            ]
          },
          "metadata": {},
          "execution_count": 6
        }
      ]
    },
    {
      "cell_type": "code",
      "source": [
        "test_data.shape"
      ],
      "metadata": {
        "colab": {
          "base_uri": "https://localhost:8080/"
        },
        "id": "Af0-a2lwivF5",
        "outputId": "95352164-47e9-4093-f722-027711da53b7"
      },
      "execution_count": 7,
      "outputs": [
        {
          "output_type": "execute_result",
          "data": {
            "text/plain": [
              "(48744, 865)"
            ]
          },
          "metadata": {},
          "execution_count": 7
        }
      ]
    },
    {
      "cell_type": "markdown",
      "source": [
        "# Model - LGBMClassifier"
      ],
      "metadata": {
        "id": "l839LyCnIW10"
      }
    },
    {
      "cell_type": "code",
      "source": [
        "# Loading list of selected features\n",
        "selected_fea = open('selected_fea', 'rb')     \n",
        "selected_features = pickle.load(selected_fea)\n",
        "test_data1=test_data[selected_features]"
      ],
      "metadata": {
        "id": "6njJvmflDsQw"
      },
      "execution_count": 8,
      "outputs": []
    },
    {
      "cell_type": "code",
      "source": [
        "test_data1.shape"
      ],
      "metadata": {
        "colab": {
          "base_uri": "https://localhost:8080/"
        },
        "id": "FYAK3eTds5cB",
        "outputId": "a6671f0b-53f6-4b66-fd35-e6b2abc80895"
      },
      "execution_count": 9,
      "outputs": [
        {
          "output_type": "execute_result",
          "data": {
            "text/plain": [
              "(48744, 363)"
            ]
          },
          "metadata": {},
          "execution_count": 9
        }
      ]
    },
    {
      "cell_type": "code",
      "source": [
        "# Loading LGBM model\n",
        "Model1 = open('Model1', 'rb')     \n",
        "Model1 = pickle.load(Model1)"
      ],
      "metadata": {
        "id": "agKEN2-SD3lo"
      },
      "execution_count": 10,
      "outputs": []
    },
    {
      "cell_type": "markdown",
      "source": [
        "# Prediction"
      ],
      "metadata": {
        "id": "GjxaSLNjIrvJ"
      }
    },
    {
      "cell_type": "code",
      "source": [
        "#Predit on test data\n",
        "y_test_pred=Model1.predict_proba(test_data1)[:,1]"
      ],
      "metadata": {
        "id": "m6grVbSaD-Yg"
      },
      "execution_count": 11,
      "outputs": []
    },
    {
      "cell_type": "code",
      "source": [
        "# Create and dataframe with SK_ID_CURR and predicted TARGET\n",
        "submission = pd.DataFrame({'SK_ID_CURR':test_data['SK_ID_CURR'].values,'TARGET':y_test_pred})"
      ],
      "metadata": {
        "id": "q9EJhtZwEQaC"
      },
      "execution_count": 12,
      "outputs": []
    },
    {
      "cell_type": "code",
      "source": [
        "# Save submission to a CSV file\n",
        "submission.to_csv('submission.csv', index=False)"
      ],
      "metadata": {
        "id": "9n6peDngFNZg"
      },
      "execution_count": 13,
      "outputs": []
    },
    {
      "cell_type": "markdown",
      "source": [
        "# Result"
      ],
      "metadata": {
        "id": "pJOBRvQNI5Zi"
      }
    },
    {
      "cell_type": "markdown",
      "source": [
        "![Kaggle Score.JPG](data:image/jpeg;base64,/9j/4AAQSkZJRgABAQEAYABgAAD/4RDoRXhpZgAATU0AKgAAAAgABAE7AAIAAAAKAAAISodpAAQAAAABAAAIVJydAAEAAAAUAAAQzOocAAcAAAgMAAAAPgAAAAAc6gAAAAgAAAAAAAAAAAAAAAAAAAAAAAAAAAAAAAAAAAAAAAAAAAAAAAAAAAAAAAAAAAAAAAAAAAAAAAAAAAAAAAAAAAAAAAAAAAAAAAAAAAAAAAAAAAAAAAAAAAAAAAAAAAAAAAAAAAAAAAAAAAAAAAAAAAAAAAAAAAAAAAAAAAAAAAAAAAAAAAAAAAAAAAAAAAAAAAAAAAAAAAAAAAAAAAAAAAAAAAAAAAAAAAAAAAAAAAAAAAAAAAAAAAAAAAAAAAAAAAAAAAAAAAAAAAAAAAAAAAAAAAAAAAAAAAAAAAAAAAAAAAAAAAAAAAAAAAAAAAAAAAAAAAAAAAAAAAAAAAAAAAAAAAAAAAAAAAAAAAAAAAAAAAAAAAAAAAAAAAAAAAAAAAAAAAAAAAAAAAAAAAAAAAAAAAAAAAAAAAAAAAAAAAAAAAAAAAAAAAAAAAAAAAAAAAAAAAAAAAAAAAAAAAAAAAAAAAAAAAAAAAAAAAAAAAAAAAAAAAAAAAAAAAAAAAAAAAAAAAAAAAAAAAAAAAAAAAAAAAAAAAAAAAAAAAAAAAAAAAAAAAAAAAAAAAAAAAAAAAAAAAAAAAAAAAAAAAAAAAAAAAAAAAAAAAAAAAAAAAAAAAAAAAAAAAAAAAAAAAAAAAAAAAAAAAAAAAAAAAAAAAAAAAAAAAAAAAAAAAAAAAAAAAAAAAAAAAAAAAAAAAAAAAAAAAAAAAAAAAAAAAAAAAAAAAAAAAAAAAAAAAAAAAAAAAAAAAAAAAAAAAAAAAAAAAAAAAAAAAAAAAAAAAAAAAAAAAAAAAAAAAAAAAAAAAAAAAAAAAAAAAAAAAAAAAAAAAAAAAAAAAAAAAAAAAAAAAAAAAAAAAAAAAAAAAAAAAAAAAAAAAAAAAAAAAAAAAAAAAAAAAAAAAAAAAAAAAAAAAAAAAAAAAAAAAAAAAAAAAAAAAAAAAAAAAAAAAAAAAAAAAAAAAAAAAAAAAAAAAAAAAAAAAAAAAAAAAAAAAAAAAAAAAAAAAAAAAAAAAAAAAAAAAAAAAAAAAAAAAAAAAAAAAAAAAAAAAAAAAAAAAAAAAAAAAAAAAAAAAAAAAAAAAAAAAAAAAAAAAAAAAAAAAAAAAAAAAAAAAAAAAAAAAAAAAAAAAAAAAAAAAAAAAAAAAAAAAAAAAAAAAAAAAAAAAAAAAAAAAAAAAAAAAAAAAAAAAAAAAAAAAAAAAAAAAAAAAAAAAAAAAAAAAAAAAAAAAAAAAAAAAAAAAAAAAAAAAAAAAAAAAAAAAAAAAAAAAAAAAAAAAAAAAAAAAAAAAAAAAAAAAAAAAAAAAAAAAAAAAAAAAAAAAAAAAAAAAAAAAAAAAAAAAAAAAAAAAAAAAAAAAAAAAAAAAAAAAAAAAAAAAAAAAAAAAAAAAAAAAAAAAAAAAAAAAAAAAAAAAAAAAAAAAAAAAAAAAAAAAAAAAAAAAAAAAAAAAAAAAAAAAAAAAAAAAAAAAAAAAAAAAAAAAAAAAAAAAAAAAAAAAAAAAAAAAAAAAAAAAAAAAAAAAAAAAAAAAAAAAAAAAAAAAAAAAAAAAAAAAAAAAAAAAAAAAAAAAAAAAAAAAAAAAAAAAAAAAAAAAAAAAAAAAAAAAAAAAAAAAAAAAAAAAAAAAAAAAAAAAAAAAAAAAAAAAAAAAAAAAAAAAAAAAAAAAAAAAAAAAAAAAAAAAAAAAAAAAAAAAAAAAAAAAAAAAAAAAAAAAAAAAAAAAAAAAAAAAAAAAAAAAAAAAAAAAAAAAAAAAAAAAAAAAAAAAAAAAAAAAAAAAAAAAAAAAAAAAAAAAAAAAAAAAAAAAAAAAAAAAAAAAAAAAAAAAAAAAAAAAAAAAAAAAAAAAAAAAAAAAAAAAAAAAAAAAAAAAAAAAAAAAAAAAAAAAAAAAAAAAAAAAAAAAAAAAAAAAAAAAAAAAAAAAAAAAAAAAAAAAAAAAAAAAAAAAAAAAAAAAAAAAAAAAAAAAAAAAAAAAAAAAAAAAAAAAAAAAAAAAAAAAAAAAAAAAAAAAAAAAAAAAAAAAAAAAAAAAAAAAAAAAAAAAAAAAAAAAAAAAAAAAAAAAAAAAAAAAAAAAAAAAAAAAAAAAAAAAAAAAAAAAAAAAAAAAAAAAAAAAAAAAAAAAAAAAAAAAAAAAAAAAAAAAAAAAAAAAAAAAAAAAAAAAAAAAAAAAAAAAAAAAAAAAAAAAAAAAAAAAAAAAAAAAAAAAAAAAAAAAAAAAAAAAAAAAAAAAAAAAAAAAAAAAAAAAAAAAAAAAAAAAAAAAAAAAAAAAAAAAAAAAAAAAAAAAAAAAAAAAAAAAAAAAAAAAAAAAAAAAAAAAAAAAAAAAAAAAAAAAAAAAAAAAAAAAAAAAAAAAAAAAAAAAAAAAAAAAAAAAAAAAAAAAAAAAAAAAAAAAAAAAAAAAAAAAAAAAAAAAAAAAAAAAAAAAAAAAAAAAAAAAAAAAAAAAAAAAAAAAAAAAAAAAAAAAAAAAAAAAAAAAAAAAAAAAAAAAAAAAAAAAAAAAAAAAAAAAAAAAAAAAAAAAAAAAAAAAAAAAAAAAAAAAAAAAAAAAAAAAAAAAAAAAAAAAAAAAAAAAAAAAAAAAAAAAAAAAAAAAAAAAAAAAAAAAAAAAAAAAAAAAAAAAAAAAAAAAAAAAAAAAAAAAAAAAAAAAAAAAAAAAAAAAAAAAAAAAAAAAAAAAAAAAAAAAAAAAAAAAAAAAAAAAAAAAAAAAAAAAAAAAAAAAAAAAAAAAAAAAAAAEdBTkdFU0ggVgAABZADAAIAAAAUAAAQopAEAAIAAAAUAAAQtpKRAAIAAAADMTkAAJKSAAIAAAADMTkAAOocAAcAAAgMAAAIlgAAAAAc6gAAAAgAAAAAAAAAAAAAAAAAAAAAAAAAAAAAAAAAAAAAAAAAAAAAAAAAAAAAAAAAAAAAAAAAAAAAAAAAAAAAAAAAAAAAAAAAAAAAAAAAAAAAAAAAAAAAAAAAAAAAAAAAAAAAAAAAAAAAAAAAAAAAAAAAAAAAAAAAAAAAAAAAAAAAAAAAAAAAAAAAAAAAAAAAAAAAAAAAAAAAAAAAAAAAAAAAAAAAAAAAAAAAAAAAAAAAAAAAAAAAAAAAAAAAAAAAAAAAAAAAAAAAAAAAAAAAAAAAAAAAAAAAAAAAAAAAAAAAAAAAAAAAAAAAAAAAAAAAAAAAAAAAAAAAAAAAAAAAAAAAAAAAAAAAAAAAAAAAAAAAAAAAAAAAAAAAAAAAAAAAAAAAAAAAAAAAAAAAAAAAAAAAAAAAAAAAAAAAAAAAAAAAAAAAAAAAAAAAAAAAAAAAAAAAAAAAAAAAAAAAAAAAAAAAAAAAAAAAAAAAAAAAAAAAAAAAAAAAAAAAAAAAAAAAAAAAAAAAAAAAAAAAAAAAAAAAAAAAAAAAAAAAAAAAAAAAAAAAAAAAAAAAAAAAAAAAAAAAAAAAAAAAAAAAAAAAAAAAAAAAAAAAAAAAAAAAAAAAAAAAAAAAAAAAAAAAAAAAAAAAAAAAAAAAAAAAAAAAAAAAAAAAAAAAAAAAAAAAAAAAAAAAAAAAAAAAAAAAAAAAAAAAAAAAAAAAAAAAAAAAAAAAAAAAAAAAAAAAAAAAAAAAAAAAAAAAAAAAAAAAAAAAAAAAAAAAAAAAAAAAAAAAAAAAAAAAAAAAAAAAAAAAAAAAAAAAAAAAAAAAAAAAAAAAAAAAAAAAAAAAAAAAAAAAAAAAAAAAAAAAAAAAAAAAAAAAAAAAAAAAAAAAAAAAAAAAAAAAAAAAAAAAAAAAAAAAAAAAAAAAAAAAAAAAAAAAAAAAAAAAAAAAAAAAAAAAAAAAAAAAAAAAAAAAAAAAAAAAAAAAAAAAAAAAAAAAAAAAAAAAAAAAAAAAAAAAAAAAAAAAAAAAAAAAAAAAAAAAAAAAAAAAAAAAAAAAAAAAAAAAAAAAAAAAAAAAAAAAAAAAAAAAAAAAAAAAAAAAAAAAAAAAAAAAAAAAAAAAAAAAAAAAAAAAAAAAAAAAAAAAAAAAAAAAAAAAAAAAAAAAAAAAAAAAAAAAAAAAAAAAAAAAAAAAAAAAAAAAAAAAAAAAAAAAAAAAAAAAAAAAAAAAAAAAAAAAAAAAAAAAAAAAAAAAAAAAAAAAAAAAAAAAAAAAAAAAAAAAAAAAAAAAAAAAAAAAAAAAAAAAAAAAAAAAAAAAAAAAAAAAAAAAAAAAAAAAAAAAAAAAAAAAAAAAAAAAAAAAAAAAAAAAAAAAAAAAAAAAAAAAAAAAAAAAAAAAAAAAAAAAAAAAAAAAAAAAAAAAAAAAAAAAAAAAAAAAAAAAAAAAAAAAAAAAAAAAAAAAAAAAAAAAAAAAAAAAAAAAAAAAAAAAAAAAAAAAAAAAAAAAAAAAAAAAAAAAAAAAAAAAAAAAAAAAAAAAAAAAAAAAAAAAAAAAAAAAAAAAAAAAAAAAAAAAAAAAAAAAAAAAAAAAAAAAAAAAAAAAAAAAAAAAAAAAAAAAAAAAAAAAAAAAAAAAAAAAAAAAAAAAAAAAAAAAAAAAAAAAAAAAAAAAAAAAAAAAAAAAAAAAAAAAAAAAAAAAAAAAAAAAAAAAAAAAAAAAAAAAAAAAAAAAAAAAAAAAAAAAAAAAAAAAAAAAAAAAAAAAAAAAAAAAAAAAAAAAAAAAAAAAAAAAAAAAAAAAAAAAAAAAAAAAAAAAAAAAAAAAAAAAAAAAAAAAAAAAAAAAAAAAAAAAAAAAAAAAAAAAAAAAAAAAAAAAAAAAAAAAAAAAAAAAAAAAAAAAAAAAAAAAAAAAAAAAAAAAAAAAAAAAAAAAAAAAAAAAAAAAAAAAAAAAAAAAAAAAAAAAAAAAAAAAAAAAAAAAAAAAAAAAAAAAAAAAAAAAAAAAAAAAAAAAAAAAAAAAAAAAAAAAAAAAAAAAAAAAAAAAAAAAAAAAAAAAAAAAAAAAAAAAAAAAAAAAAAAAAAAAAAAAAAAAAAAAAAAAAAAAAAAAAAAAAAAAAAAAAAAAAAAAAAAAAAAAAAAAAAAAAAAAAAAAAAAAAAAAAAAAAAAAAAAAAAAAAAAAAAAAAAAAAAAAAAAAAAAAAAAAAAAAAAAAAAAAAAAAAAAAAAAAAAAAAAAAAAAAAAAAAAAAAAAAAAAAAAAAAAAAAAAAAAAAAAAAAAAAAAAAAAAAAAAAAAAAAAAAAAAAAAAAAAAAAAAAAAAAAAAAAAAAAAAAAAAAAAAAAAAAAAAAAAAAAAAAAAAAAAAAAAAAAAAAAAAAAAAAAAAAAAAAAAAAAAAAAAAAAAAAAAAAAAAAAAAAAAAAAAAAAAAAAAAAAAAAAAAAAAAAAAAAAAAAAAAAAAAAAAAAAAAAAAAAAAAAAAAAAAAAAAAAAAAAAAAAAAAAAAAAAAAAAAAAAAAAAAAAAAAAAAAAAAAAAAAAAAAAAAAAAAAAAAAAAAAAAAAAAAAAAAAAAAAAAAAAAAAAAAAAAAAAAAAAAAAAAAAAAAAAAAAAAAAAAAAAAAAAAAAAAAAAAAAAAAAAAAAAAAAAAAAAAAAAAAAAAAAAAAAAAAAAAAAAAAAAAAAAAAAAAAAAAAAAAAAAAAAAAAAAAAAAAAAAAAAAAAAAAAAAAAAAAAAAAAAAAAAAAAAAAAAAADIwMjI6MDM6MjIgMTU6MDc6NTQAMjAyMjowMzoyMiAxNTowNzo1NAAAAEcAQQBOAEcARQBTAEgAIABWAAAA/+ELHGh0dHA6Ly9ucy5hZG9iZS5jb20veGFwLzEuMC8APD94cGFja2V0IGJlZ2luPSfvu78nIGlkPSdXNU0wTXBDZWhpSHpyZVN6TlRjemtjOWQnPz4NCjx4OnhtcG1ldGEgeG1sbnM6eD0iYWRvYmU6bnM6bWV0YS8iPjxyZGY6UkRGIHhtbG5zOnJkZj0iaHR0cDovL3d3dy53My5vcmcvMTk5OS8wMi8yMi1yZGYtc3ludGF4LW5zIyI+PHJkZjpEZXNjcmlwdGlvbiByZGY6YWJvdXQ9InV1aWQ6ZmFmNWJkZDUtYmEzZC0xMWRhLWFkMzEtZDMzZDc1MTgyZjFiIiB4bWxuczpkYz0iaHR0cDovL3B1cmwub3JnL2RjL2VsZW1lbnRzLzEuMS8iLz48cmRmOkRlc2NyaXB0aW9uIHJkZjphYm91dD0idXVpZDpmYWY1YmRkNS1iYTNkLTExZGEtYWQzMS1kMzNkNzUxODJmMWIiIHhtbG5zOnhtcD0iaHR0cDovL25zLmFkb2JlLmNvbS94YXAvMS4wLyI+PHhtcDpDcmVhdGVEYXRlPjIwMjItMDMtMjJUMTU6MDc6NTQuMTg4PC94bXA6Q3JlYXRlRGF0ZT48L3JkZjpEZXNjcmlwdGlvbj48cmRmOkRlc2NyaXB0aW9uIHJkZjphYm91dD0idXVpZDpmYWY1YmRkNS1iYTNkLTExZGEtYWQzMS1kMzNkNzUxODJmMWIiIHhtbG5zOmRjPSJodHRwOi8vcHVybC5vcmcvZGMvZWxlbWVudHMvMS4xLyI+PGRjOmNyZWF0b3I+PHJkZjpTZXEgeG1sbnM6cmRmPSJodHRwOi8vd3d3LnczLm9yZy8xOTk5LzAyLzIyLXJkZi1zeW50YXgtbnMjIj48cmRmOmxpPkdBTkdFU0ggVjwvcmRmOmxpPjwvcmRmOlNlcT4NCgkJCTwvZGM6Y3JlYXRvcj48L3JkZjpEZXNjcmlwdGlvbj48L3JkZjpSREY+PC94OnhtcG1ldGE+DQogICAgICAgICAgICAgICAgICAgICAgICAgICAgICAgICAgICAgICAgICAgICAgICAgICAgICAgICAgICAgICAgICAgICAgICAgICAgICAgICAgICAgICAgICAgICAgICAgICAgCiAgICAgICAgICAgICAgICAgICAgICAgICAgICAgICAgICAgICAgICAgICAgICAgICAgICAgICAgICAgICAgICAgICAgICAgICAgICAgICAgICAgICAgICAgICAgICAgICAgICAKICAgICAgICAgICAgICAgICAgICAgICAgICAgICAgICAgICAgICAgICAgICAgICAgICAgICAgICAgICAgICAgICAgICAgICAgICAgICAgICAgICAgICAgICAgICAgICAgICAgIAogICAgICAgICAgICAgICAgICAgICAgICAgICAgICAgICAgICAgICAgICAgICAgICAgICAgICAgICAgICAgICAgICAgICAgICAgICAgICAgICAgICAgICAgICAgICAgICAgICAgCiAgICAgICAgICAgICAgICAgICAgICAgICAgICAgICAgICAgICAgICAgICAgICAgICAgICAgICAgICAgICAgICAgICAgICAgICAgICAgICAgICAgICAgICAgICAgICAgICAgICAKICAgICAgICAgICAgICAgICAgICAgICAgICAgICAgICAgICAgICAgICAgICAgICAgICAgICAgICAgICAgICAgICAgICAgICAgICAgICAgICAgICAgICAgICAgICAgICAgICAgIAogICAgICAgICAgICAgICAgICAgICAgICAgICAgICAgICAgICAgICAgICAgICAgICAgICAgICAgICAgICAgICAgICAgICAgICAgICAgICAgICAgICAgICAgICAgICAgICAgICAgCiAgICAgICAgICAgICAgICAgICAgICAgICAgICAgICAgICAgICAgICAgICAgICAgICAgICAgICAgICAgICAgICAgICAgICAgICAgICAgICAgICAgICAgICAgICAgICAgICAgICAKICAgICAgICAgICAgICAgICAgICAgICAgICAgICAgICAgICAgICAgICAgICAgICAgICAgICAgICAgICAgICAgICAgICAgICAgICAgICAgICAgICAgICAgICAgICAgICAgICAgIAogICAgICAgICAgICAgICAgICAgICAgICAgICAgICAgICAgICAgICAgICAgICAgICAgICAgICAgICAgICAgICAgICAgICAgICAgICAgICAgICAgICAgICAgICAgICAgICAgICAgCiAgICAgICAgICAgICAgICAgICAgICAgICAgICAgICAgICAgICAgICAgICAgICAgICAgICAgICAgICAgICAgICAgICAgICAgICAgICAgICAgICAgICAgICAgICAgICAgICAgICAKICAgICAgICAgICAgICAgICAgICAgICAgICAgICAgICAgICAgICAgICAgICAgICAgICAgICAgICAgICAgICAgICAgICAgICAgICAgICAgICAgICAgICAgICAgICAgICAgICAgIAogICAgICAgICAgICAgICAgICAgICAgICAgICAgICAgICAgICAgICAgICAgICAgICAgICAgICAgICAgICAgICAgICAgICAgICAgICAgICAgICAgICAgICAgICAgICAgICAgICAgCiAgICAgICAgICAgICAgICAgICAgICAgICAgICAgICAgICAgICAgICAgICAgICAgICAgICAgICAgICAgICAgICAgICAgICAgICAgICAgICAgICAgICAgICAgICAgICAgICAgICAKICAgICAgICAgICAgICAgICAgICAgICAgICAgICAgICAgICAgICAgICAgICAgICAgICAgICAgICAgICAgICAgICAgICAgICAgICAgICAgICAgICAgICAgICAgICAgICAgICAgIAogICAgICAgICAgICAgICAgICAgICAgICAgICAgICAgICAgICAgICAgICAgICAgICAgICAgICAgICAgICAgICAgICAgICAgICAgICAgICAgICAgICAgICAgICAgICAgICAgICAgCiAgICAgICAgICAgICAgICAgICAgICAgICAgICAgICAgICAgICAgICAgICAgICAgICAgICAgICAgICAgICAgICAgICAgICAgICAgICAgICAgICAgICAgICAgICAgICAgICAgICAKICAgICAgICAgICAgICAgICAgICAgICAgICAgICAgICAgICAgICAgICAgICAgICAgICAgICAgICAgICAgICAgICAgICAgICAgICAgICAgICAgICAgICAgICAgICAgICAgICAgIAogICAgICAgICAgICAgICAgICAgICAgICAgICAgICAgICAgICAgICAgICAgICAgICAgICAgICAgICAgICAgICAgICAgICAgICAgICAgICAgICAgICAgICAgICAgICAgICAgICAgCiAgICAgICAgICAgICAgICAgICAgICAgICAgICAgICAgICAgICAgICAgICAgICAgICAgICAgICAgICAgICAgICAgICAgICAgICAgICAgICAgICAgICAgICAgICAgICAgICAgICAKICAgICAgICAgICAgICAgICAgICAgICAgICAgIDw/eHBhY2tldCBlbmQ9J3cnPz7/2wBDAAcFBQYFBAcGBQYIBwcIChELCgkJChUPEAwRGBUaGRgVGBcbHichGx0lHRcYIi4iJSgpKywrGiAvMy8qMicqKyr/2wBDAQcICAoJChQLCxQqHBgcKioqKioqKioqKioqKioqKioqKioqKioqKioqKioqKioqKioqKioqKioqKioqKioqKir/wAARCAG8A7wDASIAAhEBAxEB/8QAHwAAAQUBAQEBAQEAAAAAAAAAAAECAwQFBgcICQoL/8QAtRAAAgEDAwIEAwUFBAQAAAF9AQIDAAQRBRIhMUEGE1FhByJxFDKBkaEII0KxwRVS0fAkM2JyggkKFhcYGRolJicoKSo0NTY3ODk6Q0RFRkdISUpTVFVWV1hZWmNkZWZnaGlqc3R1dnd4eXqDhIWGh4iJipKTlJWWl5iZmqKjpKWmp6ipqrKztLW2t7i5usLDxMXGx8jJytLT1NXW19jZ2uHi4+Tl5ufo6erx8vP09fb3+Pn6/8QAHwEAAwEBAQEBAQEBAQAAAAAAAAECAwQFBgcICQoL/8QAtREAAgECBAQDBAcFBAQAAQJ3AAECAxEEBSExBhJBUQdhcRMiMoEIFEKRobHBCSMzUvAVYnLRChYkNOEl8RcYGRomJygpKjU2Nzg5OkNERUZHSElKU1RVVldYWVpjZGVmZ2hpanN0dXZ3eHl6goOEhYaHiImKkpOUlZaXmJmaoqOkpaanqKmqsrO0tba3uLm6wsPExcbHyMnK0tPU1dbX2Nna4uPk5ebn6Onq8vP09fb3+Pn6/9oADAMBAAIRAxEAPwDqfj7j7VoYP9yb+aV5JBIACrV6z8fv+PzQsf3J/wCaV5G65TI4NIh7liNsSY6irhXKfKOT6Vm2rfN83Wt3SJhA93e4BaytjNGD2csqKfwLg/hQJEMuiwQNt1i++zTd7eGHzZU/3hlVH03Z9QKVNJhmUppF99ql7W00XlSv/ujLKx9t2fQGuo8D+ELDXkW+1Sea484PmNBgIwYfefOckHOMUvjvwfp+i27XmmSzQeSqERsMh2LY+V85yBzjHagdupwALLJlQR6ip2fcMg4NaGrbZJbS+KhWvrYTSY7uGZGP4lC341q6b4es5/DsWpPZ6pfSSTvG0diRhAADkjYaYjBiffHg9apzSYk2seK35/Dd59ie5hMKnyjOtq0v78Rf3iuPT8faoovB1zcyQs17ZmNpY0mMU4cwb+m7HHPTgnmmJ3MISNF0ORUsW5vmFbF/4Vnsp7hYbq3uIYrsWoZWOdzE4yMcHjn0qdfB2pQjiW13NM0CReb80jqcHaMfjn0oCxhs4cYI5qeKUBNrVov4Sv5Z4fsk1rPHIWDTxTZjjKjLbjjjA/8ArUutaImlabp0q3CzyXSOzvE+6M4bA28A9PXvSAx5H2yZHIqObIG+OuyuvCmmo1xbwfblngsxdfaJWVoT8oJXhQR19TWdN4Nvbe4kjlvLGNYhmZzP8sRP3Q3HU9hQBg2/zjdn5qtJdZ+Q9a17fwbfJdFbuSC2jWZYi0koHmk4OEPc4OfTmpb/AMIsbgJpgcuLqaJpJpQFVE53H5Rjjqc/hQGpQimUqFerEDBZOOlXLfwm72F1PLqVoBDEJInSTcjgnHJxkenTrV3/AIRmQTfuXjt4Nkf7y5mHzO652ghR/Lj1pDKu0H5kprIH5HBrRh8M6hwGkgicytEsckmGZx2HFRaXZC6uphdO8UVtG0kxUZbA4wPcmgZXRx91+tKpyxB6VeOnWeqeWNGklWXJ8yK5I+RQM79wAGP1p8eg3RkCebbmPyTMJxJ+7KggE5x2zQMyzH5bEjp6VLGyleODWjceHr2BWPm28m0plUkyQrHCt06USeGb6KTbE0M8iyCN1ikyUY9M+lAFaOTsac+R0rSs/Dck91Gkl1b+U+8ebE+4BlGdv1/pmrVvoMc8CH7TGh8mRy5kyrlTjI44H50DOfERf5l60MmV+brXQjRdrIYmSOLyUkeWWT5QWJ6HHfHSmy+H7hiQzwRYkEY8x8bmIyMeuc0wOfiY529xWjbv2JrPnieG4dHG142KsPQjrUkc3HPWgDTaQKMiozNvOMVWR2fg1PGm0/NTuGo8A7qSTJNOeYA/KM0nmBlp8wWIXRsj0p0eQ3FTx4ZSCM0zywr1DYWJlGOac4Dr6GnceVnvUKsWbBFFhkTRYbmp48beKbMCvSqk94IIzng0gJZ7xYcg1ny6uB3rmdZ1wxsQjVz761KcktTI5j0RdbwMZp39sAg5rzmLWWJzurQg1Qv1P60BzM7RdSVu+KSfUAqZFcut1kcNUFxfTBcLSDmOkj1Ub+WxUzX+eVbrXGR3LFv3mQa0oJXC5BJFBPMdPDfr/EavR3sR6MK4Wa6ljbOabHqkoO7NMfMd8btM8moZL+ND1FcoutEp8xrOvNZct+7Oadw5jq7rV1GQG5rAv9Xzn5qw5L6SQ5ZsVC0plPSlcXNcfNqUhkPJqtJdyM/DcUhiaRumKu2umq3L80EkdsXbkZNWxGx+9xVsQLbpxis+6uhGcdqAsTJAueualSFE5qjDeqenJpZrmRwQoouF0WZZ1iU1k3F+pfGaY9vcT8MSAadFpJ6nmncNQhugzYArRiTzBVYWqQjmrNtcxxsMsKbehOtywLIEcrUy24XGBVqK7i8vOBVW4uju/dLUl6IXJVvSpUkI71TAnlOelTxWcjfeY0wuSvemIfeqH+1TnrTn07+8SajGnr2FINSePVWUjnNXF1huMVnG1VRyMUbQtMNTbh1Ji1WvtW8cisCJivWraTkLzTGayRhxTzZ7lPFZi3bIMhuKsw6p2zTQXFktjEOKgNw8KnFaizxzR8nmq8tor9DmqsL0MiXWnThjiof7fx0apr/R96nFc3daTLC+cnHpUhqjoodc3t97mta11jBGWrhIYmQ8/LVwXDxLkHNAJs9AXV0ZeTWZqOqjBIPFccdYkBOCaPtrXK8kmkPmLs3iBklxmrEWul0+9zWBPaOeRzmmRwMG6kUE3aNu41Z34Bqnkztkmq464arMWE6UCfmPW1A5IpjgA8dauJ+8X09qmhsN7cikBnQ27yN7VoxWoUcirP2dYV54qpPerGCAeaY7JbjbgrGp7Vz9/q4jbZHyavTCa94XIBpbXw6C4aUZPvSHdvYyLcXd4+WyFNb9npqxKGfrWtbaUiKMLgCor2RLZTjrQOyQLJHEB0FWoWWZelcpLcXFxNhAcZra08yJGN/BoQk9RurWqKhYdaybOXa+DxW/dx+bHzzXN3cEkM29emaoT3ujRnQSxkHnNRabpY+05K8E0+1kWVBuPNbVjsDDGKCvM6DTdMRI1OK2I4go4qtYyA24+lWDKM0y7kvQcUh5pgfdTweKTTC43b60ZpHb0pobNIYpNISDSNxUbGpGPJpDzTAakUUgBRTitL0oJqlYCJhzzSAc8Ur800cGmIlr2y2/49Yv9wfyrxLIr222/wCPWL/cH8qBnj/x3TfeaJ7JN/NK8ikUDivW/j1J5dxopH9yb+aV44jtJJkc1JEtyyIgq5FSaZfRQ38kN4xS1uomt5WAzsBwVb8GCnHoKazny8YwaqeX82W6UEnU+HbyPwnrwk1hr6JYwGQWTKVn9DkkBkI9KTxDep4w8R+ZopvpFcFnF6yhYPUggkKgHrXPQ6zqFjELe2nDW4JIgmjWWME9SFcED8qtvq1/e2hhmlCQkgmGGNYoyR0JVAAfyoGGt3UclzHFZsWt7WJYImIxvAyS34sWP41Zi1M3Hhu30ryMeTO03m7vvbhjGMf1rL2q7banVjbjpxTEdHc+L3bT0hlS9MyW4twqXrJAwAxuMYAye2M4NWrnxtHPZskVpOu+SKXZJc7o4thztRAowD+dciW85+nFOk2rHinYLs6I+KLN57oPpcrRXF2t4FF1grICT12cqc9MZ96mm8WO13a3UVoI3truS5AMmd2/qvQY471y1vgn5jiieUIcZ4p2Fc6b/hLUFwoEF9c27rIk6Xl+0pKuMELxhcdjgmqWr6jb31pZWtlavbwWauq+ZLvZ9xySeBzmsiFdyZqeM81IzU1zxDd6swHmTQ2wiRPs3nlkyoxnHA/Srlt4xZ9R1GR4riCG+ZGItbny5Iyoxw2Oc9xiubuHI7UW4AOTQB1z+KbS4UrfWc8yRzi4gzdEsrAAYZmBLA49qj/4S9TK4ksAYJpZ2lTzuWWUAFQccEY6/pXKXEgDcU0sXj4NAXbOjj1rTbZLq2stNkW2uYBE5Nz+8Zg2QxO3H4ACtU+Jra+t/J1CwdoF8tlEc21gyrt5O3oR+VcJbhxJk5xWpGxVaQ0dXJ4ra5ubeaS1G6G6a4wr8EHAC9PQdap2er/Y9RuLhoBLDch1lhLYyrHOM9j71jxN83NWxFuXI6UDNy11yytGEdnp2IGV1mMsgMkgYYxuAGAPpU0mtxJbm3tbVktxbPAm+TLZdgSxOPbpWAkeDVpU3LjvQM2IdeEt45e32LNHDESZPuhCPm6e1aEuuW9jqVzJpkGTLcCSSRpMqwBPCgAYznPeuVClW5qwvK8UDN7+30W7gkWO6kWNmZhcXRfO5SMDjAxnrjNOh1aKKGKIWzGFIpYiDL8xVznrt6j6VzxJFPWYjigLm62twyw/ZZ7Zzb+UkeElAYFM4Oce/TFR3PiM3GxTb7FjnWVRvzgKoAXp7daxDJzTJGAHJpgWr2UXN5NcBdvmyM+3OcZOabDFvqvE+eM5q3DKEPNIC5DBjFSleareaTyppq3GG5PNGo7okkQo1OCAxe9JLJld1NhlDZFOzFdD4SVbrUzgFs1SkBVuKngkzw9PlQrlhGG3FLjHNRSMI+SeKoXOoqinYaTGaE0ybDk1zGtXYCttNRXmsbc5auY1HVZJiQOlIiUindkSzEuarGyD9DTHZurc0kdy6P8AN0pGZFLpcyDcpNVle5hkxhjitxL9GA8zGPSp41iuMkAAVRVjOttTZMCQ49q1re4jnXkjNY+p2AwTF1rMtri4tZO7UgudkbdT71ZgVkAHb3rAttWYY8zg+la1tepN/EM+maA0LzxRyD5qqyWyRKdtTyZ8vIqk7OrfN0pAZmo3TQjjp7VmQXvmSc1u3On/AGpSV5B7VnpoBicv0oFZkoKuoqaG3bd8vSg2nloNx6UsV0its3YxTGSECLqOaeLxIl96GCyJxzVKaJlbgZoFqTS37ytt6UiaebhtzmoI49jbm5q/FcKiZHBoF6j4dORG5q35ESLkgVR+3noagnu5SnycigaaLckkKHtUcl3Hs+SsWaK5Zt4zg9qt2tm8oG84oC9ype3zsxUZP0qpDFcyuDyB710Q06JOcAmplsgF3YwKYuXuQ2QYRhX5q+sJbGBis972O1fGM0Sa0qp94CgrQ1thXvUiSCPrWLZ6klxJgvWuWTZwMmgF5Ektwu3K1WN2G6cGmMkj52jApqadJI+7mgLsSa6JXHeqizzSNtANbcWk7uXHNWY9ORGyVFOwWZjxQXDjB4q3BZSnhya1jBGF4Ip0ckY4PWmkFkUhp77eTSx6dtOc1dku1Tg9KqS6gkbZU8Uwsi4kIQZzUsbjdyayH1QHlOaiOpO/3VxRcNDoz5TjDGq0+nxSjtWOL2Z8YBq5BcSkjOaVwuUb3ScZKLWJPBIjEMCa7lU85PmrLvtP3E8cUA0ck1k0n+FSRWckfY4rcitQrYYYFatvYRyp0FISRzcUbcAjiro0tZkygwa0brTvJOUHFSWUiqwDigo5u5sXhJ+WqqkxtyDiu/n06O6jyoBrntR0Zo84WmJxMqO4AOQa2LS7Rkx3rnpbaSCTpxU0EuxutSLY1L6R5OI6qQaa8jbpP1rQtHSVctgmtGNExzgUDtcpwWKpjAq55ccS5antKo4jFRG3aTlqYyKW6LDbGKoT2Zl+Z+a2I7Tb1FEsQ28UDt3MKO2SL+ECkkk2H5BV2aAs2OlC2OeooQiO1UyKS9Z+sRYhJArbjtSvAqO505p1xinZi8jioLoxZznNdDpUryYOKk/4R3L8pWxYaT5OAFwBQgszWsSVhGatg5PFMijAULjpUoG08VdyrD0BqYdMVGr9jTs1LGhGBoUUueKMVLKEYZqMrUxpuKmwxoWnYxS0ZBoAYTTPNAOCaWU4QmsG9v8AymPNAG4zA9KBWNp+pib5Sa11OVzVCFZsV7lbf8esX+4P5V4Mzjdivebb/j1i/wBwfypDPHPj4ha40TH9yb+aV5FADGMkZr1n9oGcw3Gh47pN/NK8qt51lhzjml1M3uRTSF2+UVKdnkc8HFOt3i835xgVJfxR+XujPFCDpcpWarJMVbBp92fszYQ8Gn2trujLqfmrLvmle48s5+tOxL0Rpwwu6iRaWWcsuxuDVe1u5bKMCQZX1ondrhvMiAI9qoL6Fu1cR/fFMuplMg29KAyNBgghsVBBseUqzfnSAuqiNDkNzUIhMzYb8KJInhYFTlTVuK3Jh3p1p3Bq5CBJD8p6VLEWj+Y8io8PM+3kMKnyyJtcUmCGTy+Z0GaEkUJg5FQo6xzfOODVi58ny9yNSH0GIEkbBP50+eFY04qpHC0mSjc1HLJMZBE2frRcOhctlYnK81oR7uhFU7HdAo8zoe9aS84bHFIZNEq9xV2MADB71WCZTclTxHcMHrQUSbcN7VYBwoNRoQRtbrTXcx9elICcFZfrUM10lvwxGayNR1tLJSQ2K4fV/Fz3EhW3JLZ7UxOSPQm1eINjcPzpr6lGD8rV5U+qXoGTuyamh1y6HBB/GnYjmPVheq0W7OTWbcakzOUUGuW0/XmACyHk+tbdrc28rhnYZo0Hds0ba9kRgDmtJbhmIPast8HBXAFSJeKi4Byad0LU6GC4jCcnmpCvmNuXpXJz3kisDGSfatKw1comJD+dPmKVupvEDy9rHmo1HlsDVNL9Jm5OKW8v4kt8K3zCpd2Voa8c0Mi/NjiqF3fxwkiM1yk+umNyA1ZsusSySZ5xSE5nVz6kzJ96sS61FjnBqiL1mXmq0shkOVpk3HTymTJJqAwbue1SxqqLubnNVbi5KOQo4NIQ8wxx++aZLZoy7u9EEcs5BUVdkjEcfz/exQI5+W1Yy5UkYq5bl4l5JNEjqJMuRV2yeGRgvFAFeW6yMMOKZEIZDhQBWnf6chgLJ6VzZZ47jaOme1AbGlNZLIP3fX2qovm2UmRk1sWsqrBh8DjrVe4VLo+XEeaBliw1xW+Vzk1qnZcLlTnPauWfTXh5j4x3pbPVJLacBwTjvTC/c6TY0Iz0FVLjUVQ/N1q9a30F5GA5Gah1DSldd6jjtSDXoYlzqbSggKc9qxrlrkSbipA9a6K3sAJtsg47GtWTRleHIAIxQTqznNOvJdoUgkVrRnzTkdPSnw6SI+V4Heo7rba8ocetAxXtcKWi5NU5AcgScGpE1RJflU4NRSOjP83J7UxDl5bGMj1q/bwKOXwRVCLeX5GB61eVtkeFOaQFiUQovAAqn9rijY54plxDO6kgmseQSI535oDmNOa/Z2Aj6Vft5w0OHbtWHFuboKmj85n2YIFISepS1veXPlc/SsyGwvLgjhiPeu5s9CEqhpBnPrWvBpVvEuMKKovlucXp2izRuC5IrqbSBlTBGfc1duEgt1ycGsm51qOLIQgU0OyRprEicyMB7VaingjHGDXCXfiPDHDFj7VJY6o867iSPagnmO2l1FDkKMVRe9kUk/w1Rgud6jjNSmGWVsD7pqgu2SNe55RufSnLLJMMAEH1qW20ckgkYrUSwWJQTikOxkfZ5mGHJNPj03PXkVrs8AXHeq5uvLJ2jIpDsiKPS07Cphp8S/eAFRPdu5zHxTTcSOMScUx6E/kRRdcYpzNEgytURKd2GO4UMJG+70pBcu/a1XBVsUPcJJ1as42r9WJxUsUHHAJoJ1GyFQ3AqzbXDDHYU0QFjwtWksWKZ7U0GpL5izJtrKvA9uxI6etXPKcPgcCpJrUywkHrikxlfTNX2MFc8VvMIbyLsTXGPp80MpYZPNX7S+kgYKxI+tA0+5JqembckCualtikxHNd+m29t+euKwNRsPKkJxxQDRjoskQBB4rStJTcEDPSoAVK7als8QzA9s0E2NeGDjpVgvHGvvSFw0OU9KoyOc0ytiaSfJ46VGZfSoevufSjy3foDRYLisQfepYo3kwAKmtLP5h5lasdui9BTukKzZUhssD5quRQoOCKk2/LxRgik5FJWIZIlDdBQq88VIfmODTkTbSGRgFTTg2RSvgio1BHencQ4PhualB3c9qi2HGTUkeOmaYyQcilpM4HFNBpDH0dBSbgooDhqTAa1MJxUjVFIeKVhkE0wAOelcV4lvFh3MprodVuxDC2a8o8W623zIhoFc1NI8RgXe0v39a9BsNYjmhGW5xXztDeSwz+YrHOa7HQ/Ez7lViaZN7bnsyOsx4r3+2/49Yv9wfyr5n0PUVuUUk19MW3/HrF/uD+VIpHj3x7tvPl0ZsZKJN/NK8YNzFEp4wR1Fe4/GuRFvNHSTo8c380rw/W9IcSedDnHfFBEh0UkM0ZKsRT7WTzZTC7gr2zUdhao0B+bBqBo/ImJDDIpCNC4SSwOUOVNVHs5rhhcRZ9xTftEl0fLkz7Gr8E8unp843L9KYaMrSS74vKZcN7imac7W8xWeMhT0NWJZluJPMiQN61oA28tniRdrgUxdSlf+WVDRE/hTrWyjnh3ggMKqW00S3pilb5Se9aN7D9mjElswK/WkHmQ7SX8p+fTmld57IYGSppYLRrpPOjJDDrSTTuyGJvvii4DoJJEbzcZXrVya6iuYdwXkDnFZ9rqKqrQXK4PSoifJudy52H0oGWYWgmJRzg+9QyQGO4xvBT0NNurIuont3w3U0QRPeJtc/OOhFIPI0/svk23mR88dqyv3ktxuXIwelPea6sR5UuSp71HDNLC/mMNyGgNC99sLoIyBuFaenzAx7ZVxWIZ1MokC5Hetdbi3ltw0ZwR1xQNGnDIqPg9KkkXZ86HIrPtLqGX5C43VYkuPIUhjkUh9AuLwLHkHBFZra8rZjJy3asTWNTkWYiD5gewrGjuXW5DP1pk8xpatbzXzkk4U9hWTb6P5UmVGPUmtiO+8xgo6+tacMEbYaRgaBddDnfs6q/Me73xU8VhbyMN2M+grYuWs+EBVTTfsKrHug5PrQPUy59HDrmIbfes6Q3Ni3ykkCui81oFxKC3tVSZBdt2Wgn0GWHiHaoWYknuDWpHfxT/wCqIBrFuNIDR/ux83qKoQ2l1aXGXLbaQ7vqd9aIrJmQin3EcKLlQc1ztprJVgkgwPetYXC3QCxuPzpj9CKS5nQHyjwKyrnULtj8+cVvJCicHk1YbTopYdwjAagVrnJRLJNJk9D61qpaoY+OGqeSxEOTgCo1GVOeopANEA5Peq0iMr/L0qxl2c1IFRfmkP4Uw3KaqzMFxxUklnEBvfk+lRXV15Z+X5QKoNqnPzNgUCNQTpAnOFFZt/qi7CAce9Ubm+e4+W3BY+tU/wCx7ufmUn6UAVLm+kkk/cgsfWtDSIrkzCR2J9qsW+mJAv73GfSr0LbFxEtAaF66u9lsFc846VmWy+fIcDNSsnmHMpoS8t7MYJAoDclnsJnj2xk/hVBftGny/vlwM9a19N12GabaBkDuak1qSCeH5cE+1AW6jraaO7gwOSaz9QtBGD0Ws2zu5beYhc7c1th47mMeYNzH1pjvcwIJbuGfdFnYO9dFY66HURz89qlSyjERJAxjoKzZdHleUyJ8oHSgWqOkSFZV8xCMelRSXxt/lOcelY9pqjWMwjlOcetbgSLUY96kZ9KBlaW+DR5HArmdVvZJWKr+ddBeWUkCnA4qhBpazyZPJ96ROpz1q8iyYdfxreh/eKFK5PrWidDjIwF5FXoNK2JyMDHWi40mZcMWxT5pyKm3BSPLXIq3LbRx8Bs59akithsy3SgdiJCpX5j26VSlsluXO2r0kYZiEFPt4fL5brQIbZ6TEijd1pZoIbeTccGkvLuQD5BjFZj3bvw/WgG0jXk1lYIsIOe1UodUnllyxwM1QABb5uRRJMsKkjk9qCeZvcuavft9nPl8nFcNObue4zK7BSeAK6RZZLuTbitG28PecQzrmqVwvc5m00mSfGFP1rpNO0Boxuat6Cyt7JRuxmi41CKNDjAppF2tuNtbFIyM1uWsVugBYCuKudc8tid4UUy28VI0ojEoJ+tVYnmR2t/qMMC4QVmxamZ2IBrNZnvV3FuKnhjjgjzn5qkq7NAqznNSCJUXLHNUYLqSRtqjAq8ltLL0BNIZGXjJxGOaaYmk61eg04K37w4qSZVhGEFMCpBaDv8ArVpYVU/NUBd36DFTRKzcP0oGLLEoxtGRTI4XLZRcCtBERFy1QTXCpkR0AV22wHLHn0qRbssuFqo0clw/ANadlp4ABegAt4hK2SKvGBCuKjuJY7SPjg1XgvfNajQCWSCFAdwzXOarEokLJx9K6SVTMp21l3FiXBDDmkBX0XUAjBHNbV5bpdwEgZ4rj7yGSymDLnGa3tG1ZZYwjnmmCfQwry3a2nPHGaQHMeRW9rMEbxGQYrnRMiqVPWkFtS3b6l8uwnpSvcO7fIMisiKN2u+AdproLOEJgEZU00TqSWluS4djkHtWysMQjqBIQq7k6Ux5WQcUrl7FpQqjg1NHKrMAKyTM2dy0+O4O70NDC5rPntxSryuDVD7ZuXDdaRLoscDrUlXLoXmpsfLzVYTfLk9aBMXOKdwJGqF+OlSAE0hUHhqYhqynbiotzB8it+y8I6pe6dLdw27hQFMaMMGUHqRn06+9VrLQdQ1GSaG1tHeWHiRSQpX65x6UAU0kDAAmpRVm78LazYW73N3ZNHDHjc+9TjnHY1LZeH9Wv7P7RaWUkkXZsgZ+mTz+FAzOk56UwEg80jl45mjkQqynDKwwQav2Oi6jq6sdOtXmC/ebIAHtk8ZpagUt+6oZpMA1Nd2VzYXLQXcTwyr1VhU974a1uPSmvf7NmMIXcSMbgPXbnP6U76XDrY858VakYIZOe1eO6heNeXTEnjNelarYat4s1T+yvDljNf3jgt5cQ+6PVieFHuSBXE+JvBHiTwZeRQeJ9JmsHmBMbMVdH9cOpKk+2aT03FvsY0Nq8zhUGa67Q/DMx2uBzTvCujmdld1zmvU9K02O3iXKimSveMrTbVrKNcggivqi2/49Yv8AcH8q+ddTgCW5ZB2r6Ktv+PWL/cH8qRaVjxz4+q32jRHTqqTfzSvNbC6S6h8mbr0Ga9d+MtsLh9NBXJCSY/Na8gOnSxSbo1IxS6kO6kUtQ02WzdpIc7T2q14E05NR8eaQt5FHPA10gkikUMrjPIIPBFacciXtsYZB84FL4JtprL4kaOADsa7QfTmrh8aMqitBm38Y9Cs7DxpZxaNZW1jGbJWMdtCsalt7ckKBz0rodV0rTYP2f4dQk060W98qLdcCBRJkygfexnpxXTePfH8fhPWYbRvD8eptJAJfNacIVG4jGNjenr3qn471NNe+BMuopaC1W5ELiANu2fvl4zgZ6elZ7Qdu/wCpvK3tPlt8keTeE/CWu64zz6VpElxbKcGXcqKT6AsQD+FN8YeG9Q0ORV1CzltGYZXOCrfQjIP517D4iuLrSfhLpX/COSy28RhiDTW3DKpTOcjplup96r+K2lvfgvZzeJP+P8+UQ0i7WLFsZx6lck1Uvdv5OxEVzJJ9Vc8wf4ReK7qONRpLrMyb1bzo9uP97dgH2zmo7L4a+NJ7qbTptHn3wgFnZ0VMHphydp/AmvW/ij4l1jwvomjXGh3IhLzBZQUVg6hQcHI/lTvih4h17Q7nQW0C68hZpm+0J5asJFBTg5BI6npjrTtd2Xe39feOySv5XPDrrT9U8Has2n6vbyQykAhW5yD0II4I+lbr/DnxlOFv4dClMDLvw0kavj/cLbs+2M16t40trS5+KXgpLtEIZp2+YdSgVlH/AH1UnifX7bQvHtnPqniu4sLcRgJpg06V45wc5O9eCc+2RipWy82O2rXRHgmoWsNxERtMc8ZwykYII7Gu8+Evgyz8R291qOurvsrN/LEZOA74ycn0AI+ua5z4kz2Mvji+vtLZxDKysytG0ZDbRuyrAEc56ivS/hYINb+GGraXZSJFcSmVGbuC8YCsf89qcX7rl1sHKvaJPYrap40+GdjObObw0j25Ow3MNjEBj1ByGx79a84g8I6rqqahqvhO0e80+2mcAo4DbRyMKx3E7ccYJquPA3iua8k03UdEv/NRtodYGZG9wwGCPfNes/By0udA8K6/b3K4mtLp/lY5wVjHHHuKnRRc30Q9W1G255ZqvhrxDby2tnqWmSQ3t2u6CHKuzjOOik4+hq9N8P8AxbpmjS3Op6G6QRruZ0ljcqPUqrE/pXY/DLxFqnjD4lTX/iCWKQ29g4tI0hChMuucHr0J6knmuq/4SSw0vxvfLqXiW6nLgxnSf7NmITn5SuAc8Z5A+bNU07K+7uCs7vseE+HNB1PxDqElnpOnTXRUZYrgKo92OAPxNe0+EvDmoeFvhf4htdWt/s8rrPKql1b5fJAzlSR2NO8HPHb/AAs1e78JLuna4ujCUjJbhyE+UjOdgUgEfhUPhC71vUPhR4ibxJPcTzbblYnuFw2zyR045Gc0N+5JLsVSS9pH1MDTNR1lPgxc2tjoInsTFNuvxeIu3LEk+WRk4/Wrel/Dgan8KRdy6c8mvTwtJB/pOAwJyh+9tHy46/jU3hxxB+znfsOQkVx/6Ean0HUNUuv2d57nTprp79IZVgaF2Mq7ZCAFI5GAOMdBWc2k5d7L9SI68vqzwHVYJdI1C5tL9PLubeRo5Y9wbawOCMjg17b8P7Tw1bfBEeJNY8OafqL2wnkkaS0jeRwsjDG5h6V4NdWGoXmoTvq7zG4ZyZvOJMhbPO7POc+tfQHhSyJ/ZpubSCNpC0NyFRBuLEyNwAOtVJtU5Nb2FFJzS6XJPDo+HXxPtbixs/Dkek3cabwI4EgkA6blaPg4JHB/KvH9Y8Na3ZeKrjw5ZRvd3kUxiiSFeZB1DY7ZGD7V6Z8FPDmrW3iOfUbrTrizsorZo1eeIxmRmI4UHqMA81t+AL+x1v4z+Nr63ZJDB5UELgdQBtcg+mUFVyrnXo2F24fNHhus/DXx14fspNV1rR5YrWPl5Emjl2D1IRiQPc17P8EbJ7HwBf6/Pps014zObcGI7po1QEBOOQWJGRnJHtWho+r2Wn63r9r4g8X3mtrelw+nS6VOotRyCFHzfLtOOAAetRfDzUr22+DWsPHdNu00XCWb7R+6VYgy9ueSTzSi/dlLyuUoe+l5/wDDHB6sdU8f+NrxLbRJotR2qZrVvlMQCgfMWxjt1x1rM1X4f+IdAj+06rprwQE48wOrqPqVJx+NbHw1t/FPiW+8Qa/aeIY9KVwovtSNqs0rbRuKovCjgDJx6Yr0bTdfsvEnwh12e21K81eG1huIzeXsCxNIVj3ggKBwMjBIB4otyw80rsUffl6uyPJV8M6xD4bOvtY50sf8vHmp/e2/dzu68dKjuPCOrnw8PEMlljTGAKzeanQttHy53deOlemWNtPrP7Oaw2ELTzSIxWONdxOLgk4H0FGuWlxpv7OqW91FJFPEkW6N1KsP34PINVNcrkuzFbb5/gVviJZPffBXw1bQLl2NqEGcZPkkD+dUfEfwjfT/AAFp0/hrR3fXlERvgbwYH7s+Z959v3sdPwrU8cykfBnw1IrFGxasCDgg+STV/wAa3Gsy/CPR5tInv2u5EgMsts7+YwMRyWK8kE4zmqq7zt/N/X/BNI/Zv/L/AJ/0jwzS9ehmUefgN6GvoWH+wNH+H+matfaLaXIkt4d5FvGWYso5yRzXyte6RNHJ50OQRzgV9QFtGPwX0E+KL6SwszaWu6aNSx3bBgcA/wAqT+BvzX6mcX71vJmb4x8M6Fr/AIEPiPw9arZyRp5m1FCBlBwyso4BHPI9KyYrrWU+DDaf/YYNgFP/ABMPtaf89s/6vGevH611XjeL+w/htFp+hR77GXajz7s4QndnjruPfpz71nJKYf2fZXIyVU8f9t6h7TttoaQ1lDued6Z4B8Sa1Yi703THkhbO2RpEQN9NxGa6X4WaReaL8SpbPU4Wguo7V96Eg4ztPUcV0Wg+JrTVtC0vw5qMmraBqKqiQSQKyCfAwpBA5BGCc4HvUegaZqOmfG+VNUvft0j6eXWfYFLr8oGQO4xiq2l9/wCRjZct/T8zzPx74a8ReLPit4gtPDGmvfSQSB5D5iRqgKjGWcgZ9s54PpXn7+Hr631Caz1HatxA5SRI5VkAI6jcpIP4GvrbWrBbvw/4gtPClykGqyOWuHiPzmQqDtJ7ErgA9q+b1g+y5XbtZTg5HINYx91KPZIua3k+5mWOki2YFuPatFpBt2xp+lRzTGJd7fd9ar/27ZwoWJGa0M7j/wCz2Yl5TtHvVS+vrWwjPIrN1LxHcXWY7IE571jDTby6kzcFjntTDQsT6+87FIAaZY2F3fXY83OCe9bmjeGQswZk4966v+zLezwygZFIdjPtPDkcNuGAwcVVu7fyiQTWvPett2IM/Ssa7k+bNw3HpTE9SvDbCViFXJ9qmnsriBdw4HpVVPEFrYygAj8K6DTtQh1hewHqaAsZOnasscwjm55711HmRTWuYQCcVy3iDR8SbrY7SO4qXQrpoFCTsT9TRcadtGQ3+kXF1d5X5ee1T2sk2jyL5rZHvXQebHt3RqCa57VEmv5jGo25oDQ6KO+g1KEAsA1U5IHt5MqMc9a537JdaMBIXJX3rpNJ1aDUYAkjDdigN9zTtbiEQZlxuxWRqniCOLKRt07U3VbWVFJhY47EVy8kLMxL/e/nQwbew+fXblpc4+XPat/R9TFzGEZufSuXOOVC8+lS2G6KcOMrg9KRPM7neLZ4XzFJojTcxyaZpupCWEIw7d6lnBQ7x0oKILpFcbQOazJ7I9cYNbFvLFI3J5qxcQo8JKjmmK1zkmLg7AuTU8enGRN0g49K17axRpCzDkU6SRNxiUY96Yrdypp1jBHJucj6VZv9dt7CPamBVGWKWJyVORWFeabJeXIZ2OP7uatT0sT6F+HVpNSnbDfL2qnrdxJaRZTLGrC2iadGGTjimtJHeDEoGfWouVtoziZry6vJCuDVnT9NmE6yOSDmuoXRFd8xR4Prite00DGGkHSgdhmnvMbcRhTn1rWtNPlkYGQ1Ygt47dOBU7XKxrknAoHY07LToIwC2CanmlEJwgAFYSan/cbJqeC6kupNrg/WpKujQLtJytOWNJOG609YSqfNVeW4S3PByaoCfyVQc8Cq806R8Jg1A9zJdcL+lSwac7fNLwKaAhDzTNxmplgC8ymroEcWFjHNNe2eb5qLhYfAqADbU0kywIWY44qq7rZxZbjFc9fas93N5URyPandBtuWr28a8n2pnGavW8BtrXe3WoNI04riSUe/NaWoOqW2MUculxLuyCyvt821jWq0QddwrlrJ1+0llrp7aXMIBpDTMHWYt6lVXmubSK5tZty5xXdXVoshJqobSIqVKikDVzm31CaaPY+aS101p23Hj2q7dwpDLkDmpLe4EeCKBepZtdMVB8w5qZ4fKHHSlW63KCKbJMHXHegZLbTc7W6U6ZQOeoqtE4zg9amdspxTsBC6jqtNC7zx1qVbdm5FWoLUI2WpDKy2+8AtwauR2yrg1LIo2fIM02FWzzSAl8tXTjjFQcRtg1KWKng01oieaRQ5DnpTyuGBIBwc4PemoQBgdaejFJVfAJUg4YZB+oqouwmehvdx+ILK5n0bU/s9wVhURTEoIGDZ4Pv04rkdXudWh1mf7ezQXZwJPKO0NgcHjrxW5HqXhm60+8lmt5bQyCLzraEqocqcjYP59Kyp/EVne+LE1LUIJRax42xRgMx2/dzkjvz+lGlx9C9rdxJpPhy10meZ3u7vE9yXYkqOy8/5496j8Z6hdafr1tb2UzwRWkKeUqHAHvj9K5vWL+bV9UnvZMgytkD+6Ow/AV0T61oWrJa3WvQXYvLZAjiHaVnA6Zz/APW60072fn/X3A+xD45hjTxGJVXaZ7dJHH+1yP6CpdcnlsPB+iW1o7xx3CNLIUJG5uOv51GXj8VajqmpX3mQwW1sXjWNgCMcKuSD15plprGlXWhw6Zr6XC/ZmJgnt8EgHqpzU9LB1ubaRrqqeFbm9+aZ2ZHLdXC8gn16frXFT+Mr+L4020AnlZZNR+yNCGO0xltmMdMDr+tN8XeOUtbnT5tIhaG10vBgSQ8sQQTux64xXL3fxS+HMPig+MIdO1mXX0DPHp5MYtlnKkby3XHv7521SaUuZ7Xf9fMmSfLyreyLXiBm8KfDn4mX2gymC6fxALATwNhoocodgI6Y8xl/Gud8My3Piv8AZr1yDWJZLp9I1WF7KWdtxj3FAVBPPRm4/wBqsDwn8StPEPiXRviBa3N5o/iWc3NxJZYEtvPu3eYgbjrj6bRweldI3i3wpZeDIfCPgSC+/s9rn7VeXeoBRJcPxgYXjAwPT7o+pzSfLZ9VH8LX/Jv5mjacrru/xv8A5j/C+krDbqWXHFdSqKvQ8VyC+Io7aELF1x2qlceKpgC2CBVkaI6/VryOK0YZHSvou2/49Yv9wfyr4e1XxdJPlMnJr7htv+PWL/cH8qQ07nAfE2MSXWn5Gfkf+Yrg5LZTGRtGa9A+JBH2ywB/uP8AzFcUwGKLdRnG6jbm2m8yHhs9BV3RdTaG+tr+3SM3Vq4kRZASpI9cEVpX1isoLYrlbrfpt750edg+8KWzujN9nsaHivxnqOueII7zWYbeJo4hCBboyqVBJ53E880/V/iZeT+D4/DiQWh08BQXVG8wbW3DndjqPSs7Uoo9WsfPgXJxyK5ewkigvTBdrhWOOaS0VgbfNdnf6N8Vtf8AC2mJb6dJa3VmPuxXcZbyvXaVIP4E1H4n8U6t4/tYZru6RUgO6O3gG1Fb1xkkn6k1yOqaT5aq9u+YW6j0qFRcaNEslo++Nuoz0pvV6gnbQ63xL8QNc8Y21vpuq21nbi1bcjW6OpY4xzuY1d8Q/EfXdXms5NatLKNbQkx/Zo3UNnHXcx9B0xXJSQXF/ELm2Pzjk4p8OrpdxNY3kf75RjkUXf6ivbQ6Dxh471jxZcadqBjht5dOLNC9qGUgkqcnLH+6K6fS/jZ4guNP8spYPcIuC8sLbifU4YD9K8403UFsLo217HiJuhIqPVVhs7sXdm4KMfmC0dAv9oEvZb/xLePrEvmTXczSu2MAsxycCtWw1bVfBGsLe6JdmJX4cYyrr6EHgiqq6XbavbrdW8oEoGeDWbsu552srp8Y4UmhabA7vc9UuPjH4tew8y1g0rGOWEDlh+b4/Suc0b4o63p+m6ha2MFnPLeuzztcRsW3MMHG1gK46GS/0W48icGWB+M+lWktRHeC6g+VW5K0mk1qPmdy34W8R3uhX0ckbNb3UJ+RwP0PqPau8m+MviaaKSAw6cispXzUhfePflyM/hXn091bFy0igMO9ULu/DR4tvmPotNu6sLma1Os8NePNR8FtMukyQtDMdz28ylkLf3uCCD+NW9Z+OfiK7sru0a209orqBoGRYX+QMCCQd+c898j2rgYbaWbH2gbAe1W9llaryBn1ND13FFtPTQ6PQ/HeqweBZvDDW9mLCdXVnZH83DHJ53Y/SrXhr4k6n4Gs3srAW89mz+Z5VwpO099pBGM49xXn2q6vDEm22b5vQGse6nvb+FfKDe+KFo7h5Gr4l8UPfaxc3nyiW6meVwnQFiSf512Pg/4xeKfDfh630jSbDTZreJmZXuYpGclmLHJVwOp9K4Kw8JyTIJrh8HrtrrNP0829uBs2qvc09th6t3Os1b4qeN9e017R5rPTUlG12sImR2B7bmZiPqMGsbwvNe+E7xNQ0mf7POo2sSMq691YdxWXca1aWWVY739BWTqWt3dxF+4+VDQtHcbd1qeoa18aNavdLubCRLCNZ4zG7wxMGwRg4yxHT2ri7b4pavoXhTUNA062sntL/wAwSyTI5kXegQ7SGA6DjINcQHkD53F3bsaGt5blipBB9BS7+YuaV0+xr+CfiZ4g+Hs10dDa3niusGW3u4y6Fh0YYIIPOOtdYfjt4u1rT7+xubXS/s99AYGijt3UQqQQSnz5yc/xZ6CuEtvDNzc4+TYO5NdBpek2mnthv3klDu1qEbx1R1Xg/wCJet+DdJFhbRwTWpbcqXKEhCeuMEda0da+Ld7rmiz6VqYs2iuGDFljIZcMCAOcYyO4JrlNQjie2Pm4QAcVwl7Iv2siNuh4OaHfqK7jseva14q1bxL4QtNGmjs4rKzCeU8SMJDsUqMksR0PpTdE+MOs+HdDXQ5Ut7qGKMxRPKjb0UjgZBGQPpXnWj65MCsFxJhOldBNb2l3EBarvkP8WKb1vfqO+zXQBD9pi81yAp7Vv674p1jxH4Gg8MPb2iWVusapJGjiT92MDJLY/SucjtJ7CRftj4j9K0l1SOX9xYR5PQtRurMaLenfFXxB4e8NR+Gr21sb6xSMwh7lHL7D0GQ46duOOK07T4hT3ng4+G447U2rjBfa3mff3dd2OvtXNX+lw/ZGe5IaVhwK43y9R0d3uFQ+Vnih3e4k3G1j3Sx+J3iDSdJt7G1i0+VLeNYkMsTltoGB0YDp7Vg2fjvXbLxZLrs6w3F7KhjPnIdiqccAAjGMetcj4f1hLtVdm3SH+E10l+nm2e+NB5mOBTeru9x9LGraePtX0rxDe61Alr518B50LIxjOOhxuzkfXua5TXdTn1nWLjUWt4LeSdt7x26kJnucEnr161LpFs87MLs4OeAavS2EVuSTg+1RZaLsLVnFalLPNCyRjHHIrD0/w/cahcFdxxnmus1SLduMK8+lVtKuTZyeYww3eglblqz8PW+noqyLlq0hpltFiRwAOtE2qwXUYIH7ysy5vG+7cNsX0zVXGaM2oRD5LVcn2qJZWb5ruTAHbNcvd+IIbFiIDvPoK5zUPEd7fMVjJQegoBa7nbX/AIgtbdikRBPtXGa1rU11JtQlR7VDpukahfSb8NtPUmupsfCcK4e4+dvQ0DOWsNIutQYMAdvqa7jTLX+y7cBclsVctbOO04UDFSz7WXgbvYUaCK5uvMyZTk1lXsoDFoj83tVlrVrmUjdgf3VqUaQdvzcD0piKVhrph+Wckmt7TLm3uXMpIB7VizaXGG2ouT3xWZdyS6dKDHkDPKipC9joPEC3N2DHAhK+tY1vpl/pSecM46kV0Ok60t1aBRHufHPFR6nfXDL5Pk9aobsXNI1iG/g8qcgN05o1HRgsbSRc56YrkW0/ULab7TECo64rpdD8RRyx+TdkbumDQLfcp2VgvmHzRhq0l8PG6YNEpBFS3luxYTwgbOvFa+m6zBb2fzY3AUgS1sVbbSGtVy5wR61ILq3BMUrc/Wud13xpumaOLqPSuXk1O4uZd6yHd6Cgd0tj0uKzRG8xTlatrIrcKa47RPEDCMQXXfjmuiiV9wkjOVNFwVuhrxQLsJXGTWZe2WWLp1q9DKwIOfwqy8YkTco+tDHa5zSTruMc/wApHSoJoP3wZK0dTsI3XeG2tVSC2eVNu4tQTYgubdZYwvXNTad4bMrhucVuW2kRpB5kzA4qT+0YbeJlhYDFMdu4x7O302HLY3VD5/mpuX7tczqupXV5eiOHJGea6Wys5JNK2dGxRcad3Yz77Wbe1jOWBYe9chqPiWSfKwnHpina34e1FrxvL3FSam0XwhIsge9P50rNi1ZL4aurqS4AmVipPU16NA9tBCHbG7HSsBIrayjCQJlvXFSQwzTOGkYhPeqtYa0NO41OSdtkQ4p0GmyXGGl4FTWwtYFBPzH1q02p24XaG20h+pLBaxW8fygEihZWkbbjiktHErZU5FXREqnIGKSKIUtwGy1MvLuK0hJYgU2+v47ZDyN3pXMXQutUmwu7bmqFsNv76TUJCkOce1XdH0MIRJKOevNWtP0yOyQbxlvetSIHcCvApCtd3ZOsKomAMVi6zJ8uxetad/drb25bPOK521aTULzLAlc9aY2Os7Yxx+Y1bNjMGXGaS8t1htMCs23kMeSpovYmx0WAy1RuwIAWqezkMkWT1pbm289Cpp6so5S+uY5n46iiFkdMfxelX59JhtyzSHFYz4W6/dnoeKknU0IZNvBqTdhs9qpxSiSTaetW0BHyt0pgOYjqppVnzgE1HNE0Q3DlarrIXb5RVdBdTetXKr8w4qzv8xSBWdbzf6PtbrRBdGJyG6UizRhAVvmp7jDZFZwuj53XKmtFpV8nOe1SMimbAzSRyl1INETLKTzkUTOkIwKQCAlWJzTBdkNgiooiZHyKtLbK0gC8segHehDIgXMmeasNGGANLKPs5AlRkJ6bhimOJJFLxKzIoyzAZA+tMAZvLGBTh+9TkYpFXcnz04FQp2UgBZZLeJ0SR1STG9QxAbHTI71W85ZGI71JteRSSp2ZxnHGaj+xOu51BKjqcdKYHK+LrSae1dYupFeYJ4TvWlZip5PpXtk6CWTa65+tSfYLZFzsFIVrnjEfgy4kYbwfyrZ07wjcQMAM4r01LKFuUQVZW1jRc7QKaFynJWvhVdoMn61T13TrSxtWzgYFddqF0ttbs2cYFeQeMfET3EzQRt9TQ2VojmL+dJLxvL6A8V+htt/x6xf7g/lX5xkEHNfo5bf8esX+4P5UgR5V8ZdXGl6voQbhZkmB/Ap/jXOQ3KTRK4OQa2vjtbrdXGjRFcuUmKn05SvLbLXG0om3vXyF6HNAr2ep3LMGBA6Vny+HpNcvYrS2GZJmCgVTsfEVvcNjoPU1ueFfE2n2njSwWeVY0dzH5jHhSylQfzIpRV2EnGwy28HaBpeqLpg8TN9tlby1DWh+zmQnGzfnPXjOMVyHifwTqV7eTxaTYXFxdW7lZYreIuQQcHgCuk1LQNa1DXG0M6PcmYybPNaJhGBn75fGNvfNW9BtJ9M8JX32nVNTexTUTaeToSAtI6rnf5jAHZ2HHNC1V/66CaV7Hlum2evvevpkthdmeIHzLcwt5iADJJXGRxzVrWNK1fQRF/aWnXdvb3BxG88DIGPsSOa93jsZovHWm3yLPHKvh8hjdMGm3BWxvOMFuma4jVYby/8AhV4lgvb2a9khntZojPIXMblyGIJ6ZFFnZ26f52J5f6+SZwml2+qackt3FbTXFpGu+Zo4ywiX1YjoPc0zVIpHjGuWNnM1ujhJJljJQMexbpn2rW+GHimGPxCuha4QLXUo2sZc9CsgwP1xXZ2c2m+C/EPhLwJqrwuzXJvLwt90yuxEIP0AHX1FPsu/5/8ADC0s/L+vzOL1XQr290JLu+0y9sVcDbLPbPGpz0wSMVj6dp0uniK31m3mWO5Gbd3QgSjOMrnrz6V6Xptzq83inxN/wkc18umrZXP9ox3JfyU4OwrngHONuO3SsTX9K1DXND+H0+k2dxfRCDy2kgjLqrCbkEjgfj6GlF3cfO343/yHUfLfyv8AO1v8/wADj9b0nUPD10TZ+ZCVb95BIpVl+oPIq3HofiPVTFPFouoONiy747V2yh6NkDocHBre+Il/F/wsjWrSRtuJhkn/AHRXReLbvxTBY+EF8NC98htNg8lrXdtaXHRsdTjb17fjRD34KXe34jas2uxxEVtqOoK0drp11dGMqr+TAzlSTgA4HBJ6U230vWbya5tLPSL+W4tjtmiS1cvEfRgBkfjXomtTXtjcfEebSJzZyM1gomhO0q7cS4I6HJbkd81Lo32a3+G+jy3Nxr8zyTzvcz6VIu6SbfwZWbknbtxz0/CnbS/p+P8AX5A42djx2DRtUvr42T2sxmZygiWMl8jqNvXNdla/D99K8K3OqXqz2k1vcJCba4tyrEMM7uSP5fjXoN7fh9V8QS6ZbXUGvLo0bRxS7ftLjPzuAh+8V29OfauOvrzxBffAu/fUjdDdqkS2puN28pjnGecZz+OaS6L0/GVgSX5/lc57xPbQ2HiGXS9Ct9Q1CfC+XA1qwnJKhj+7Az39Olc1D4Z8T694otNDl0u8sri4dQyT2zqYkJx5jDGQozya9j1LTb3/AIST4iXGlSSRanLFZLBJB/rkh2L5uwjkdBnFZ2iT+JYNR8KpqPnmzF6Et7m5ceayl13rkneV6deKuMU5JPy/H+vzE9meWXfgK80TWJ7PWUkiaJ2Cl0K+aoJAdc9VOODXaQ+Bbo+G9Lu9Ht5rxr5ZS0UNuWMIR9uSRnOfoKj8bTtY+KdRfVmnkmFxIYklzwm9tuM9vTtV/W/FGrWvwz8InSbqW1W5a7eQQOVJ2ygLyPTJqY/Bf0/Ubsm0YYtGt7xbBIJp7/cVFskZL7vTbjOaqaxFrn22LS5dKvra6nH7q3a2dZJPouMnp2r1HXxKniDxdcaIW/4SF9EtZYTF/rdpwJWTHOdoHTmubtdU1W2+GdhqfiQ3C3llrccumvck+YwVcuMnnZx+dJPv/WthNaaf1pfU8tm0zUBa3Eq2NxOlrzcSJEzCHJx85A+Xn1psenagljDfTQSpazk+S7xkLJg4O09Dg9cV9Ef2ZY6deXOlW4V7XxpcTS+aD9yFocp/5EkOK43xtaWOm3Wl6Iz+YNFskt/LXoZCNzt+JP6Ua/l/wfu2BJf1+H37nC6X4YvtaIOlabcTuoy/kws5HucCtiz8Nta3/kNaTTX2cfZ1iJfPptxmu087UU+GFlLoJmtlN7J9uNtuD5wPLB284x+uKsWs+s/btRvdduL6yns9Jjef7HCj3c8LHC47q3GSTgjAzT2/ryuFtF5/52OKuLLUYrxLS/sbiylkIEUEkLK75OBhSMnJqlqtjqWl6c96NFv0t0Yq9zJbOEUg4ILEYHPFdxqk63Wj+ArqOPVlRvEirC+rsDO0ZZT2AwpI4HtU1m/ic/GjUodYe7fRWNz9rjlz9mW12Nt4Py4xt6d8+9JvR/P8En+ob6/1u1+h48LHxJ4gt5J9K0rUL63jOHe2tnkVT6EqDUOg+Ep/EWga/qFnLL9q0hYCtmluZHuGkk2bRg5BH0Oa9L0lJtM0bwkk+p+Krw3v+k6dZaEiQ28QaT7srkZY55bI4BP46SW2qW/ib4vf8IujxX7C3MXkAh8ksXK453YLHjnNTOVpW9fwt/mOEVdX7r7meJ2PhzWYvE2naPrdheaVLf3EcSm7tmRlDOF3BWxnGa77T9Fu9H1vUNG0+CfU7mznkiUwwMWcK2N20Zx+tdd4a03UJfBGhN4vmnluYfEUMlg12S0gTA3AFudu79a6ZWsY7Lxa6rqSyjVmFw2klRP5eSRy38O7Ocfyp7P+vL/Majpdf1v/AJHlV3pWozysNZhltGT70UyFGH4Hms+00/VJb54fDlhcXrKMsLeJpCB64ArpPil4nZtA0GO2sNXhJSUJc6rs82eMMMfdOcA5xkDg963fAOtadJ8KJJVTVfM/tDyrw6Tt81fkBQuT0Tr+NUtm+3+diHa6S6nEW9tPFf8Alamk63u4L9kaMiTceg29c0/xBo+sT7ILrS7qwif7v2mBo9w9twFej6ppc2p+LNHvbC71bSLqy0mV5LqaKOa8uYV6BV/v4JAJANNgvLW++H0b+Vra2Kazbq02vMN7qTiQrj+HGR1POfSi/wDXzsV/X4XPIrrwjq+gWK6rb2N59lADNP8AZ38rHruxiu407S9Qm0XR7+1iutSbUrZp2it7Vm8gByuCRnrjrxW3r0fi4ePtVWxmu5UZJQLeTm2FrjA4b5Nu39feub8ZapqmkeCPBMGgajc2SrBLJiCUpvIk4zjrjnr6mhe9yru1+v8Al+gn7srev6Cy2r+YzjMUinBQjBB9MU4W2rXEBng0m9uolyGlht3dBjrkgYq1461m2tfirqVpdEpkQuOwJMSk/rXo+kxsr6Ekt1q07tDFNAtqFjt0Rjnax/i46+1KKurlNWZ42lhdaipn0+wurn5wmIIWf5jyF4HXjpWZc6VqM2pDT5dMu7a+bGy3kgZZGz0wpGa9gv8ATtQg0DxhHoBlglk1NSTASHVNx3bccj8O2ataTp8ptfB76zJJJfw3z+S85JkMXoSeSM9M0RV3934ky92Lfr+Fzwy80TW9LtReXmlXsFtkAXElu6xk9vmIxV+88GxXU2gtq1/qDWuq6fNdkadZGWSEpkBcAnI4yTgY/UejaW3iF/GHiW38Tfam0k2t19o87d5Kx4OzGeB2xjt0qTQ0MV54OjkGcaBdjd+DVnKTUb+V/wAJf5Ctadun/Bj/AJnzZo/hTxDr0z/2RpN9frGcSNb27yBPqQDiuj0fwNeS3xhWzuLm7XObeKJncY6/KBmvUhJqNj8OfC0fhf7UlrK032l7LcCbjfxvK85x0zXT2WjauLjXNU1/Uby1ldYUvINMRBNLx8vzD7vHXHXJzWzSu/Ia1SZ5PFpurx3w0mLR7uG7I4he3ZZCMddpGe1bq+H77S9KW61WzuYo3xtkkhZVbPTBIxXqaSRw+IvBAWO8BkW6VGv2DTFQMjcfx49jXH6RqOpeINB8YQ6pdTXETWwlQSuSFcScEen4VO179L/gOy39F95geIfCep6PZ2lzdW0yw3MKylvJdRESSNjEjhuOlRaZpFtc6HqVxdNdRyWyIYvKh3ISTg72/hHp/kVs+P8AU5dN8M+Hbq5luZrVtNRWkLM0bSBm6npu+vNctoXieTUPht48kjGxYILPYf8AemIpbX+Y1FOUV3t+Iy5sr3TdKfU49KvpbJFLNdJbOYgB1JfGMfjXDaj4znlfFuNqV7XC2p+ItWsNNaTxL4X8QLpYiUKqz6W8YiPzFegDD6gH3FeVfDzwmkvjnSJtcWM2K3kZdX5VhuHB9s1olefL/W5G0Ob+tjX0Cz1iKwW/1XRdQgtZAClxNaukbZ6YYjBzXQ6x4KtofAMniLUbPWXuLgSG1is7YGOIKPlkmZhwhJ6jt0rudLk1dPiDrEWtPePp5S4N6Lgt5CQ7W24B+UD7uMVymvX13N8K/D2LiYLJNdI6iQ4ZQygKfUD0qN46dUi1Fc1n5/grnnHheLUjORaWU1w+0vsijLkKOScDsK7CPRtTutRS3n0m9S7ZPMW3a2cSMv8AeC4zj3q98LZJofGMssA2NHp9yytjoRGcVreDdQMngTxBeatea5eXwniE8umyh7tYOSMF84Tduziqej+V/wAbGUdfvt+CZxusWurG+GlQaVd/bGHFuYGEh4z93GegrBufA+v2VsuqXOn3VvE3KySQsqt9CRivc9E1q2vPEvgyNLHV4y32gQXWs7POmQKf7pyQDnGQODxmqkV7rsv/AAlMOux3H2JNNuDN5+dgk/5Z4z3z0xSb3+f4Gqgm1d72/E8z8Nwa3q9m0iaVfT2sZKtPFbO8Yx1+YDFO1TRrwWQu7e3lFtISqylDtYjqAehNd7oGm3thdeEUvtU8UXtw0EE9vBpojgsoY2bOyTgl8DO44zjvS6Lex+JvEHi7wWu1Li21N7uzB6ACXZIP++WBxVSWtvX8LXIteN35fjex5dp3gtbtL6TXYdStVWwkurVobRmEpXGCTjhPVunvWPp3hHxGzbrbw/qk8ZQShobORwUOcNkDocHn2r3u/kiv9X8Tmx/49rTw/cWVuB0CoAOPxyazLvUtQtm8EQ29/PbRxaZbSeVFIVDMWwcgdeABzStdq3X/ADf+QNWi79NfyPHrTR9V1S4EGnafc3E4BPlQQs78deAM109gNW0mAJq+nXdqm4x7p4GT5gMleR1weler6zaXL2Pi+Dwurxai2oJ532bIlMRGeMc43HnHvXP+JbXWYvhd4fi8QedJeLdTZafJk2fw7s85x69sVnf3eb0/Gw+W0rLz/A5y2hvL2fGl2094+M+XBGXbH0Aq4slxBM0F5BNbTp96KZCjD8DzV3wVFJY+G9VvrrUNQhsPtEcElvpkYMzsQSCWP3VH65rW+IaeTp+gXSR3Qb7Iyk3Z3TFQ3y7z68/rVS0a/rpcI6q/9b2M2XQUvfDf9rCbH+lfZ/K2/wCxu3Zz+mKgHhq/ttPNybO4SIjIlaJgpz05xiuh8L3VvceDdOaUKIW15FkDdMeWM5rqrJ9Tbxhex6gZjaZlEyyZ8sRYOPbHTFVJWf8AXZP9RxSep5Tp+m6xemRILG6uY1OGaGFnC/XA4qhdeG9Rl8xrC2uJ2UgOI4mYqScAHA454r1dLMw6Lp++71Z1kdnt4NN2oFO7+Ju5z+VR6tfS2N/43aCRrdkS1w6HBXcBkg+vJ5pPQajfQ8v8N+DL9vEENrq0UmnyTHObyMx7V9cNj0rpdd06x07Q7zU9F1J7lNOdEuY5YdmQ52qynJyM9qTVL+6f4e6NcTzPcTLezxLLIxZtmAcZPvUXjCK8m0ax0DT4JLSylt4ri7LwlJLmXrlieSoPQdKO6/rv+RMbW0/rp+ZzUPiGC7+6gZ/pTxDcXcufuJVnTvDUOmQeZIuSBVaTVvNvvs8IwAe1UGvUtmySFQR8zetQz3CW8e+RwuKoa5r8ek2xDH5sV51qnii4viVDkKewpNhc7z/hKrRbnyi46+tbEdqmpqslu5x7V5HpOlXWrXigBgueTXsGiwx6JYKJnywHSla4LU29PtfsUI8xug71X1DXkjzHB8ze1ZFzqtzqMhhtVIXpmr2kaAUbzbv5m6807FX6IrWtrc6jP5k2QlbYWK2iCQgbhU3nRwt5SpgdOKSK1xKXPIpBsJEpmXLjmppHSCIliBgU53SJCTwBXJa3qzXM32a1JJJxxVDvZDb/AFF7++EMJJGa6XSbFbeAEj5sVlaFoXkKJZuXPPNdIsexfahIld2Z+ruRDgVQtIf9GLN+tWNRmWSYRg5NSyoIrD8KXULakunSDaQDVm4u44UJZgKxbOUxQu4Oa5m/1a4ur9oQSBmi4XsjX1LUPPm2qeKhawzGJYTn1qpb2xf5XOc960oo5bJDnJWgXqVoYSzejVfjcLxL1rPluGZt8PXuKswh7yH5htahDRJcXW0BeqmkjVIwHUcVIlqoTZMee2aheZYG8txlTVrawPuW94ePdGPrQWWVOPvClgUBcpyrUrWrCQMnQ1LGRIR0PBp5uTtMeafNp7nDL+NTLp2VVj170rAZy3E1u5AyQanimaWQb84NaX2KMgbuoqFhDHKARigdi1FGqIK0vDMbf8JdpzA8ecKybkM0I8rmpdMurmxlS4hfZNGdyNgHB/GhOzuKSumjpndLi3Onarqq6q91eQiJFd38kb/nO5gMZBxgUPDYwWeuR2lrJbx2ZVCBcOfNxJjLDp+HauRjmuYdQS4ibbIjh1bGcEHOa0G1a6H2kGYA3bBpsop3kNu9OOfSpLb965vTWmm3NrY232EWV7fyJsCzM5jiJxuIPc9h+NGq6RpVvZXJtvs8M9u4EYS88x5RnB3Keh78Vj3WrX13ukuHheViCZVto0kyOnzKoPb1qtP4m1O9329w0eyRgZSkKo0pHQsQMmqewjqNAWG48L3FhLgG8u/KjY/wyeXuX9Vx+NKbT7P4Nn08/u7qZoJZi38G+TaoP0Az+Ncut3cx26wwylY1mE4AAyHAwDnrUlxrN5cPc/argsbsqZiVA3bfu9uMe1HUXQ15tK0m4l1KytrSSCbT0ZhcNKSZdhAO5egznjFP1fTNJM2rWFrZtBNYxeak/nFtwyuVIPH8VZN54hv57VopJUIkA8x1iVXlx03MBk496qSape3VxdXDzfvbtPLnOxfnXjjpx0HSpLOlv9A0jT7a5ty1tHNbxbkmN5mSRwAdpj6AHnGOelU9S02ys7G91IIfskkERslLn779ee+3a3FUJNf1CSya3eVDuj8p5PKXzGT+6Xxkj8ap+JtYik8P2unWPnm2tQ7FpgAWdjnoCeB2+poBHmnjLX/It5ERvmrySeZ552kkOSTW34q1CafVJI2ztU1iLHJMQI0Zj7CgRJGA+B3r9Fbb/j1i/wBwfyr89bXRL+VxthYfUV+hVt/x6xf7g/lTsJHhn7RepDT9Y8Mb5DHHItwGYfWOvLNbitZVtxYfvpZCOc16x+0VBb3FxoMc8JmYxzhAO3MfNeR6Za22nsrXkx3qMIgOcCkRIqPJPb6mlrI4VcclT0q9FJFa3irfEtHIcK5Fc3rdw0Wr/bLEl1X7watC3vW1mwD3cirj/Vqo5zSsQeuWeo6g2lLaDV72S0K4ERuGK7cdOvT26Ve0y4udLV/7NuZrUP8AeETlQ34V554Y1OawYWmoufmP7sn0ruI7hSo2nii5vGzRffUrzzBIbu4MgQoHMrbgp7Z9PauQ8QpfRW8r2UswglIM8CuQsu3kZHQ47ZrozICM4qOeNZYyjchhzTCSujz3T7Pw7LqEOo6vb6jLBB+8MVgyK7SAggMW6L1zjn0rn/EGoHxT4x1HxDrkoiluptywKxby1AwqZ74AAzXU6vo1xp155lgGaFz+8UVy3iHR5LF/tKIxEnJGOlF9V5GOquibU9a8ReJIFsdR17Um0uLG2Ce6dlbHTIJ5x2z0qpFqvivR7CW10HWdQtNNY5aGO5dEY9zgHHP61LCIJIo1QvcTAenAq3MsckMazzeYy/8ALGOi4HNv4lvbq+ln1t5Lqab788zFmY9Mknk16RdfE+6ePSI/DGpXtotvpcFlPCJdgkdAQWGD78HrXL3ejLcRK98sdtCBwB1rmZ9GuobppdLZnROjdKfSyDqdyvjAwLcR3lxcIsxBlt1chZSDkFh3weeapp4/1+1ujDoWoXelxyDkW8hXd+ArnLPVVjVotRhV5TxubtU8F5NbaiHtY1uF9hnaKQGtZf25b3jauNTu11Bn3fa2nbzifXdnNdWuua1qcbLfale3Zk2mVrmdmUlenBOOMnH1rKhvbGC3NxOxlmcZEfofpWFf6xqGrRukJFtGDgRr95qA2dzsP+EjnsNY+3rqt1PqTf8ALVJm3dMYLZyRgAVl614q1nVdQMurahP5ij92xkLMv0PaucEi2zxxXH+i7VyXPU1cFyGtWeCLzIm485xzQAuo65quoyJNr17Pe/II1mnlMj7B0GT9aiFxqM9tGsF9KbO1DeRFLIWWPccttU8Lk8nHWltNEupZt9tmZG/vjgVuWei2en/8fsnmSddi0Bqytpl3rd/fLqKXl8dVjAVL1533ooGAA2c4xxit69uZr2VZ/Emq3Gq3arhVlkL7fYDt+FNWKc4cOtrbr26cVQn1nTrTzXsYvOlTq55GafQNjUXUtWvBAxu5rWK0AWBmlO6IDoF/u49qytQ8QxQ3kgWR7y9kJZ553LFj6knrWRda5PdlfKYySNyUHQVhNfw3FzM96hSVOFVe9K4XN238beItJupHsdUubJ5Tt/0eUoCPfHWoR4s1bS9XOpDWbz+0HHzXMc7eY3szZyRwOvpWHIzXLrHMfLQcj1qGSzkW6CQ5dX49TRcR1th4y1Z/EGmatr2o3+o2trfR3jwyTtJyrDJAY4BwMdqb4o+IetapJqEFrqmoLpV7dyyx2TzNtVHcsFIzjHPTpUNt4au1hjeQrFAfvBvStOSLTxCsNhaiaRTgvjoaOlv66f5Bre4nhO58Q2+mGz/t/ULHTHyTaxXLInPJwAeM98da6Ua3eWs0r6Ze3ZuLhlae4M7bpCvQs2ckjtmsYC3sYxNqkwyB8sYrH1HXzeSiGwGyLPO3qRT8x7Kx1+o+IbmaWO81rVZ7u5hIaImUkxkcjb6cgdKw7jx7qltdyXWm3s9pdMSWlWUh3ycnJ7596wbpIZY1micgr1Unk1iXCz3t0smNoXsO9Te2wrmvrWvX+s3X23VLme7uSMb7iQucegJ6D2qppOu6xod6b3QdSudNlbiQ28pTePQgdR9apX0qTSIBxIowFFVjMxysgO5RwFo22DfU77QfHE0+qHU9U1K6fUo/u3Bmbf8AnnNXdb1DxL4q8yZtTvTbtglJZ2KNt6HbnHGT+ZrgNHjtIL6N9QzgtnAr0GW/gvnjs7e48mHb24zTVrWHcrWXjjVLXSH0jUdXv7lF+RbdrhihHTbjPT26Vet7W81aOC41WeT7PbqRBC8hKxg8kKD059Kydcg0u3gWKyUyXWeGUZOay11PU5LmO21CY20IHQ8ZFPrcNtCfxRqEuuas7M8090pA853LuccDJPPStjw98Std0i1TRL+/u4YgQIwJSAB7elVlubeFv+JRameU9XI4rH1vS73VZ1UJmcc5X+GgPM9tsfETf8Itcxw3dwl9cTpOt0j8gjOctnOTmqGl+I7mz8UWl9r8896IZA3mM25sDsM15n4e8Sz6NdJpWs9OgYmvRytpqFjvQqQRwRVq179QabVi34i1a41XT3shdXMlo7FliMp2gZyBj2rz+51XWNOmjt7i8vIliQxQSpMwMSHqoIPAOegroIb1tMuPKuTuiY/KT2o1KOO9fcwUxY6ms2tBv3tepzGkavrHhISJp2qXltaz8nyJmUE+pA7+9bei+NNR0m7L/bpwZzlpxKdzE/3j3/GsVzHFM9rc/vIH4QjnFZV3GdJcpLuktnPB/u0eZK0Op8T+LLi0eG//ALWvJLiEs0L/AGhsxlvvbTnjPfFcDN4/1YQzQW08ttHcLsk8tyBIPRsdR9aW8Mlz/ozfNE4+Rz2qtp3hW/uJfKnUCEfxmmUULrxNrlzpX9iy6pdy6e0nmC0MzGMN1ztzjqc/WtTw5pGryW09v9pntrG6Ci4iWQqswU5XcBw2DyM9K3I/Den2gCxL51wPTmtmx064mgJuDtRP4Fosriv2Ltvr9/ZaOui22sahLbImwW4uG2BcY24z9326Vm3NhfzxBkG1P7orai0oJGklnDgt94kc1uWOmrbqWmbORyDVbhZtWOXm1nxBcaQLG/1e+mtVGPJknZlI7AgnkD3rMOpXTQxWZlmlt4iTHEXJVCepA6DNb+utbQMXeVEjHXnrXCXvjG0t5WhskBP9+lYVmdLZ3ctjceYl3JZOylS0chRip6jI7GsyXUL7TtYjm8M39xbXAGDNbylDj046jjpXD6lqt3czh55SV7YNaHhvUpoNRHlgyhh+VFwtodroniTUNG+Ien+J/E91fakbUv5m+TfIVKMABuOAAWzjgVf0fx7da5EmmazqNzLAh+SGWUlfbjPOP0ritbubu4uT5vyL6VlWttdC+SeNG2oc7hS0GpM9h1rxXq9hpgsNKvruG2/hWKZgF+mDxWJ4Z1GHw8dR8RmDUr3xRKkqW8zyjyV8xcGRyfmZxlj6Hj61q6HcWmqWCI+0uowQaqeI9Q/s21eO1t88dcVT1XqHmY/hvxhcIsljcTSW8joY5Nrld6nqD6g+lXNQk1BryCeG7nmFuoSLdIT5ajkBfQD0FecSRXuoXzXEKsHBz8o6V1WgeK9pFheKFkHBLUhbo9T8JeI9PVrm61iW++1yDJu7ec+cp75yfmz7mszx78RrO+0+307R1uZIrZmd5rtgZJHbucZ6VzU0Wxmks33bhyBWHLppuBJJGfnz8y0PsPmZWt/F2uaddNc6Lqt1p8kgw/2eUrvHuB1rZ0vxpqF5IkOt3lxeKMhWuJWcjJyep7nmuZWzEU5YgsR1WpJYA6eYhw3ZR2pEq56DJLdWluptLmQ2RfzTAHOwNjG7b0zjjNdJYeK72+00RS6lcSQKMeU0hI+mK4Tw/qDRWYt9QOQeKvyxvZTCa05gPLCgtd0d9Ya7ei1eG1vZ4om6okhArG103M8c5kvrjNztE+ZW/e7fu7uecds9KXRru2uYQYWGe4q/cWsVyMPzRa5fQxLOzlksYreS6ka3jYukTSEopPUgdAfetK9137OyHUJ5JyqhFaRy2FHQc9qq6pp8otwLRipHpWZJai/tDb3bfvcd6NmTtoixq/iO0axbypRkjpmsTRLMyTm8kPyk1mnwsU1FY5GZkz613VvaWtpp6wkgDFPcnVvU57xH4bi1u2/cH5q5/Svh3FaS+ZftkA967K5uItPUvG+70AqgZL3WGwQY4qLodgEVnYL5enIGfHUCnWunXVzL5t85VPSr9rBaWC4+/L7025ldQZpm2RjtRcLE0c6Wsmy1hz74qSbWriGMsY+ntXMT+OrC0YpGAWBwTW7omsW2uw5GOaB38x+l6u+oXPzREYPUiulMqxxZc4GKzdlppsZk+VTXOahr8mpXH2WxyexIpD2Wpb1zWTM32ezySeMipdE0VY1E9wMyHnmpdK0RIUEkw3OeSTW4oWNQBTBK7uwWXaQoXAqO+vPKtyc4OKc8iqpJrmL+9e8vPs6qduetIptJFjS1lu74yycqDxWrqkwS32DvSadbrbW4AqhrExMiIvrRsidkSWyqtthv4q5/U7NUvgR8pPQ10q4S3TI7Vh+K+LVZY+HFAmtDGa5ube8EYyR2IrROpXdtH/pC7kx1rn11KaJk+0RnJ6NitJNZzHsvIv3RHBxTEWbLU0e43BCUraa+h2Brbr3FYcWo6dGVRUGH74q7DZBZhPC2Yz2oGi7LK17GNjbXHb1pdieSBdcMOhqMw7pQ8BwR1FR3ji8/dE7XHenfUDStJTuCKMrV55zFIBt4rIsBLZQnf82OlT2+qLcyNFIuG7E05LUIvQ0bqZ/KBiFLBO5h/ecGqCzTR3G0jKGnXqzOQYeB7VLKFN3Ol3jB21YmijlIbdhvSoY5Qqqs33vWq17FOZVeJuPakBrxypDGEao7tnaP91+lQRqXiUyHBxVjzEjTk8UDG2hYJ+9p0yb2BU1BcuXhPlHmorF5QCJeaLAaKPhQtQyvHG24jmoSr+dkHinyxicdaoCdJVK5HSqs5WSQANg0IyQ/uyagltnaYOh4pAX1jAjAc01hsQ7aiZZNgyaejkLhutJjIoJXMp3DimXUsUoMTjrxTfOInxt4qWS3QtvPFJILnKah4GtL648xowST6VNa+C7GzALRr+VdP5qpHlecVEJxdAoRg1QaFCLS7KJcxovHtX0nbf8AHrF/uD+VfOvl/Zz83Ir6Ktv+PWL/AHB/KkB438frS6uptG+ycbYp9xHXqmP6143oF3axJJFPC0l2Cc5GSa9/+LWDc6Zn/nnJ/Na8N1/RZbe8GqaauJVPz89RR5oiS6mNquhyyu13cIURj/qlPOKwblV0y4SW1D/ZyQd2OBXfWt5BdWZdY2nnIwy+hrntU09LLJvQRayn5ogc7T61O5DVh15Na3llG9tcNLeEAoU7Gup8L61LcQC1v18qdOPmP3q81jWLSbtGDtHA5zE+elb00ttIUOmXMk92h3F89PakNSaeh6wsgCjPP0qO4nSFd7sAvvXN+G/EC31vsn+WaPhgTW3Okd3EVkG5KrQ1vpoVP7WiuWxbr5oB5bsKytT1iA3SW88KNE3BcchTSz2ZtJGMjrHZryI0GCahu7KK/sXjSFIomGQznnNGpDbOU1m1l0u//wBHk8u3uDnK9qt2QLwGPTIVB6vcSfzpbZY2LaVq24tjEUh5z9DVGWz/ALNuGs7q5mS07tnANIzLBuLO1uXW6mk1C4A+4oyKs+Y09uJdQ2WNt1Ea9WFZ01zJbRqmi2ixJ0+0OOT+NQ2EguLpd7SaheDqP4FpjG6npEWrsGsrVoI1HEz8bq520nvtDv22DcFOG7g13F5Azwj+3LrYmcrDFxjHbisueA6rGtppViIIH6zSDmgdyS1uItXdZ7SVIZoxkqx+8ahaaOa7ZGBtr3OEc8Ia53U9NfSL5UtJGkYDllOea3dO16z1S1W11pdsycI4GOaAsraFmK3u7i7aK7tPtkhO0S5+Va6fSdGt7KHy72RZWBysS9qyrG5uLGH7PdhktXPy3Cnk1rXWuWOj24SygNxO653df1pCVjRfzjC5OyygUde+KxLnxJpVm5issXNyf426fnXKan4kub95RfOyAjAiXgCorC+sHjSG6QJxwVGTRcdzbm1W5ld31FvMiI4WJuBWBeuLdhNavgSt/qAetXN8kVu0LKI7WRuHI+YioBFaQzJPEd6IcDdySfYUEkyTHyvMAW3YDG0dTVO8dHZVFv5ZPVj1Y1spoNzqBS4to2h5yZZD/StKDTNO08hZS99cN0wMgUWYGPp3hu+vY0lkHlw55ZuuK3rcafpymGwi+13Oep5wfrTbmS7ubkJqL/Y7FBwity1Ur/xRBaKtvo1uFI6yEc07D0Nh4TLGH1y72BeRCpxWNqHidIYnj0uERIpwGxya5+71DUNSuliO4Fz989TUtrYxade41QGZcc7WzigCJry71OGSYszBT8zHnFXtNtl06VJYJRcNIPmXrii4tzYR7rc7bWY58pOWxUUcptoTNAu2FuMZ+Y0hEWoBhdNN5oAY/wCqU81dhmt50BH7tlG1Yx1JpskcRRZ4MKGGCCckmrFr4cvbto5rGMx85MjnmjViMg2iS3LpKxgcHIB6mtHR/D1/qEewW3kx55mfqa7LTND06GZRcKbi6PViM81syyRWEbfbXSOHsOlXylWOdtPCdtYqXEZvJG79hVEta6ZqrJqLBGYfKB2q5qvjdbcLBpUGEY7fOYfKK4zUblH1AyXrtdSP0dOgNJoHbodAvjDTrG9MRtAGPAlIqxfaYur2p1G8u41XGYwprkdRtElhj84BZiuQfUVBpmqvptykN/G0trnhSelJMFrodLZa9cW0IsYlWPJwJiuM1rNKmjWrzyXoe4mGR3rPu/P8SwpFpdqsMCjmU1Rhgj0m4ZdVPntHyhBz+FMNhy6Bf+IJzO6sW7SNxV7R9avPCuqCx1Zy9uxwGJ6VfsrrV9QXzomWztQvHFYN5Zz6q8sSZusN80x7H2oDY9UKWWsWQaNlZSOCD0rBvtF1PckFtMTCT8x9BXFaFrd14R1QWeo7mgY8MT0Fevabf297bCaFw6sOMGguyZziLpumnyJlMk56DGeazr5tyNHqFv8A6PJ91sfdrtXsbea481oVLDuRWD4jvkUi0jtjKzcYA6U7EtWOInS30xxazZaCX/Vyf3atW0lxbTJBPMTaP0kFR3Fg1teCPUkzBLwhJ+6auWkMdvnTJoZJYn+7L1xSsSdFpNtum/0eNfK/vnkmugSzgtd0vqOc1yelXNxo92tqUZ7c/df0rM8WeKtUtpnjtFHkY5emUmjsLvxJp9khYyrtHGBXF+IfidGFaHThvOMZrze8vbp5C8krFXOetUmOHDLzmkVqzUutWv8AWZG8+dsdQueKo+ST8oG589q09P0a/wBV2mGHyo+8hGK7HSvDdnYxq0KfarjueoBoEcfp3h67vmH2kGKLuWrttJ0eK0UQ6dEXkI5kIrfs/DU07iW+cBOojAwK0bi/ttPAt7KHfIOBtHSnsLV7mda+FI3XzNRYPIfWsrxBbvpsYjtwqoeOBW7BZ6nqEge5k8tB2WrepaWktqACpdRwXotcLdjzjSru40m8NyJCsWcsGPWu1s/EGl+JF+zEjf3zXMatpMlpvmmAkA7k8VzAF9b3IvbNfK2nOOmaNUStND1S9sbLRLNmggDMR6V5frtsZLo3cHyOTkKtd9oGtxeItPNvdHbMowwPWrL6BpelQvPKu7vzzT3K1Oa8JeIVdVtLgbZehLV0V7aLBuuLbnP3gK4LWomfUPttjF5KKeM8bq6vQPEy3Vottcqsb4w27vUiGy6etxA1xasBn79R6fpJvP3cC4weXNWLp3tnaWwUun8SgcGiwmnMgu7InaTh4/SgRN/ZslhIY51LhuA3pVrTDNb3Btrs7oX+6TTta8UWmnRoLhQ7sOncVxWq+Iru6cSwuFXPyhe1A9jupY30W6WS0BMTHLe1dTY3qXMCujZOOea4Dw54lh1azNjfttmxjk1pWMp0G8ETM0kMh4Oc4pjWh3BbPWsXVLMRv9pjBLDsK0Yp1eMOpzxTWlL5DLxQW1cx4b13IMkQXHc1WW0u9R1AlpCIR0watXNh9pueHIUdQK0bOOO2TapoItcox6IEm3SvvHYGkv5zZoI7deTwMVYv9XtLFS9xKF9iawRq8euXQS0JCqeWosN2RPcudOsmvZcs4Ga4XVPGE18SoJCdNor0u4s4b6wNsXDcYNc1B8PrOG981zkZzg0uUGm9jiNN02XVrjCQsATyxFen6LplvoNiHJ2nHNNmm07Ro9kKKZccBRVW3hv9YlBuQY4D/DRa2wkrMqa3qV1q0gi04MyZwSK6bw9osVhaLJIo8wjJJqey0+1sYgI1WjU7qaO1P2UZbHSjYpLqzUWVCcAiklc7awNI8+TMtxlW7g0avqz20ZWAeYx4wKOg76XE1DUmdjBbv+89Kv6ZZ7YQ84Bk9aydL0ovL9rmB8xucV0Kny1x3oQtyR8RAk1zv2lbrVyCeFNS6/qbQ2xWJwJG4FVtGs5BbefccyNyTR1G+xpahdIFSMNtJ6Vna9Du0nJOSozUkqtcXkYABCnmrGtoP7IkBGMLTtoLc8+vNYhexWFkxIvQ1c0fU4Lq3+zXy7e24isuL7NdWzhhiRScGtHSmtL60e1mASUcBjxSRC3NSQ6ZbMkeVYE9a3LcARqbZw0ZHrXBw2KWd+YLyQujH5WJ6Vt27TaTMv7wvbP09qBpnTiEo5lhbPqBVJnS7m2n93ID+dQPcyWeLiEl4260txGL1Fu7Y4YckCixRt7DHbqHbmqV1GgkV42CtUQuvttmY922VR0rI8+WSQwzEq69PervdWJfc66G4RYVEzDd600PKtyCpyhrAjlMsPkzHa46GprPUXt5Ps9yevCtUq/Uq9zonijlO49RUc1wqRkRncRWP9pmt5iWJMbVDctNE4ntyWU9RQO5rR3n2hSv3WH6012aRDGxwexqirrdxiSA7XHUVdjPmRgMfnFICqZZrXKOSQelTWl1MyspH0NLKEkwspG7tTVuBbyBGXj1oQFi2lnd2V+narEQaByztwaha5WNd3agypeQny2oGOng89w6NU4mECDfVaAGCM7jkCmmaK6BUHkUDJ7i4LR7ojmkt5WeP5+DUFtEY2OTkVK4JU7OKAHyyKnzYzSiXz4+OKgiLEFX5pHLpGdg5o2AljTaSG5FOXy0c7etZ1tdy7mWYYHrTZd7Sh4WyKBBq2qC1jJdcgV9MW3/AB6xf7g/lXzPdJDdwmKUfMR3r6Ytv+PWL/cH8qBnmPxfmVL7SIywDPHLgHvgr/jXnxVXjIYfnXZfHK6tbS/0N7lgJNk3ljueUzj9K89tb83Y3eW0Y9G70dQOe1ezn0a7k1GwB8t/9Yg7e9R/abOaxJ+a7lkHLN0HtXW3EK3ULRSgMrDBFcXNpD6ReSop/wBHkO6IZ6ev9KxrTdODnE9DKcDDHY6GGqNqMr7b6Jv9DnLzRbuceSSJIgdyYb7h9Oav6BbXFgzpdRhA3/LRcGur8PeFNY8UXRh0e0abb9+Q8In1boK7gfAfxB9n3G9s/Mx9zJ/nXFGviJq8Yn2GI4fyLCz5K1eSfa8f/kTy27UWkkc2k7pJN2XDHAIrstM1SO7tlwMOANy+lZHiLwlrPha4EWsWjRBvuSDlH+hHFYianNpV9BOsbPASVmwM4HY1dLEVHU5JKxz5nw9gMLl8sZhqjla3VNO7S6JdzurlFmjwVDZ6Z7VgCBobjbO7XEzH5VH3RW1ZahBqFostu4ZG7028szcwFYpDF/tr1r0N9j4Vq5z+rRrNbFTJGt4o/dhRyDVSPy9b09tN1IeXdoOCepPrWipwWitrYq6HBnnHX6e9Zuo6cWmW8tJXmvI/myv3fpSIMSQw2sxsdYlkKocIoPDVfsPtLBks4o9PtQP9aR8xFMvt2v6bmG3jW/ib95nqtYkElzqV0LTU5ZEMQwIh8oalsI6FNQ0q03Rwq2o3Gep5yaLsytB5uo3AsbduRGnXHpVO9sJNOgg8i2ZFLZJhOSPc1RmULe5mc6guzdGGPIPpQIvpMrskWkWGUPH2iUfrXPazpMCXBW0nNxeMfmSMcCtCGSe6dk1e8azhXlYUGDWjZIwgKaFZfPn/AI+J15+oplIxNJ8Sz2DfYNYjMtv0IYcrXR3enxz2P2jT382BhkqD90e1Y2s6VCtq3267il1OQ8BOfw4rO0/U9T8LSbJ4iYZOsb9x7UWHozQezgksh9qx5IOTIF+YfWs2BUhuNqoFhc/JMwzxXX2ljbaxZfbrHbuZfniDd6n0q00mPczozzIxAhZeQfakSr7GHpuk3188otcyIRhZZR0+la2naJZ+HUDXo+2XLHIRRnbXQqk0lm3mOLGHsFxnFZGq+IINOjxp9ss0mP8AWyHA/XmnsPY0boSXNtuu5UtLbbnZnBNc7qHiOCwtvJ0hUUKf9Y/ce1c3e6zdaxIVuJWeXPyIhyo9sCp7axEMoj1mNwZF4bGcH0ouIimutQ1KOW7j8ybJwcjoParGnafbiAXU0he4J4TGefQ0qNd6YsrwF4tPkPfG78BUyF2jFxpW6NUyWlmYfOfpSDQfdzrf7beUR2EsQ7feb6VEj+RbtC8XlZ+9JIMlx7U2KzTUGFwx2zRDMksz459hRGJ9Sc21sn2i5J+Zi/yoPamIebqTT7U/KVik4EjjLL9KdYaJd3V4raaHeJx80kg+WursfCUMMS3WryvOyr/qv4R+FbcWx7F1KfYYc4U5AOP6UWK5TDsfDFtpEYlvFN1MedoGea3SUghWWdhbQKM7emPrWBrHiG4sykGiItzt+85OR+dY09/Jq9o5vL9xcElVtgvAP9aYXR0F74ot4ZRBpEe+RzjzCOB+Nc3qd7JcGSHVJjcTN91YzwKqX0t3PF9ilEFsYQCOCN1QWUBhhWC82o0x+W4zjFIljLeymacW+pyNHa9UA54qSTbaq0MC7LWRsLM68ipY51t3ktJc3RJ2wzBuBT2hZ7aVL1GnWMfJsI+X60BcqswhPlkfaEZdqzMMbTWe0ZluHSdgyKOCOn0rdTTJrvT/AC3bbbhcg7gAD7mqOnaPd3Ev2e1Q3ECn/W/dUfjRqBa8NS37Xr2NnJtgkHIzynvWrrEOn6Va/Z8G6uZTgnOTmrVpoKaVP5rahsnkGAFGcVDplvBHJdXLlL25jb5dg5/KmMyIBqxWGyv2ktrNuhH9a6Nb2y0m1Fjo0bXFwwwzKM4Pqar3Vne6mjXGsTraWicrGvX8aybTWpdPmdNNhjlRmwkz5AH1o2AZc+GNU1e+f7TuKr/G3H5VFo/iC98K6r9gml32+7GSelbk8l/Fp8suoatHC0gyFQ9B7ViDwpdatZ/aYnEiMcgn7zUDTsev2OqRXVqksLBlYdRS3ESuDIEBftkV5H4e8T3XhjUhp2qg+QDgHqVr1K31KG8t98DbxjjFUmWYt5pM19ubU5VVFOVA4xVWK/gsYWt5pRIGOEkAzj8ag1KS4bXljvmk+zuOAg+UfWtW7g0m30wRy7UVhhT3pXM7dihb+eiSLeXCiCT/AFbk81Be2aLZjT590rTZxLt4FP0+wRLXyb65EkTNmEPwa1o5nWHyLkwxuTiE5zmgLHmN14I1RL7yI03RE5DnoBWzaeErCwCtcqbiYdVHQV122eWZLW8lYnruUY3VpS20EFr/AKreOmAMk0D1OaijN1GsKJtjBwQnQVp2k1tY+VDbRl9xwSvOD71PHpjzLE9vutVDZZMfe+tadvawWinYihick470AkxLKO8WeRrqQNG33R6VYWG3iZ5Cig+prM1XxLY6XCWuJ1DDoAcmvNNc+IF9e+bHZMY4s8OOtBZ6Jq3i/TdIJWWUb/7orzXX/HN7f3BFo7RR54wa5WWaS6k3zyM7k8sxojVmfy41MjHgYFAHTab4kuJriGLUXM0JPOa67W57SCzWRINo2jDY4rB8P+GY7a3W81bChfmCGtnULe58RrHBZwNFbL1d+M0GbORa8a01GO50st5pPzAd69Mt3m1XRFZ1Dyleh7GqemeFNPsExKQ8zDliapPcz+F9S43SWch5yc7aNh7blxfDyIvn6tKuF5CdAK4bxBc28erb9PY7UOeOld7qAtvEMKm3m38fdVsfnWKfA2+RZLqZVjH8AH9aPQLD/DfiKHVYRBKyxsowR61dukbSJDc2iM0TH5xXD61bJo2siXSnyE+9t6Cuz0PW4ddscOxLouGjHegRjazp8d8o1AOTEfveorLjgFtzBEWik4Dv2rpTbPpsxE0D/ZJCchu1Zt+kUbGKRnaB+Y0UdTSEYV7b/Yb1HtpsvjO5exrudEv49Y0kQTSYnHGa5cWGbQeblSSdsQGWNWNJF7aSGaKIYjP3O5oQXO50vVU0+4XTrmQtL/CTXQCbeeK5S3mg1a3NyIVF1GOAeua0dJ1YyxiO7Aim6bTTsmWnY3gFHJxk1i36S2lx9ojZnBP3RWqmOuc02ZRLGytxQx2uc9qGgR65JHO8hGOq5rVs9LstLiwgVTjk1z98LzSLgfY3eRZG53dFqC7+2ajIqS3eyMdRH1NF7E6HTPNa2gaZGyRzgGsaXVNR1aYpZoYo+m81etNDhAWQu7cdCalvZFtFSKBMFjjg4xTGR2GgRwyefdv5j9yxpdZ8QQ6VbYh2luwFV9Xu5LPSW2bncrxzXmlzqlxOCNpJzgk8mk32Fexp3/jnUGvP3JPXoK7/AMM6rJqWnLJdJtfvmuB0DwtNeXK3F1hYuoB6muza9t4G/syyys23GQOlJaAmzT1PV47V1ghQsz8fKKh0zSGSZrmd2becgHtTtL0w2yb7p/Ok9W7VbvdXt7BMSuFY/dGetPzZXmzRBEYwoqC5uRHGXY4wKgtdQ8+33su361janqMGpyPYwyMGHBIoHdWKau2tap88Z8uJuD610h/0e3ODwo6VU0vT00+3VAST3J71FrFx8qwLuBkOMr2oEtNWGmXUstw7um1c8E96n12V5NLkC8cVWhEcDRW7uxbrwKm119ukygf3aNbAjiJkgWxV42USKcsPWrAtoNT03zbH5LhBztNVI44UgWWUCSM/eGeRVm4094LP7ZokhRSMstJEEMVoNRiNvcOUuE6E1LHPdw4sLsbgOFY1l28V3qDi6t7kebGeV9avXOqPdw+RLblLhejUAdBpjTRBoL1cRN901YUPpU5dTvgbt6VjaPqryp9j1NWRuiMw61pCf7PL9lujujf7rGgpbFq4UMy3lk3+8BST266hGJoCBKvWqkW/Srg7svbyfpUk0LxYutOfcp5ZRT8wJIWWb9xcfJKvQ+tOdkMgiuBhh91qbMFvrQTxqVmXrUduW1GExSqVmTo1XJX1JXYuQ3vz/Z7ocHhTVhT9lfa/MTetUYbaSaMxXIxIn3WqzAzSg21yOR0NQWMmU2NwJ4eY26gVK7l8T2zdOopFZoZfInXch6GopbeW2nEkGdhPK1IyfzRdpkfLIO1Ftd7pfIuB8w6GnG1ErpIh2N3FSzWw/wBYFy4HWgZZYRsmxu9R28SWm7a2e+KzZJpJ1KgFJV6e9S2sc06h5SUdevvTQGjFeR3BaPoaqCJLe83bsbu1Si3VH8xetQXrxR4km7GkxmkzYjJTrioLa4kckSDGKWCZJIQ6nII4qleXMsMqlFyueabAt3F+lsw3DrT5bgmDeozxVaSFbuEcc4pUZbaIRzMPamARSfaYzkYNVgJ7S4/vIxp13vVd9v29KfDctcW+SuGHrUgLcwmUB4+DX03bf8esX+4P5V8tx30iTGKdSM9DX1Jbf8esX+4P5UwPEv2ibWSSXQruHBktUnYA98lP8K8r0zUrvUjHMsyW8af6yM9a9B/ah1efTbjw1FE5jjuEufMYDngx4/nXzxBdS29xJE1yUjnBIlGeaCHe57LHqVtL8sNxG7dwpFVNRtJNQ1GxtYRmSeTYo9SSBXj1hqM2k6mk8bM20/MrcZFeqaJ4iie+0nVUO9YJg7L6YI4rmxP8J38vzPoeHXJZlTcd7St/4DI991/U7H4T+A7e30yFHuWxHED/ABvj5nb8v1FePH4peMDefaP7ZlHOfLCjZ9MYr0j4yW9vr/hix1TTbqGdLZt7osg3GNh1x+X51wyab8OToP2ttV1EXnl5NptG7fjpnGMZ71yV3Pn5YuyR9Zk1PC/VfbYik6lScnze7zNPz7HqPhnWbL4reCLmz1eBFuU/dzBR91sfK6+n/wBavn3UFt9G1C80jU5PKkMhiBA7qTn+Yr2b4L2sGi6HqGq391Dbx3Tfu0eQbti5+Yj8T+VeCfEW9Oq+IbjVrccPcyOqnuCR/hWsXzOnKW+v5HlYyCoUMfQo/wAJcluyfMrpf10Ot+HekSXmua1awx/aYF0mWW13ttCzBkCnJIHc9a7y28LXcfhO4+22kaX0t3BFbsJVbhiQR8pI64ryHwt44khOo6f9iWSHUNNkst6ttMRfHzdDnGOnHXrWp4M8cyeHLe50GRA0jXsN1BdPJwDGSQu3HOfqK9BtaW8v/Sv8j4aOmnr+X+Z2ereCbSdZZbTV1vZbB1S6hWFkC5bblSfvANx2o1DwLYWn2/7X4lEUWmSql2kdk/yBjhSuD85JwCOMetW5PE2nrDdNpmmvby38ivcs8+9QA27ag2jAJAPOazte8SreR69L9lZBqrxPxJnytjbsdPmz+FTrp/Xb/glNLUoP8NpINbvrsX/kWNksRNxb2jzvcCRdybYlwc45PPFc3448DzxXyxwShrh1jkhmVChkRxlSVOCp9QehBrqYviG0s15HcW19aWV5Fbo8trfeTNC8UYQMjbSDkDlSMc+1YlzqB1DX5L2yju/s7IsYF3dyXDAAdd7kkknJwAAM8AU9FJdid4+f6mq2v+GtA8SSeC73RUu7KzP2W4v5Hf7VLKBh3U7gq89FxggdeagsvBGn6RbWd8mqsx1m4aGwsjaFmdxIE+ZwcKORyfXv1pniPXdHj1JfFd14X+3a3Ag3P9s220sgGFleLYSSMD5QwB5zVLQviJPq+naJbTQRpeaTLJcC4DArK7SBx8mBtwRjGfypR3Sn9/8AX9fo3boa/jD4UXE8C3ehXgubqC4jgmiktXiUl32AqzcONxAz75pB4Y0mPwv4hNvr1vqE+lxxxSLHbyQeRL56qxUk/OpAZc8fqKsaj8SotP1MBYdUSa5uUuFa71J54IWVt2yNMD5ScfeJx29axvFniTSLHTdcXTfD8scviDy2uJHvd4jKyB8RqEGFOD1OeR6YNQtdN/P8P+CFo3XyL+veDfDWnw+LbxGiXW9MuoY4o7W0cQxs6kqqgscBiuMknbjPeud0XR7ObTdY8ReMo49Rh0uOIQ6fvKo8sjEKXKkHaME4BGelT3fj6XX38Sn+xnt4NceKbzEvArWrxghSSYyHXnkYU+4qh4Z17TfC9vf2N3bHX4dRjVLqz343lTuRlfB2sDyDzURvbzsvyV/xv+YOzNC00ttZvtBksfC174Vu9RvltvtkNlKunXMMgyjqHbIf2U4I5z2q2fBmkavPdajaeJ1t7fTJRb3F4lk5LXJJzGkZILABc7sjipLHxctjd6XHpegnTNG029XUZRc3Qaa6lAIG5goCgAngA+tctZeLtP0q31e1vbS5vtKv9QF6ptLkQy20w3cqzIysCGKkEe/GKbt0X9af8EXXX+t/+B+J0OteE9TstO1K+u9Rjm/s/wCyvbuoIjuop92xwDyuNpyCOvHvS3PgG0v/AO1Tq/iBbFNLtrS4mnNqWG24UMFCA8kZx7n0qQfE7R/Elnd6ZqujsLS8it4IbWG8KNCISSg83Ycnk5O3v2q1/wAJVo2p6f4xbxHpqWi3dvp1tBYrqIWSQRHZuidlySuA3Kn0PrSe7t/St187jtFvXt+N1+lzj9e8MWehTWEVlPBPaX9v9ptdSVGjMi5IIKnlWBBBGTVFYLr7HPd/ZvMhgcRG6kPyruOAeeTVjxLrsPiCTT7Kz09rO10+3+zWMTTiXAyWZ3fABZiSTgAdB2qlaP5qNaXsbXlwvEezpS/r/Il2LFpc/wBk6ql5Jp8GqW0a/Ml2rGLJGOQpBx3612XiNdLj0Pw5u8PWlpqWoSi9nXS43Xy7M/KoxI7Dc3LDp0FY2jaB5bwS6/I0tojgtah9gdc/d3V3s17aaxfatqd+scbNbN9lQNja+VWNR6hV/lVdP66DUdShrmg+HYW8P6wvh+1giubSQyWV3I8qu3mFQzEMpLYA6YHPSuttvDek3OqaNp8eg2djcG3e8vEtN0fybcxx5YkgkAE88ZrjtU8Z6dBFop1GwF2dLj2NCsvM/wA+7+6do/Ouen+I+pR+Lj4hmkt5oZt/m2TOR5qOpVkyOR8pwD2wKFZX9X/wP68g2X3f8E7Txdc6fp2jwahFa2LyPO0Bn0m4MtuxAzsbcxKuOvuDmsPUdJtNR+H1lfveSHU7zVBaRWqxna5IULHnOAed27HfFczqfijTdd8OLoOh6Q+jafDc/bZ5Lu78yWV9u0HIVQAASBxz1qvo/jp9L0OHSW04Xl1BqYv7G+8/akcgCjDIVO4YUdCtHRp+X5q/6g918/1Oj8QfDR9G0W+vdO1PzFs3RL6F7SSFVy23dHI3EgDcZAHrT5vhhb3WmxXXh7V2naC5hjnuGs5I4/3rBN0UjYEoBIz0qv4g+JloGlkhtdUuru6nW4mt7nV5J7W32tuKxxYA2kjo5bHQVe1n4tW7Wtxe22n300upXFtdSJdasZFg8qVZPLiTZ8qnbj8R6YIvMTStoRS/DfQmXUTdeMA9zpN0trfyJYSZiclgu0Z+fJU55GMHr3bN8OLY6hrsev6rL5OjmGJpbOze4YiRSyP5a8gbeST06c1yGvfEkarZ+JEtNM+xya1exXQkE+Wi2M52kbfmzv68dK0LH4gW2seKtT1qXRdUt7u68jyptI1Z4J4xHGqFC20qyNtBPygj1NEd9fL8lf8AG/8AwSppJ+7scFrDtY6tc2FnqCXtvBIUiuYchZFHRhkDrW9pzaxbadb/AGnTS9tdg+RICMNg4Ocf1rpLq0/4SnXtS8Q6zp8Vi93K0v2aIZCj69zxye5ye9aGnRrGqpZ2gigC48xxgn8KUU7K4SSvoM8KeBbjUtVij1C4BRj5hUn5IUAyzN7AV2fjKw0uCPTToEQsLKezDliPmcb2Xcc9CQAa5HT/ABWfB9/ObG+NxeXi+W8ZiSXK5ztwwIA4FZHjf4kaj4t0+1trtYrFbOHy2hjRA00m4nd8qjaMEDbyOM96puyVv63FGybv2/yOxj0W3nl0aKxuY3i1SCaVrxo8rbiHPm7ueduB3GcisLS/htqM1tHdWusNBqmrWxurSzXT5WidCCyB5x8sbMBkA56jJ5qPS/Eq6H8F7zS768sILvVZfLtIophJPbxOMTl1H3AwRQAeTkmobX4mhtHsra6tdXeWwtRY272msS21pMoBVHkjQbtyjH3WG7HNEuqXT+vw0X3hG2jf9f8AD6kXhTwTJ4k0lJJfEMl3dyRSXBsY7GZ4YtgJ2SXH3UchTxgjkc8iunfwHbarpuh2Wn6lBHc61DFPFC1qxCRtnJLg4BGDgDkn0rJ0z4pRaZa6bbz6df3FzptgbFEj1Qx2TjYy+cYth/efMc8kHr1rDtviUn9p+HrS+0//AEHSrKKykU3DDz9hb59ygFPve+Md+lJ/HZbafr/wA0cfO3+X/BJvEHh/SPBOowRXWoPq7sGHly2jwSwkHgMjE8HPBz2PArsvC3hO88TaMstrqiWcsyOYbKKzd1jwDgSSjhCcdMHqKzPF3iO01/QbPS9Mivb1rRpGjur66+0zZfBx5m0YUY4FWtA+I/8AYSaLBrdpqAn0uAwpHFqPl2c4Jb948YQ5cbvXBwDTWkWGnMYOj/CBPEa2M+t+Jk0++1X57S3Nu0paMsVVmbIC5IOBz9RWt4X8Pp4W8qz8UeI4LIX15La6Ypt3kM/lvsLsRxGpbgZz39K6bw1q+kahF4cnddIuxpkgX7S+riB7WNHJAeAjdIRkldvB4zXP3OpabqCRN4j0hr3+yr6a605orvyd6vKZBHKCrZXcc8EHnFN251bbX7tLfP8ADcSvy+f66/h+Pcvanpp8+5s7gDzoHaN8HowODWHbae6zE3kIlEfEbE5Ncjp/jvUD4rv5dbYFr25eVwg4RmYnj25r0e3lSWISKwIIyDRHVK+5ckubQ4fXru4vbn7PJEbYRnMZHLGrOias4mTT9aT9+v8AqpGHBrrHsbaSXz2jVpPXFY/iPRF1O1X7ONk8Z3Iw45osTZ7mmzKU8u6lVHf7hU4qe2lmExhkT92q/LJnrWDYxTLYwjWPL+0JwpJ6mtiG8XiGV0EpGdoPUUDF1HXbLToWeadBt6881xXiDx3JsUab/q5OrnqK1Na8LW15FcSxIzTSDI5715tfWM2lytbXilmPQA8rSYNsr31zcT3Bmd2kB/iNQJuEiiICTd/DitvSfD13fgK58qA8lmFdbouh6fZHZaQG5mzzKR8o/GhCucla+FL++k8ycLDFjJPSup0PQ009glnbfaZD96VhwK25Le3sSJNUuQFJ+VO30q5aX85vvJhtNtsVBWUdDT2DVkMWkJEhutVfeRzt/hFQzeIS7m10m1aTAwGA4Fb9xBHdQ+VONwPUVDDBbWQ/dxqg9hSHyvoZ1noUz7LnUZ3eYnOwHAX2rB8YRag12ke0m0IxhBzXSan4itNMtmllbJHQVhz6/DriJFbTgPJ2x0qebogcUkcnJNfaF5c9o23B+ZAcnHvXb6bq1n4j09FMh8zHzqDjBrJ1PQPsWls6yFt3LsRuY/SuUt5Ljw1qcUsQfypMEhx2qkrbi8jqL/Rb27uDb2kAhgzguRktXO3iT+Etcjktj8o++B0NejrctqWlRzWUwG8csBXGazYTTSvbWdtJcu/Ek0nQfSqYtjttM1C18R6WCCpLL8y+hrC1DRkS8it7kskYbKOP5VyWk3154R1cJNnymPzCvQLqWHxFpYeE8jlGHY0txtXItLfTINQaBkxKvCs/f6U3XLE2sv262cLj7wHQ1k2cTXTC3uz5d1Acqx6sKy9bv55i0V/LKrhsRRRjh6XQnyLdlryR35KfIWP7wqOlbd7Ck3l6nau0hTkqv8VcS9x9ngMk4SNuFEYHJ+tbXhnWzbzbLjC2z/dyelCBHf6Pqa3loHKlD3U9RWkWyOO9cNNe/wBk6mt2khlt7ggYXotddFcCWFZE5yKZaY+58naPNAPpxWMsdjb37BYz5nUZ6GtcsW6j8SKr3UPnRMU2h8cHFGrG0QX+tx6dZ+Y2CcdAa5qLVrrXrrzbeMCOM8Z61qw21tqCGC5KtKmQQKks4rLQrd/MdV2nJwKCNWaNsovLbE8RUgYO4Vky+H9K06RrqYADOTmp5/E1sZIobUF2l6YHQetQQafdTzSyahKJYn+7HjpTuPcll8y9jhOluI4gck46irEs9npbrPdbQ7cFyKq6nq9toljwQpx8qiuE1bxFPrCqkjBF3cLipbB6Hpdvr1ldv5cUw3noM9aZqWlW2pbDPnKHINch4f0GdZI7mUkJjI5wRW/ea44vEsLeFpGYYZuwFP1BO61H6nJK1olppbjdnaxB6Vf0zTUsoQXAaVvvNjqar6TpMenK7lizMdxLGtEXCH7hDDvzQNImmnSGIsx4xWFYP9tvpLkTFo1PApNX1eNJUtEjaQyHB2jpVu3hisbAmGPAxnFF7sOo2GRpdU8xHVkUY296TxRKw0ObDbTtpulRhy84hMbMehrP8Xzu1rHbJy0rAZzTtoF9LnN6alqLdY9SDQs3Q54NS3TajpR8u1lWS0k7t2FUjpLX9x9ned43jGVD9DTZL6/tVOm3lsJAeFYnrSJJY7XUtNvlvLeISRNywStK+1C1vlSSCNluY+Tx0NU9I1ufSo/Kv4HFv0DMM4ovtQto5BfWEqnJ+ZMdRSEbNre2ms24ikxHcxe2OamS6DOLK+XL/wAElZUtrBqlqL+wkEcqjLBT1q5YzW2qWAi3YuUHfqDTHqXI7qa2uxa3vzwvwjYq2YpdNfzLf54W5KelUbO6juw9jd4E8fAJ7+9Wra7NpILO8JIP3HPegaNVZ0e1LwqMkZ20y1uEeF2jTEi9QRWbJDcWF4J4P3kD/eX0q1JcsjCaFA0TD5sdadxli11FZyysu2RTgimpfgXpilXaf4TWbcwurG+sW3Hqy+tWrGeHUoRI64lTqD2NSVc1bjJhJX73ao7aeSSPEy4IrJ/tSW11AxXq4iY/I/atC7V7i1P2VtrdQaGMu5XIJ7VD/asYuDC/yn371UsZ544T9uG1l4z2NTzW8NztkwG75FNCLWFdgwUZ9akxgVQW/jSYW/Ru2e9Tys7KNjc0XGJemYQkw/eHSo4wbm0AuU+bHIqYSsUGRz3qtcyTpgwru55FIBzzCxhXapIzjAqxuWaEPt6joaYMGMb15xSq2RgEY9qYDoJWKkMu30qvqFr58ec4I6GrBYIu4niovMW4X5GBHtQBHp/m+TsmHTgH1pbq6WzYEr8vciicS/Z2ERw2OKz7aZ7pXt7xPmHf1oEaIkiuVEigN6Gvp+2/49Yv9wfyr5VHladHjnbX1Vbf8esX+4P5Uhnzr+1YFku/C8MjJGHS6/eMuduDF0r52WI5EUh2JnKSsv8AKvo39qi3S5n8NIzhX8u5KAjrzFXz4kX2pTDdt5Txj77nt6YoJe5Erb1aG5CiQc72Byw9q0tA1S302WaG5kdYZMFCRnaec8D6/pWQrAyBZVPmA/K5PYU5Lc3kjFQxI5c+lZ1IKcXFnXgcZUwOIjiKW8e+2qsekW8El1EJLfEiMMghhUraddKMmL/x4f41yHhXWP7Jv/sVwQY5DxJnpXpEbpMgYHII4rlWCp92fU/644/+SH3P/wCSOajmSSZ4lYB0+8G+XH51m6pO4kja0HmtGCWxyoBx6cdq19e0bMTXNoCJB97/AGhWfYtcXsQgtmWHYMScVpTwsKcuZNnnZhxLjcfh5YapGKTteyd9Hfq2c3Ok9hsvbWXDSn51XoPbFalvKfENqkYs0Qwnd5qnbtPr70zV7OLTp8Iyyq64dM8/WsqG5vNGYrF8sM3ORzxXSfNHeeHtaeUm0uGAeMYDMeW/CtV7CS6kP2mdnjJ+50XFcOWW7t45NNikjuIzuYqOv411Oi61HeRhJ22yr8pB70K3Ua1NVdLsshjGrbBhQeg/CnXUfmQNEjiMEYBHGKkwC2QMU8hcZwAavQqxyNvNJYX0mnajK8sEv3HY9/SsnUtHGi3sd3p5byt25uc4rsdV01dRtWRcLJj5Xx0NYFrOWWTSNT/1uNqOf4hU2RDTLdvep4i0naQnmr046H1p1ldsjf2Vq+1mI/dMf4q5ee3vPD+p/upSsXYgcGuhKr4j0tZAyrcR8hkPINCYblHUNIu9McKJJTYMfnVSM49zUkd8YYxF4bslcj70jDj86uWd7Jd28mm6gds0fAOfve9YcMWrafeNYWQZIpGyJCucUX7BYsXVlKzC51+/wSufsyNjJ+lNCyajAlpZWIjts5eSbrirEvhi4tlF00pup2PzBxkH/CnRieZ9t7LHbWy8eWp60hHNalpv9n6h5lrOZNrBj5X8GK3NP1mz8RQ/Zr2JFuwuFdu/0pZbmJzJa6PaMzMfnkZetc7qekHSmSdJ1Mu7JjU9DQPyZ0kNiYZo9P1VzHGT+7kVRg+2a6ywsra2tGFhEkbYwJWGd1cjousx69CbTUCElAwh/rUl/fXulxCxlmaOEKQk570bBax0lxqNhZW6jUrpZ5N2QMZOfYVk6p4lk+0Jb3DNY20g4YDLH/CuPa6lu4Y7fywryNzcE9eetDNKlzMLhvPbARGPODQBo3d1dwsz2ayCzcANI6gt9c1BL5FvOJNPzezFcsJFG1aYJzZvHb6lIzxBThAc8+lEtlLGjXSZht3PzKG520CJbh/tEKXQLfb8j9yiEjHpipXlOo28j6zItmkPCRqnOfWqb6ittN9o0xCqBdpY85rOla4u/wB5G8k7lucjrQBeXUdtusMIRfLORKqcuPpTbSymubvFlHK+/hx3HvxwK1tG8IXF4qtegxRnnHeuxsY7axK2ltEcjhnA6fjRYdjndM8Cq0qy6ltAB5RTnP1zXTafb20BlhsbL7OqDHmlQATUF8bSyk+13twzFc7Rn+lZFz4juLtSbJDHb9Cw6mnewPQ1ZtRtNH3TXl01zdMMFEOfyUdK5/UdevdTgkaKdbSBAcoD859qyrmYCdpNPZ2ki/1xcZqQxQhftdgzzXB+aRCMikK4lha+fH59lKbeQDdJLI3zZ9BntTY2NyZBbwM9394zSNnGKWZo7m0E0khFwpH7kDH51Xl1+3eZfkKogAKIMEjvzSFZsRrSK9ErXkkkt/8AwqhAUfWpYpUZUg1SWSIQgbEVMZP4damj1LT9TvFjs4RaNtwXY9qiuIkfesTGfyzlXUfdP1pg7kZuri7ultZrhUts8SFAG+hqtdJbu7pncQcB24D/AEqRLi0dp/tsbm4xhQlW9K0W/wBcijhuE8q2TkOR8x/GgLGzo98mkWKCOTz1lGVJHCfjS3ug3Gp7rvWL4bMEpGgwAKbe+H4tIsgfOYxRkMFPc06ytbnVJhc6ifKtEH7td3WjXYZU0/UjpsRtLQI00hwjHhf/ANdWJLFYtMlk1HVCXm5CF+AfTjk0/VFhlkjFjafKGwZgP5Vl2kdppt1IusjeYzuiBOc0CCTwwJ9M+13N3Gr7coRwKl8LeKJtIuPsGptuhJ+SQnOP/rVYklvPEClIrRbe1QfK0i8/WsjWtJsorBWivQ9xH1B6sfTFUUj1qK4WVAycgjIxUjbdvTJrzXwf4sKImn3shyDtRj6elehGYeWCpzQWZ+tadHexh5Z2iZBldpxWHpeozx3Bs7x4zOAfJnOCSKs69aSXMqzXNyI7ePJIHBrLt5odRWOW1swscJ4kal1IZ2dtdCRfKlkV5owN+0YxWNqlpYteqy2/nz5yEA6/U1Dp/iCK8BX5YJ0bawP8QFb1rcW06+ZGAWBxnFIe5lRaRc3e77W4hi/hjiGAKlnmubSdLextQYwPncnFbBbGTu4pp28HbkmmPlsZVhpm6RpLt2uN5yBLyF+grZ2rHGBnGB0HSqslzHAhaV1RR1yelcTr/jGRbopp9wpjHBBXr+NGwaI7ee+t7aNpbidUQDrmvO/EnjGa4uWi0u4JhAwTjH5VhX95PdZklmZogeFzxmqEkYcB7dSxB54oFe46e9ub6X/SbjLKMgseKht7meO7SWFm8wHjbWppnha/1F9zp5MXd3rrNI0Sx06YLBGbu4H8WOB+NOwXQ3WdS1D+y7KSKZo/MADDbyPesyWKS/jMLLJdSk7fNB4A+ldsNJFy2/USpA6RjoKeRb2UZFhArt02otBNmZ3hK8ggibT3dfOjP3cYzW1qsV09owsAgdu57Vzuo6Rf3EiXlsgt50bIA7it+DUFS3WCeaNbjbyoPejoNdjkJ/Ac9zbyXF7dM1weQo+6KqeHNVn0DUvsOqEiInCknha6zWNcewtOE3uw+U+9ecXiXOoXDzyZlnJ5xwFpXBnpWq2Vrc+VqCyunl/MChxuFYeqxw62iT2oKvCM5bAxTfCXiKK8tF069/1ycDd3FXLrR1s7ie7SVjG/3kxxihischIWlJYp5s8Z+eRyNq1cs7G3lIS3hkvXblnbhFrVsfDi6pOJ3aMWp/5ZxnGfrXR3GmqdONvbAQkDgrxigLXM+C8sWhOnXEflOFwM9AfapdFvZdPkFhMWdeTG7EcisnW7eOO2i891+2J0IHLU7T0uL2wMs8qm5jOU/wBmgWp3MUyyJnNP3jbxWDpGofaoCGI8xThgK14juXk1SNN0U7+G4XmxMcbk5Ykdazl0pE1E3F7cNK8gx5Z+7W7Mm4DZ+dYxYade7Z5HcSnjIyFpCdjRS2hX51iVGA6qKpDWoYdU+xyAkEcMT1PpVTXLq/dBBpy4YjO7HBrOsvD09yBNdO8cucnnNIV+xY8S6DJqssclswyDzk8CobHwxbWDGfUSrqvzDI4WtW4u7fQrLdcSFh2zySaz7Rr/AFktNdHyrVuiEdRTBpFq4ln1WGNNGnWODOHYDt7VrWVrFaxLuYM/Qu3U1y2peJbPQ/8AQLKP5wOw4Fc5DrF9d6gRHLK7bs7FNK+obHpupvcmAC0VHB+8D6VnvNDpVk0sn7ln6gnvUj6gmnaWrz9do475rPjs31lhLf4WLOYwetAyPQbeabUJbqaQsjHKgitO9uXuboWkLNEQckgdRVqae30u1BbAUDAxUdpFI0jzTEOHPy8dBRboC2saEQ8mAANnA61xfiuS5ur7ybb/AJYp5hIPQ11lzOLe3ZsfdGeK4T7XfSNd6jbxK6s+Cp6kCmwexWt5dT1FFeGeMyxfeUrhvpU17q8WqIbO5tpI7uPo6jJzVX7TO91FfWcCqQf3gQ/0qzqV/pUs6XcUvk3qc4IwCaRIaPqdu0b6dqqnkkBpBirQ+xWVyLedIprRzhWH8NQxXeneILdra4CJdY4ZR3qG1sIgW0u9UBiMxy0wJtV0z7DJHc6azLasfmEZ/Wp4NEaFV1KwuXlYclCetUzDfaTMLR7lmgcfKzDIq1ZyXvh9QZiJ7WRvvD+HNIDVkhXU4Bc2nyXcY9cEH0NSW9xBqUYtb87LmLqM459apXsktiw1HTQZY25kVe4pk8MGvKt5p8/lzpzjvn0NBR1NnFJFCY53DRj7pNUbiZ9LkaVMSWx++P7vvVC01tLmJtPvT5U6jb1xu9xTYLw6fcfY9R+aBziORv5GgZtx3EK2Zntl3owzgVTlvX+z+fpcSl8/OpGDVKeSXSJleDL2bn5gOcUXLS28i39h88Lf6xB3FAGhJdQajpzNMMFR8y45Wp9JuYWsR9nmMwX161myIJcX1iQysPnT1FQm3ktZY73TFJVj+8iFMDohIl5AylSOxBotIBZxlFZmX0J6UJIfJDKuGIyRVK21JprhreZPLlB49xQMuNJby3AAAMifpVncVX5aotpyfa1uQxVx1x3pH1VFvhasjLkcNjg0thli2uZWmeOZMAdG9amuJTHEWjXcfSml1AqrNfOk6RmPMbfxDtSAfZ6gl6GXlZF4ZfSkt7WeC6d/N3RN0U9qQmODdKqgHHOByaljuBLGGU8HtTAnedD+7cgE9jUUEKW7M0fAJyRUU0ayMHcfd6GpI5UdcK2aYCjUI3lMWcN6HvUN2/2dfOVd+OuKbNawvIsrDDKcgip2ZZI8dqQEMMkWoWxY9D2Pavqu2/49Yv8AcH8q+SZ7uHTmG5CFY8kdK+trb/j1i/3B/KgDw/8AaM8PazrV34en0LSr3UJLNJy4tLZptm4x4ztBxnafyNeG33gLxdfxCVfCHiD7RnJD6XMAP/Ha+4l/4+pP9xf5tUlArHwvP8OvGN5DG3/CK66J1AAB0yZQP/Haj/4V544SBpf+EX1wyA4ZBpkw3D/vmvuyigLHwd/wrzxnNFhvB+vRndlf+JZNkf8AjtdZ4X0Dxsi/ZNQ8K65GIxhZH02YA/jtr7FopDWh8yf8Il4hdSG0HUyD62cn+FctrXw98VW10LjS/DurkMf3ix2UvI/KvsSimI+Op/A3iK5hEUHhDWN5HLzWEq4P4rWHefDLxrEwjl8P6zPCQSBHp8rbT+C19w0UC5T4l0rwf4608LbP4W13Y3Vl02YgD67auXngLxTa3kNxp3hjWi3V/wDiXzf/ABNfZ1FKwcp8v2Xh7xJNCpk8O6ujY5D2Eo/mtWT4X8RMR/xIdU/8A5P8K+l6KZR80Hwt4iH/ADAtT/Czk/wrF1vwD4iulE8Gg6os8fKlbGQ5/wDHa+saKBPU+RH8C+KNZ0zyr7w7q0cgHX7DKMn/AL5rE0zwh410S/dIfCuuzRA8kabNhh7HbX2tRSsFj5C1PwD4ovFjv7bw9q8VyvO37DJk+33a1NI8PeKLmAfa/DGrQyLx+8sJRn/x2vqmimFj5nk8J+IJIyp0LUwGGOLOTj9K5jU/hrrVs32qLw5rVyy8+WllK2f0r6/ooCx8WxeFvHd/IUTwnrNjDjGTp0ob/wBBpG8C+JrOQx2fg/XLqZz880unTBfzK19p0UBY+Grz4YeNrIrdW/hzVjNnO2DT5jj/AMdrbsvDPi3V7JrTWPB2uK6j5XfTJgD+O2vsqigLHxM3w78XBDBdeGdbMSD935enSt+BwtOi+H/i+5tUtJPCeqwx5yZDp0wJ/wDHeK+16KVhcp8NXfgHxhbuyHwZrd0d3ySLp85wPwWqh8DeO3JX/hENf8v0bTJuP/Ha+8KKYcp8VaR8KPEtwwkufD2sQx4+7JZSg59cFa6qy8C6tpu2GDwxquT/ABCwkI/PbX1XRQOx8vP4S8SRzec2i6uyr92NLGT+i81j3mm+NZXH2LwfrUaHO5306XI/DbX1zRQFj4m1PwT40nvUkg8Ma9cHbl/M02YL+q0zS/AfjK2/eN4V1svu5jfTpgv4fLX25RSsLlPipvh34vEn2tvDOsKsrZkgjsJuR/3zVO98JeN4ZCdM8Fa9bxtxhNPmOfr8tfcNFMOVHwU/w/8AHUszTr4Q8QIQOc6bPkn/AL5psfw18bvCZB4R1xWU/wAWmzAn/wAdr73ooHY+BX+HvjYspTwXr6kdf+JZPz/47XR2fgbx1qFtFEfCuq2e3h2fT5V3fhtr7XooBq58lWHws1eB/Nn8P6lLN/eazk/wrZ/4RTXraEsPD+qfKPupYyH9AtfTlFMLHx9qXhvxpq0zQ2/hfV4oAOGm02YZ/wDHa5+/8FeP5rdYV8Na4qwjhY9Nmw347ea+4aKQuU+KrPw/8QrjT1sf+EU1qGUHHnyaZMBj/vnrTr/4V+Jo9PMkui61c3OQQV0+Vz+i19p0UBynxhY+FvH18gtZvDWs2cSL986dKN3/AI7WhdeBNbkCQnw1rbOf9ZINLm+b8dtfX9FAcqPirVfhnrfkbtL8K68s0fQ/2dNz/wCO1t+GdH8YywJbaj4U1yKSNcb5NOmUH8StfXVFA7HzNN4P1y4j2y+H9RcejWcn+FYU/wAN/EtxJ5Z0jU4bfGPKisZAPzxX1tRQFj5C1L4ceIY1iOn6BqizocjGnykEfXbV/TvDvi+dIifDeq2+1sSJJp8o3e/3a+rqKBWPm5fDHiDGP7C1L/wDk/wqhq+ieJrKzaS38M6vcyAfKsdjKT+i19QUUFHwvdeDvH+pTStL4U8R5k5CnT5lUfmtVovAPjcK0U/hDX2GCATpc5A/8dr7xooFY+DIPhh45uvk/wCEV1pF9ZLCVf5rXTaF8NfEGnRmS78KazJN0UfYZCD+nFfZtFAmrnytH4J8T3GPtOhanHFj/VLZyfzxV5fCWt2MOIfDmplQOAtlIT/Kvpuigdj5k/4RXxJcqfO0PU0QjhfscgP8qki8I67BnyfD+or/ANucnP6V9L0UBY+Y9Q0PxJbWrPF4Z1edgOESxkJP6VxGt+A/Fs8cOp2XhTXIrsNl41sZWP8A6DX2nRQFj5I03wj4i1nTVGqeFtailXgibT5VP4ZWlvPC3iGwj8jS/B+ryOwOWGnS4H47a+tqKYuU+FpvAXjaG6F5aeEteE4bc2NMmwDnt8vNd5oOieK9QsMal4W1i3lHBEmnyrn81r6topDsfKK+D/EOmTyCDw/rTiU5wunylV/Jal07w34vRnGo+HtUYDlWWxk5/SvqmigVj4+1bw74svLx4LbwbrLbuBO+mzAD8dtY1j4O8bafqSkeFdcYK2JH/syYhh7fLX21RQHKfJo8JeJLa/S5g8L6sEl4lP2GbP5ba308Na+YwRoGqD2NlIP/AGWvpOigaVj5v/4RnxBnP9h6n/4Byf4VTvvB/iG4iYLoepq2OGFnISP/AB2vpyigZ8rWug+JYYmjn8Oa1MU/i/sybn/x3morrS/FLwmOz8K64JWU7S+mTBVPv8tfV1FGorHybp3gPxXPCG1rRNRmfOQhsZMKfyqXXvCXioaTImn+H9V3AcCOxlJ/ABa+raKAsfC0fw28cXk2W8LazgnJM1hKp/Va6+18Ba1odp5sfhXWJp8fwafKxz/3zX11RQtBcp8i2ngfxZql2bvVfD2rRIv+rt2spOPfpWlL4O8TvdKp8O6n9nQcEWsmfyxX1RRQFj5Rh8H+KLy9LyaBqqW68bJbCUEkd+RW2vhfxAi4XQdSx/15yf4V9J0UDsfKviDwz4mFkUtfDesSPIdv7uxlbHucLXMW3gvx5pkrOPC+qSW7/ejSwlY/gNtfaNFAmrnxIPCPiq1vPtFj4P8AEY3nLxvpM2CP++aZqvw38UXe28tfCmuF3OWibTZRt/DbX29XOeLvHvh7wRarLr98I5ZBmK2jG+WT6L6e5wPegOU+S7f4beJL2z3w+FNasruMdW0+ZQfzWn2Pw98X3sLQ3mha/DcRHKyNp8u0/Q7a9dvP2nrNJiLDwvPPF2ae8ETH8Ajfzqv/AMNQ/wDUof8AlT/+1UwseR3vhX4gsz2UvhHWLhOiyjTpv5hal0zw743t4jZ6v4M1+aE9GTTJmx+S16v/AMNQ/wDUof8AlT/+1Uf8NQ/9Sh/5U/8A7VRYdjza08L+MNMuMR+FdcnsJT9w6bNuj/DbmnXfw98WWl0dS0fQNWG7l7f7BKN34ba9H/4ah/6lD/yp/wD2qj/hqH/qUP8Ayp//AGqlZhY4KbwPr+tWaz/8IvrNreKMgyafKpB/FadD4L8T6pp72mq+GdXSZOBJ9glwfcHbXd/8NQ/9Sh/5U/8A7VR/w1D/ANSh/wCVP/7VTA4TTPCfi22ZtO1Dw5rM0Q4jm/s6UqR7nbU48J+JtLk8oeGdYntpDx5dhK2z8lrtP+Gof+pQ/wDKn/8AaqP+Gof+pQ/8qf8A9qpWYWOStPA3iS2ut9toOprbyjLxtZSgg/TbV2PwZr8MjPHoeqYbqv2OT/Cug/4ah/6lD/yp/wD2qj/hqH/qUP8Ayp//AGqnYDmoNC8UG7khl8L6sij7r/YZSD+O2rbeE9dZw58PakXA4b7FJ/8AE1tf8NQ/9Sh/5U//ALVR/wANQ/8AUof+VP8A+1UajMOHw94hkZlPh7V0K8fNYygH6HbRJ4T13G5/D2psRzxZSH/2Wtz/AIah/wCpQ/8AKn/9qo/4ah/6lD/yp/8A2qizAxP+EW8RMmV0HVPobKQf+y1DF4a8TSb1l8O6opXofsUmD/47XU2f7T1m8wF/4Xngi7tBeCVh+BRf516p4R8e+HvG9q0ugXwkljGZbaQbJY/qvp7jI96VgPm6HQfGK6xJbz+GNYNu33JBp8uB+O2tG28FeI4Ll5BouqlW/hNnJwfyr6jooA+ZR4c8QOxjbw9qw9zYy4/PbUEPgvX7ad3i0LVcN/D9jkx/KvqGigD5gXw74jaVo38OasB2b7DJg/jtoh8H+I4Xc/2JqjKxyAbOTj9K+n6KAPmGfwfr13EUk8P6mVPY2Un/AMTX01bf8esX+4P5VJUdt/x6xf7g/lQAL/x9Sf7i/wA2qSo1/wCPqT/cX+bVJQAUUVmeJdTk0XwrqupwRiWWzs5Z0Q9GZUJAPtxQOKcnZGnRXC6pox8OeGm8Q22q6lcapZxrcSyy30rx3fILoYi3lgMMgBVG3IxitO/8VXFk+q2n2aNr+3ngjs4snEyz4WNj6YfzAcdkJp21sSmnqdPRXCXnxAkgvrt4PsL2ljdG2ktyzm4m2sFd1wMDB3YU53beozWhB4g1y+TXp7K0s2i0uWa3hiJYyXEiBWHPRQQcd+fTHM3W/lf5af5ofW3y/P8AyOrorh/EPi1LrQdSlsIBc2EOkJeyOJnjZjKf3aBkII+VWJIOeV9aNZ8eTWWpalDY/YSmlbVlgnd/Oum8sOVj2jC8MACc5ORgdab03EnfY7iiuL1jxxdafa6gLWwS4vIZIWtICxUzwPH5hb/eAjmGPVB61vaPrJ1e+1IQov2O1kSKKUZzIxjV2P0G9R9QaB/qa1FFFABRXA6VocfiDxN4snvdR1iOa11QQWxt9VuIkhX7LAwAjVxGfmZjypznnNSweLdQHh/SWkvdKju545RJJds2+don2ZjhQZIbGSQcLkcHND0Sv1Sf3q4dbev4Hc0VxVn4i1bWdW8K3VkYbWy1KylnuLaRWZsjZkZ46buOB3yKfF40nHiW2spJNMuYLq9ez8uxleV4CA5DO+NuTswUwCpPVsUr62Dpc7KiiimAUVzvidprvUNI0aO5mtINQmk+0SwSGORkSMtsV1IKljjkYOA2COtQXFoPBVpfalZXV5dWfkgLptzcvMTMWCoUkkZigJYAjkdCMc5V11D0OporkrvxVf8Ah6S4j8S29tIV0+e/hexLAMIiu+Mhu/zphs85PAxzVu9X1zT/ABFpEuvi3itDbXVxILKR9q7IwdjhvvkdQ3GeeB3JPlXM9v6/r+kOzvb+v6/rudvRXF6D42uNS1WwguRYvHqSsyR2jO0lqQm8LISMMCARuGMHAwc5rtKpprclNMKKK43xTZjVvHnh3TLm6vorSW0vZZI7O+mtd7KYNpJidScbm4J71PUpK52VFed6jfSeH5tR0dpbq/s7e40yW3NxdyGSIT3PllDKDvcKU3fMTndg5HFbMfiq7fxfJpczafZotz5Edtds8c9ym3d5sTEbX/3VB4BywPFVb+vu/wAxPRanV0VzekaxrertBqMNnZ/2TcSsqJ5jeesYJAlJ+6c4B2dQD1JGKi0/xZcXmiaJfNbRq+pX7WrqCcIAZeR7/ux+dTdaeYdf66HU0VyWieK7vUteksrr7BbOHmUadIzx3arGxAkAYASK2AflAADD5mrKPjS6v/C+tXF8tgskGlT3UulrNLBd2xVT+7ccMQeR5i7cHpnrQ3ZX+ZUYtu3nY9CorlV1rWLyaS10C1sythbQvMbuR/3rum4RKRkrgbcud33uhqpbeMdU166KeHLWzWP+ybbU1a9Z8nzTJ+7IXp9z73b0NN6X8v6/RkxvJXX9f1c7WiqOh6omt+H9P1WOMxJfW0dwqMclQ6hsZ/Gr1Npp2YbhRVPWHaPQ7542KutvIVZTgg7TzVVNSXTvB8epXRaQQ2Syvk8sQgPX1NNRbV0S5JOzNaiub07xLNPdtBcNZSloHmVoHZVjK4yrlh7/AHvY8VXh8YtEbg3htblI7N7tXsi235SoKbm4b7www/Kr9jO9rGbrQSu3/X9M6yiuZlvtUtdbsW1byUh8ieVhbO2PlUHawPUjsf0FN0zxXLeXlqkotXS8ViiQFi8BClgHJGDwMZGOfXrR7KVrr+t/8h+1jez/AK2/zOoorkH1bWLzRtKvwkCPd3UPlQxOwGCrZ3nuOhwB271dk16+tJJrG5t4JNQEkKQmJisTiUkBjnJGNrZHPTjrQ6Uthe2jv0tf8/8AI6KisI6zeWiX0F+LJLm1hSZZWlMcLqxIySclcFT6549eKA8W3ItrwKltcz2724SSMOkcglfb3yRjB55H8qFSk9hutBbnWUVhf2hq8l89hbpZPcW0Ky3LtvCtvLbUUdRwpyx/KrHhiaW48M2UtwzNI8eWLtuOcnvUuDSuNTTdkatFFQ3jFbGdlJBEbEEduKzk7Js1Su7E1FePeBdQhuLXwiNIuvEUut3VvDcaidRmvTbywiMec4+0Hy2+ZlwY88lcfLmu5svFdxdaHpl81vGr3mptZMoJwqiWRNw98ID+NXKPK7Pvb8bfdcjm/K51FFecaX4wubHQtOszdQfbbye+f7VqDu6xxxXDKBgcsfmUAZAAB54AN+Tx1dtpVjcLDa2SzSzxXN/cCR7WExHAOQAcOOVZioABzk4BkpancUVV026a90u2uZDbs00SuTbS+bEcjOVfA3L6HFWqb0dg3CimTRLPBJFJuCyKVbY5U4IxwRgg+45rzux0jTtH8VeJLq5vdae00SG3uoo5dbvJFX927vlWlIfO3o2RUtpbh1SW7PR6K4zRPGtzfapa293/AGfIl7E8iC0dybVlXdskZhhgRn5xjkYwc5qCz8eXL3LRytpl4JbCe7ifTpHkjiaIKdhkI2yZ3feG3p93vRJqKbfQF72x3VFcTZ+JfEl9d6dbR22lxvqunG/t3ZpCIFXy9yuP4ifNXBBXHPXHPSeHtVfW/D1nqMsIgknjzJErbgjDhgDgZGQecVTTWj/roJNNXRpUUUUhhRRRQAUUUUAFFFFABRRRQAUUUUAFFFcBpmqX1l8WNcS8vJpNLvLiO0hikclLaZLWOUbR/CHDSZ90HrQtXYdtGzv6K8x0bxHq/wDbPi3Xd8t3aGytb2xsWYlUtw86koP7zpHv9yyg9K7fTtaOp67e29qsb2NrDCTcBsl5XBfaPYIUP/AxTsDVnb+un+Zr0Vw/iK0mXXru61u31ufTDGhtLjSbuRRZ4X590Ubh2bOSGCvxxx0OlpXiM3OpT6fBMl9b22kW17Fe55uPMMgyQMDnyweP7xqb6NhZ30/rb/M6aiuDsNb17WNesptLFvH9s0G2vJFuXdoYmZ2JAUHJJzjORwvfpViHxhqmqXel2Ol2lnDdXtvdtMbh2dIJbeVImUbcFxuZv7vGD7VVn+f4X/yEtdvL8UmdpRXF6b4t1a5XRrjUbKzhtdYMkCxwSu0kUqRu+dxABUiJuwI461n2njK4tPCvh2SFLPTba70xbk3WpyzPCrYXEJlJ4Jz992zx0bnC/r8/8h2Z6JRXIar4uvLHXIrNjptjCYYZEmvpHWO7dyQY45cBQRgdck7h8o61CviOaDXtWsNOtFa9m1hLOJpp5Gjz9kSVpCCTtAUEbVwCQOhJNOz/AK9Uv1FudrRXHXfi7U9PimtLiztJNTgv7W1OyRlhlScgLIMgledwI5+71OadN4p1jT7PWYrzT4Lq/wBNeAg2gkMbxSnHmFcFhsw5YDOQuR14XS/9dP8AMV9bf11/yOvorH8Nas+sadJM95p17slMYn0+QlGwAfmU5KMCcFST2OecVsUDOc8e+LofBHg681mZVkljAS3iY48yVuFH07n2Br4y1jWL/X9Wn1PVrl7m7uG3PI5/QegHQDtXvX7T13KmmeHbNSfKmmnlYf7SBAP0dq+d6aEFFFd78KtOstRuPFA1Czt7oQeHrqaITxK/lyDbh1yOGGeCOapK9/JN/crjiuaSj3djgqK3/Bmj2eueIktdTttWubUIzyJpEKPN2GSXIVFBOSx4H45Hsvh34YeC9M8bWJkW91K0v9Ie+tYbt4JlQqcOWaP5H4ZduMrnJyeKmTUd/wCt3+gj57or3XQfgXo2veH7e/t5tbxqiyzWc4a3EdpH/wAshOpO52IwT5fHOOMZPkmhw6fp/jWzg8Uo32C3vVS9VQT8qthhxyRxzjnHSqVuflbE/h5lqYtFe++L/CumeIRpp07SPDsukTa1FarrHhqZYnghkZF8uaLaQX+b72Tg4+Vc4PM2Xw50i2uNduy91MNF8RW+nwRzFGjmjadVbzBt+Y4PbA56ULX+vT/NDl7sb/11/wAmeUUV7t4x+HfhDWtc8U/8I+17Y6poxhmubZYo4rTy2AysSgZBCjOTxnsQeI9W+E/gHTn15P7U8QBvDyQz33EL745ASEj+UfPx1PAyOvNTze7zDtq0jw2ivar74ZaVoL+MYbO7nntrbQ49QtTcW8Ekg3B/lZmjJHK5ymw89eM1m+J/hn4d0vwGNZ0GTXNWPlIx1K2NtNZ7sfOGRW81AMEEkHaeDmi6/r5r9BLV2X9bf5nk9FeseLPhnoGj+Cl1fw+2uatgR/8AE0ga2msXP8eVRvMQA5GWBAIwc5zWj4j+HHh3T/EHibVvEV7epomkLbRCLToLeOeWWVEP3VRY1A3f3RnPXIOaei/ry/zGo3R4tRXs0Hwl8KpPqd/eapqkmhxaPDq9q8IjWfynL5RwVILYTjGBzXFfEbwrpPhjUdLbw9c3dxp+qadHfQm82+Yocng7QB29Km9v69f8mCi3/Xp/mjjqvaPrF/oGrQanpNy9td27bkkQ/ofUHoR3qjRTEfbfgLxdD438HWeswqscsgKXESnPlyrww+ncexFdHXhP7MN3K+meIrNifKhmglUf7Thwf0Ra92qRhRTJ5fJt5JdjybFLbEGWbAzgDua4EfFbPhi11j/hE9c/0i+Nn9mFvl1xzv8Acdh7gjtQtXb+uweZ6DRXOaX4u/tLxpqXh/8AsfULf7BGH+2zRYhlzjhT+PHrg+ldHR0uHWwVHbf8esX+4P5VJUdt/wAesX+4P5UAC/8AH1J/uL/NqkqNf+PqT/cX+bVJQAU2SNJonilRXjdSrKwyGB6g06ijcDmbfwTDFJBHPrGqXem2zq8GmTyRmGMqcoNwQSOFIBAd2HA9BWhe+G7G/wDElhrc5lFzYK6xor4jfIwCwxyVy2303GtaigDBk8Kj+0ZZ7TWNTsraecXE9lbSRrHK/GTuKGRc4GQjKDz6nN/S9Ig0lr027yN9tunupPMIOHYAEDAHHyj1q/RQtPy/r7kD13/r+rnNxeBdKg8O6ro0Ul0LfVJHeZvMBdA2AFQkYCqAAowcCpb3wotzf3FzZavqWli8wbuKyeNVnIUKGJZCyNtAXchU4A7gEb9FAGRP4asLjxNa65J5pura2e2VN+UZWPVgRksAWAOejt61J4d0C08M6JFpentM8ETMwad97ksxbk98ZwPYCtOigAooooA5eTwQDqmpXVt4h1i0g1Sfz7qzt2gWNm8tYzh/K81cqi/dce2KszeErYTWkmk3t3o/2W2FoFshHh4QchD5iNjB7jB5PNb9FH9fp+QGBbeELSytdFhsr29gOjKY4ZA6M0sZxuR9ykEHAyQA3HBFQW3gm3t7myb+1dSktdPuTc2lkzRCKFiGGPlQMww5+8xxxXTUUrK9wCiiimBn6zotvrdrHFcPLBLDIJre5gYLLBIAQGUkEZwSMEEEEggg4rNh8G2rwXg1m/vtZnvIPs8lzeMiusec7UESoqc85ABJAJJwMdFRQBz8HhC2ZrltZv7zW3uLZ7PdfeWNkL43oojRB82BkkEnA54qO18FwR6hbXmoatqWqPaxSQQpePHsWNwAykIi7uAPmbLe9dJRRurAYek+Gm0q5hYa3ql1a26GO3s55E8uJcYHKoGfA4G9m9evNblFFABWHrvhn+2tTsdQg1fUNKu7GOWOOWyEJ3LJs3AiWNx/AvQCtyigadjnm8GafJpslrPcXk0s93DeT3ckgM00kTq6ZOMBfkA2qAAM4xnNOufCiXmpLPdatqM1ol0t2unyOjQiVSGUhinmABgCF34z2xxW/RRt/X9dkLpYwbPwolhqCSW2rakljHM08emiRBArsSTyE8wrlidpcrz0wABXtvA9rbX0Ey6pqT21reNeW1i0kfkwu2/cBhAzAmRjhmbHbFdNRQG5z8fhKMatb3l3q2pXsdpK8trbXEiFIHdWUkOEEjYV2A3OcZ9hirL4Dt7yGeHVNZ1XUEeymsYftEkRa3jlG1yrCMFmwANzljx6kk9VRSsmrDTad0c/eeEo55/NsdW1HTGkgS3uPsjR/wCkIgIXdvRtpAJG5NpwevAxZsPDOn6ZqEl1ZCSLfYw2CwgjYkURfZjjOfnPUnoK16Ke9/MS0Vv6/rQp6PpkOiaJZaXatI8FlAlvG0hBYqihQSQAM4HoKuUUU223dgRXVul3ZzW0hYJMjIxXqARjis220DyrNrO61K8vbNofINvcLCF24x1SNW6e9a9FNSaVkS4qTTfQyF8Ph4JoL7Ur69hlhaDy5nUBVPX7qjJ92yfzOWL4ZgkmaXULy6vy1s9qROUC+WxUkYRV5+Xr15+mNqin7SRPs4djHg8OxpeQ3N3f3l68MbxRi4ZNoRgAQQqjPTqefepLPQ/sbxgajfS28KFIbd3XYgIx2UFsDpuJ/PmtSihzk9xqnFbGS/hy1fR7LThNcJHZMjwyI4Dhl6EnGO/pTf8AhHLd4Z/tN1c3FzM6ObtyokUpym3aoUYOTjHc5zmtiij2ku4vZw7GOfDkMkFwLm8up7mdo2N05QOpjO5NoChQAcnG3nJzmmf8IvBI1xJdXt5cy3BhMkkhQH905ZcBVAHJweP15rboo9pLuHsoPdf1/TM280Zbq++1wXlzZzNGIpTblf3qAkgHcpxjJwRg8nmrGm6fFpemwWVsXMUK7VLnLY9zVqilzO1iuVJ83UKbLGJYXjbIDqVOPenUVDV1ZlbGFbeEbC00vQbKCa5X+wVRLWYOvmMqp5ZVzjBDL1GB2IwQMVofA9rDfRyrqmpm2hvTfQWJkj8mKUszNjCbyCXY4ZiBnjFdNRVNtu79RW0sc4PBdrBZ2senahfWNzaSTNDeQmNpQJpN8iEOhUqTjgr/AAjnIzU0nhqY2dtHb+ItZt7iDfuuhNG7zbzk71dGj69MKNvQYGQd2ikMp6Rpdvouk2+nWW7yLddqlzljzkkn1JJP41coooAKzU0GzXUNUu5N8p1SOOK4ikIKbUUqABjPIY5yTWlRSaT3Drc5+z8Jrbq0N1rOqX9n9na3jtLmVBHGjDBGURWc44BcsR165NQQ+B4Vkje91nU77ybSWzhEzRKI4pAoIASNckBRgnJrp6KJJSvfr/X6gtNjJtPDlpZXmmXEUkxfTLFrCEMww0beXktxy37pemByePS1pOmQ6PpcNhatI8UOdpkILHJJ5wB61coqm23diSSVkFFFFIYUUUUAFFFFABRRRQAUUUUAFFFFABXPap4K03V7PVre5mu0Gq3EdzJJDKEeJ0REUxsBleIx69T2OK6Gigd2tjH/ALHt9LurvUrG1muJZLOG0FnGyBSkRcqF3YAP7w5yccDp3g8FeHj4Z8LwWMn+vZmlm+fftLHhNx6hVCoD6KK36Kd3e4v6/QwNR8LSXmoT3Vlr+q6ULoD7TDaNEUlIG3P7yNyhxgZQr09eahl8D2Ie2/s29vtLjhs1sHjs5EAngXO1GLKzDG5sMpVvmPNdLRU2VrDuzmP+EHggazl03V9T0+4s7CPT45oGiYmJP7yvGyknjnHGOMc5uWPhTT9OvdOurZpw+n201vGGcMJBKyO7uSMliyA5yOprboqrv+vP/h2JabGJH4UsYrXSYFluNulTPNASy5ZmSRDu45GJW6Y5A/GqngxLbR7HTdN1zVbGCztBZ/unibzowMDcHjZQ3+0oU8/THS0Uulh3ZzN54GtbrT102HU9StNKNqlpLp8UiNFLEo27fnRmXK8EoVJ+vNSz+DLCWS9mhubq3ubm8S9S4iZN9tKsSxAx5UjGxcEMGB3HtxXQ0U7sS0Vkc8ng60Nvtu729u7lr2G+lu5mTzJZIiCgIVQoUbQMKo79yTVq78OxXNxf3EN9e2dxfLCDNbSBWiMRJUrkEH7xyGDA9CMZrXopdLf1/WgrK9/6/rUy9F0NNHa7la8ub66vZRLcXNzsDOQoVRhFVQAAAMD65PNalFFAzyf9obw3LrPgKLU7VC8ukzea4A58phhz+BCn6A18s19+SxRzQvFMiyRupV0cZDA9QR3FfNvxG+Ampadey6j4Kha+sHJdrJT+9g9lB++vp39j1poR4rXQ+DvGV74K1K5vNPtLK8N1atayw30TSRtGxBIKhhn7uOeME1jXlheafMYb+0ntZRwUnjKMPwNV6pNrYD0CD4u39nqS3mneF/C9j/o8ttNDbaaUjuY5NuVkAf5gNoxz3PXNO/4XP4hGuabqcVhpET6dby2sUEdsywtC+PkKhuAuBjbjpzmvPaKX9f197DpY7s/FfUpNMexutA8N3cKvKbT7Tpok+wrIclIQTgKDyAQew5AArktI1i90LWrbVdMl8m7tZBJG+0EA/TpjtiqNFPZ3B6qzO+1T4v69qEMcVpp+j6Qq3qX8v9m2fl/aJlYMrSZY7uQD796n1b41a9q1nLbPpWi2yTXUV5Iba1dDJLG4YMx38k7VBJ7DjFedUUtv69P8kG56JrPxp8QazZ3kLado1lJfNGbq5s7VkmnVDlUZi5yvb1xxmqGofFPW9Sk8RPPa6ep8QxRRXWyNxsEYwuzL8H1zmuKopWTVh3adzu774t69f/2n51ppy/2lpqabNtif5Yk3YK5f73znk5HTiopfijqZ8NXOj2Wi6Bpv2yAW9zeWGnLDPOncMQdvPfC9zjFcTRTJ2O3n+KWqP4buNHstG0HTFu4lhurrT9PEE1wo6hip2885wo6nGKn/AOFv68/iDVNTubHSbuLVY40utOubZpLV/LACNsLZyMeuPbgY4GigabWx3F38WPEN7JrJuI7Fk1ayWwaJYWVLaEbsLEA3GNx67qwPEHie98SRaWl9FBGNLsUsYfJVhuRM4LZJy3PbA9qxqKLaW/rr/mx3a/r0/wAkFFWLOwvNQmENhaT3Up4CQRl2P4CvYvhz8BNS1G9i1HxrC1jYIQ62TH97P7MB9xfXv7DrQI7z9nnw3Lo3gKXU7pCkurTeagI58pRhD+JLH6EV6xTYoo4YUihRY40UKiIMBQOgA7CnVIwooooAKKKKACo7b/j1i/3B/KpKjtv+PWL/AHB/KgBrb0uGYRs4ZQMqR2J9T707zX/54Sfmv+NSUUAR+a//ADwk/Nf8aPNf/nhJ+a/41JRQBH5r/wDPCT81/wAaPNf/AJ4Sfmv+NSUUAR+a/wDzwk/Nf8aPNf8A54Sfmv8AjUlFAEfmv/zwk/Nf8aPNf/nhJ+a/41JRQBH5r/8APCT81/xo81/+eEn5r/jUlFAEfmv/AM8JPzX/ABo81/8AnhJ+a/41JRQBH5r/APPCT81/xo81/wDnhJ+a/wCNSUUAR+a//PCT81/xo81/+eEn5r/jUlFAEfmv/wA8JPzX/GjzX/54Sfmv+NSUUAR+a/8Azwk/Nf8AGjzX/wCeEn5r/jUlFAEfmv8A88JPzX/GjzX/AOeEn5r/AI1JRQBH5r/88JPzX/GjzX/54Sfmv+NSUUAR+a//ADwk/Nf8aPNf/nhJ+a/41JRQBH5r/wDPCT81/wAaPNf/AJ4Sfmv+NSUUAR+a/wDzwk/Nf8aPNf8A54Sfmv8AjUlFAEfmv/zwk/Nf8aPNf/nhJ+a/41JRQBH5r/8APCT81/xo81/+eEn5r/jUlFAEfmv/AM8JPzX/ABo81/8AnhJ+a/41JRQBzWqS+Nf7Sl/sWDRvsXHlfazJ5nQZztOOuenbFVPN+Iv/ADw8O/nN/jXYUVsqtlblX3HNLD3bfPL7zj/N+Iv/ADw8O/nN/jR5vxF/54eHfzm/xrsKKftv7q+4X1b+/L7zj/N+Iv8Azw8O/nN/jR5vxF/54eHfzm/xrsKKPbf3V9wfVv78vvOP834i/wDPDw7+c3+NHm/EX/nh4d/Ob/Guwoo9t/dX3B9W/vy+84/zfiL/AM8PDv5zf40eb8Rf+eHh385v8a7Cij2391fcH1b+/L7zj/N+Iv8Azw8O/nN/jUtpL49+2Q/boNB+zeYvneSZd+zPzbcnGcZxmuroo9t/dX3AsPZ355feR+a//PCT81/xo81/+eEn5r/jUlFYHUR+a/8Azwk/Nf8AGjzX/wCeEn5r/jUlFAEfmv8A88JPzX/GjzX/AOeEn5r/AI1JRQBH5r/88JPzX/GjzX/54Sfmv+NSUUAR+a//ADwk/Nf8aPNf/nhJ+a/41JRQBH5r/wDPCT81/wAaPNf/AJ4Sfmv+NSUUAR+a/wDzwk/Nf8aPNf8A54Sfmv8AjUlFAEfmv/zwk/Nf8aPNf/nhJ+a/41JRQBH5r/8APCT81/xo81/+eEn5r/jUlFAEfmv/AM8JPzX/ABo81/8AnhJ+a/41JRQBH5r/APPCT81/xo81/wDnhJ+a/wCNSUUAR+a//PCT81/xo81/+eEn5r/jUlFAEfmv/wA8JPzX/GjzX/54Sfmv+NSUUAR+a/8Azwk/Nf8AGjzX/wCeEn5r/jUlFAEfmv8A88JPzX/GjzX/AOeEn5r/AI1JRQBH5r/88JPzX/GjzX/54Sfmv+NSUUAR+a//ADwk/Nf8aPNf/nhJ+a/41JRQBH5r/wDPCT81/wAaPNf/AJ4Sfmv+NSUUAR+a/wDzwk/Nf8aPNf8A54Sfmv8AjUlFAEfmv/zwk/Nf8aPNf/nhJ+a/41JRQBH5r/8APCT81/xo81/+eEn5r/jUlFAEfmv/AM8JPzX/ABo81/8AnhJ+a/41JRQBH5r/APPCT81/xo81/wDnhJ+a/wCNSUUAR+a//PCT81/xo81/+eEn5r/jUlFAEfmv/wA8JPzX/GjzX/54Sfmv+NSUUAR+a/8Azwk/Nf8AGjzX/wCeEn5r/jUlFAEfmv8A88JPzX/GjzX/AOeEn5r/AI1JRQBH5r/88JPzX/GjzX/54Sfmv+NSUUAR+a//ADwk/Nf8aPNf/nhJ+a/41JRQBH5r/wDPCT81/wAaPNf/AJ4Sfmv+NSUUAR+a/wDzwk/Nf8aPNf8A54Sfmv8AjUlFAEfmv/zwk/Nf8aPNf/nhJ+a/41JRQBH5r/8APCT81/xo81/+eEn5r/jUlFAEfmv/AM8JPzX/ABo81/8AnhJ+a/41JRQBH5r/APPCT81/xpYFKW8asMFVAI/Cn0UAFFFFABRRRQAUUUUAFFFFABRRRQAUUUUAFFFFABRRRQAUUUUAFFFFABRRRQAUUUUAFFFFABRRRQAUUUUAFFFFABRRRQAUUUUAFFFFABRRRQAUUUUAFFFFABRRRQAUUUUAFFFFABRRRQAUUUUAFFFFABRRRQAUUUUAFFFFABRRRQAUUUUAFFFFABRRRQAUUUUAFFFFABRRRQAUUUUAFFFFABRRRQAUUUUAFFFFABRRSMyopZ2CqOpJwBQAtFVvtof/AFEE0w9VUAH8WIzR9qm/58bj/vqP/wCKoAs0VW+1Tf8APjcf99R//FUfapv+fG4/76j/APiqALNFVvtU3/Pjcf8AfUf/AMVR9qm/58bj/vqP/wCKoAs0VW+1Tf8APjcf99R//FUfapv+fG4/76j/APiqALNFVvtU3/Pjcf8AfUf/AMVR9qm/58bj/vqP/wCKoAs0VW+1Tf8APjcf99R//FUfapv+fG4/76j/APiqALNFVvtU3/Pjcf8AfUf/AMVR9uRT+/jkg95F4/MZH60AWaKAcjI5FFABRRUEl5EkhjXdJIOqRruI+vp+NAE9FVvtUvaxuPzj/wDiqPtU3/Pjcf8AfUf/AMVQBZoqt9qm/wCfG4/76j/+Ko+1Tf8APjcf99R//FUAWaKrfapv+fG4/wC+o/8A4qj7VN/z43H/AH1H/wDFUAWaKrfapv8AnxuP++o//iqPtU3/AD43H/fUf/xVAFmiq32qb/nxuP8AvqP/AOKo+1Tf8+Nx/wB9R/8AxVAFmiq32qb/AJ8bj/vqP/4qj7cin9/HJB7yLx+YyP1oAs0UA5GRyKKAOH+KHxBl+Hmj2V9Bp6XxurjySjylNvyk5yAfSu1hk82COQjG9Q2PTIrxr9pf/kUdG/7CH/tNq9itP+PKD/rmv8qcdYt+f6IJaNen6kxIAyTge9AORkcivnPx7rEXif4z3mi+JY9Yu9C0lBssNJjMjSPtUlmAPAyx+brgADGa0/hfPdaH8UX0zQLDX4PCt/CxWLVbZ1FvKFLZB6DoRnvkZyQKIrmSfcJe78j3gsF+8QPqaWvnTX7bwRrPjDWJdX1PxB4y1F2ZIrfSrVitnyflU5wwHAGOPrmpPh94z1jS/gP4puvtc0kulyCGyaU7mgD7VAGeyk5A7VKfuuXlcdveUfOx73qt9/Z2j3t6qiRrW3ebYTjdtUnH6Vz3w28aSePPCf8AbM1ktk32h4fKSQuPlxznA9a8n8KfDKG5+FM/jMaxfx6/c2lxcicTAoRhgUcEEsGAOcnv7VB4X8R3vhf9mG+vdLkMN3JqDwRyr1j37QWHvjOD61XwuSfRL772JvzKLWzb+61z6L3DdjIz6Zpa+Uv7I0hfCMF/o+neMv8AhLNq3C6itq/lvIcE4IOdvJww57+1b/xR1DVdc8NfDi6vle01ad5FkMsZVklDRLuKnpyM4p8rvbzsCd/ub+49r8eeKW8HeDL7XIbZbt7XZ+5Z9obc4Xrg461a8Ja8fEvhLTdZlhW2e+hEvlB9wXPbPevLfHXgCw8DfBvxM1ne3t7cag9vJdTXbqxdxKPmGAMZ3HrmsCP4W2uq/BGHxPe6pevqttpxubX94PKhjQErGFxxwOTnO45qbpKTfS35FWu4pdb/AKH0VSBgSQCCR1Ga+dNU+I+vH9nfS5UvJVv7q8bT5bzcRIY0BOd3XJG0E/XvUvjb4YWnw78C2nirw3ql9BrNm8Rmn83iUuQDgduSOOeMg5602uVu+10vvJTulbfX8D6HpAwYZUgj2rxzx5releIvhz4aufFPia40SHUYUnnsrKAyPekqu5eOig5xnjJHXiuG0i5sfDvxi8Of8IRZa5o2n38kcNxFqaMguQWwSASdy4I69D0xTUbz5fOwN2hzeVz6dpNw25yMeua+edV8NHxb+0prujvf3Flaz2i/amtiA8kQijygJBxk7c8dM0vjLQftXxB8LfCy1v7uDQIIA75cF5CS7knAAJAXAyOM1MdVHz/4P+Q5aN+X/A/zPTfHHxCl8I+J/DmlRael0utT+U0rSlfK+dFyBg5+/wDpXc184eOfBsHgr4ieBrDTL26m0175Xgt7mQOYG82PftOB8p+U49c+tfR9UrezT82J35reSCiiipGFFFFABRRRQAUUUUAFFFFABRRRQAUUUUAFFFFABRRRQAUUUUAFFFFABRRRQAUUUUAFFFFABRRRQAUUUUAFFFFABRRRQAUUUUAFFFFABRRRQAUUUUAFFFFABRRRQAUUUUAFFFFABRRRQAUUUUAFFFFABRRRQAUUUUAFFFFABRRRQAEgDJ4AqpEn2wi4mGY+sUZ6Af3j7n9KdqH/AB5MvTzGWM/RmC/1qyBgYHAoAKKK5rx54ltPDXhm4kvJprY3MUkMNxGjbYpDGxUs4+5k4APqRUyfKrjirux0tFct8PfE1r4k8KWjW0891JawQxXFxIrbZJfLUthz98g5BPrXU1pJcrsRF8yuFFeI+LPHuoWHxE1zTLr4h/8ACMWto0ItYP7EW88wNGGb5guRgnue/tXVp428U6X8NdK1nUvDa3V86H7cbi+h0+OFQxVXYyHhn+U7cdz04Bn7PMXZ83Keh0V59a/Fe3m06w1CfTTb2l9o9xqKO1xkiSA/vIcBeRjkNnn+7Vvwx8R08UXWi29tpjQzaha3FzdI83Nn5TiPaRt+Ylzj+HGM07O9v66/5Mm+l/66f5nbUV5zrMni7WvidfaJ4f8AFf8AYVpaafDcbf7Oiud7OzA/ewR0Hem6Z4+8Qx+C725n0e31fU9H1CawvpEvYrKDEWMzFpDhcgjgAjOeg4pLa/8AW9vzH1t/W1z0iivJ9S+Kuu3uheF9R8MaAkv9q6g1rPE13GfnRiPJRzxhtrfvMYAHYkEbd98SL3SvHtloGq+HFtbW+uBBb3R1OF5n3ZCv9nXLBCwIyT+vy00m/wCvT/MV9zvaCMjB5FFFIZUK/YZFKf8AHu7bSvaMnoR7e1W6ZPEJreSJujqVptpIZrKCVurxqx/EUARzu8032aJinG6Rx1UdgPc1PFEkMYSJQqjsKgsvmWaQ9XmfP/ATt/8AZas0AFFcx471y+0fSbO30Uomparex2FtLIu5YWfOZCO+ACceuK5fxL4X8TaPY+Z4U1XxRqmrSRtmWS9ha2J7ho5HXZnsYxlaV9LjtrY9PorI8JwajbeD9Jg1syNqMdpGtyZZPMcyBRuy2Tk575Ncx8XPEl/4a0DTJ9O1n+xRcalHBcXv2VbjyoirEnYQc4wDxzxVS912FHVXO+oryPwZ4/v1m1m9vvEMnivw7YaebqTU10n7EYplPMCrgByV5/LpU1r8ZLnVNE1o2uiW8eqWentfW0EGrQ3SSRAgOzMnCMoO7YeTjFJ6fn/X3fqNK7t52PVqK8m0D4heKoNI8P2l14fuNb1jWrZ7tPMvoIgEXZhspGqqhDFgDlh0Oav2Pxls7zxjHpL6fFFYzXhsYrwalC0rTAlebcfOqFgQGPqp71XK78v9f1cm+lz0qiuC0P4lXOu+ObnQrbQUW1tp5YHuTqkHnr5Z2ljbEhwu7vzwQfasfw78TNaSaGPWtHuLuxuNcm0z+1vMijWJjIViQRKNzAcAscfUmpWrSXX/AIH+Y3pfy/r9D1WgjIweRRRQBUK/YZFKf8e7ttK9oyehHt7Vbpk8Qmt5Im6OpWm2khmsoJW6vGrH8RQBwXxf8Bap4/0GwstGuLOCW2uvOc3bsqkbSONqtzzWLaeG/jdDNAJvGGitboy70WFclQeR/wAe/pXrlFOPusJe8rHmfir4c66PHg8ZeAdUtbHU5YxFdwXqkxTDAGcgHqAvGOwORV/wh4V8ZQ+ILnWvHHiT7U0iFItNsJHFsnGNxBA5x7e+TXe0UlorA9dTx3wz8NPHfgy71HTvDmt6RHo1/PvNxNE7XMQ6ZVcbd2OOSR34q/4G+EtzongvxF4d8RXNvPBq8h2SWzszIu3AJ3KPmBwe4r1OijdWfaw76387nimk/Cv4hafoN34WbxTYp4dkWQIIkPnMGz8nKfIrE/NgnHOM5rc8M/CaW3+EV54N8S3Fu0lxO8yz2bM4jPylWG4KSQV5Fen0Ub3v1F1T7Hjtt4G+LFvocHhyHxXpdtpcBWNLyASLdLEvRRhR0A6bvbOK1PHHwz1fxCvhKPT9Sjn/ALDlL3NxqMz+bPzGd2QrZJ2HrjqK9Oop3d7/ADFb/L7zl/iP4ZvPF/gO/wBE02SCK5ufL2PcMVQbXVjkgE9B6V5zJ8LPiPb+DoPC2n+KNP8A7IliC3UUobdGScuiP5eWQnnBwe3Tr7dRU238yrvQ86v/AIPaZefCq28HJdMj2redFelMnz+csVz0O4jGemOeK5i6+F/xG8S6dY6D4t8T6cdEtWUsbYM00gXhc5RckDuT7nJr2yiqvdtsWysjzDxz8L9R1G/8Oan4KurOzutARYoIb0MYyikFeQDyMenOeoxVG7+G3jXW/HXh7xN4g1bSpZdPnV57a38xI4kVgQsWVJYnkksR2HavXaKE2nfzv8xNJq3lY8907wDqlp8cNR8ZST2Z066tvJSJXbzgdqDkbcY+Q9/Sq/xK+Geo+Jtd03xJ4U1GLTtc08BVebIR1BJU5AOCMnjBBBwa9KopbJW6FX38zxfUPhV4313xR4f1/wAQa9p15d2Fwj3EQ3Rxxxq6sFiAT5icMSTjqB2r2iiinfSxPW4UUUUhhRRRQAUUUUAFFFFABRRRQAUUUUAFFFFABRRRQAUUUUAFFFFABRRRQAUUUUAFFFFABRRRQAUUUUAFFFFABRRRQAUUUUAFFFFABRRRQAUUUUAFFFFABRRRQAUUUUAFFFFABRRRQAUUUUAFFFFABRRRQAUUUUAFFFFABRRRQAUUUUAQXsbSWbiMZcYZR6kHI/UVLFIs0SyRnKsMg06qpV7N2aJDJAxyUUfMh7kDuPagC1XDazofjCbV9ZS1Gi6touprGBZ6rcTL5ICbWUKqMME85z1rtIrmGf8A1Uqse4B5H1HapaVgucJo2g+L7fUtFhnXRdI0XTC+610q4mbzlKFVQqyKCATuyT1ru6KKpu4rWOUk8A2N5feKH1WQXdr4iEIktzFt8ny02ghsnJz8wOBgiseT4bay8Ph9l8YzR32jRyW4uxYI7SwvgYw7MFfaNu/n6evodFIZ5xefCG3vfBOieHZdVbbpF20q3H2f5pYmZi0RAfjIYAnPbp2rd8N+Bbbw54t13XIrkzHVnUxwmPaLZclnUHPIZju6D8etdVRTu73/AK/rQOljh9e8Da9eeMZ/EHhvxd/Yclxax20sf9mR3O4ISQcu3H3uwqnP8K5o7DR/7G8S3FlqenXc15Lfy2qTm5lmGJHKHCg9lPO0ep5r0SiktP6+Yb/15W/I87f4WXEfhex0vTvEkltdadqr6la3z2ayMCxY7XQnax+c88D/AGait/hRewaok7+K5pbSDVxq0Fo1igAlLEvvcHc5IOAcgD0Nek0ULS1v62/yQmr7/wBb/wCbCiioZbuCE7XkBc9EXlj9AOaBhdymG1dl5cjag9WPAH50+CMQ28cQ6IoUfgKhjjknmWa4XYq/6uI9vc+/8qs0AVrX93NPAeocyL7q3OfzzVmobiFnKyQkLMn3SehHcH2pqXse4JP+4k/uScZ+h6H8KAM7xT4ch8UaL9ikne1nilS4tbqMAtbzIco4B649O4JFZdnB8QHu7eLUbzQIbWJwZbi2ileW4UHpsbCpkdTubHautBz0ooWgPUKwvEvhv/hIpdHf7X9n/szUY77Hl7/N2AjZ1GM568/St2ijrcOljjJ/hzbSazrssF61vpXiC1MV/p0cXWYgjz0bOFbB5G05PJrL0D4TtpGnatbXWrWNy99YvZQzW+h21q0AdSCxaMbnPTgsBwc5zkej0UdLfId3e/zOT0zwP/Z2qeG7z+0PM/sPS20/Z5GPPyqDfnd8v3OnPXrWLp3wjg03xidVh1C0fT/tTXS2UujWzzByd2PtLKXwGORjkDAB716NRTu+bm6/5u/5k2Vrf12OBu/hte6n46tNe1fxJ9rtrK4We2t/7MgjnTbkqhuEAYoCT8uOR155qeH4deVoltp/9qZ8jXf7Y8z7P9796ZPLxu4643fpXb0Ulpa3T/gP9EN67/1v/mwooqGW7ghO15AXPRF5Y/QDmgAu5TDauy8uRtQerHgD86fBGIbeOIdEUKPwFQxxyTzLNcLsVf8AVxHt7n3/AJVZoAKKKKACiiigAooooAKKKKACiiigAooooAKKKKACiiigAooooAKKKKACiiigAooooAKKKKACiiigAooooAKKKKACiiigAooooAKKKKACiiigAooooAKKKKACiiigAooooAKKKKACiiigAooooAKKKKACiiigAooooAKKKKACiiigAooooAKKKKACiiigAooooAKKKKACiiigAooooAKKKKACiiigAooooAKKKKACiiigCOW2gn/10Mcn++gNRf2dY/8APnb/APfpf8Ks0UAVv7Osf+fO3/79L/hR/Z1j/wA+dv8A9+l/wqzRQBW/s6x/587f/v0v+FH9nWP/AD52/wD36X/CrNFAFb+zrH/nzt/+/S/4Uf2dY/8APnb/APfpf8Ks0UAVv7Osf+fO3/79L/hR/Z1j/wA+dv8A9+l/wqzRQBW/s6x/587f/v0v+FH9nWP/AD52/wD36X/CrNFAFb+zrH/nzt/+/S/4VNHDFCMQxJGPRVAp9FABRRRQAUjIrrtdQwPYjNLRQBWOnWR62dv/AN+l/wAKP7Osf+fO3/79L/hVmigCt/Z1j/z52/8A36X/AAo/s6x/587f/v0v+FWaKAK39nWP/Pnb/wDfpf8ACj+zrH/nzt/+/S/4VZooArf2dY/8+dv/AN+l/wAKP7Osf+fO3/79L/hVmigCt/Z1j/z52/8A36X/AAo/s6x/587f/v0v+FWaKAK39nWP/Pnb/wDfpf8ACpo4YoRiGJIx6KoFPooAKKKKACikdxGhZjgCogssvLsY17KvX8T/AIUATUVF9nT+9J/39b/Gj7On96T/AL+t/jQBLRUX2dP70n/f1v8AGj7On96T/v63+NAEtFRfZ0/vSf8Af1v8aPs6f3pP+/rf40AS0VF9nT+9J/39b/Gj7On96T/v63+NAEtFRfZ0/vSf9/W/xo+zp/ek/wC/rf40AS0VF9nT+9J/39b/ABo+zp/ek/7+t/jQBLRUX2dP70n/AH9b/Gj7On96T/v63+NAEtFRfZ0/vSf9/W/xo+zp/ek/7+t/jQBLRUX2dP70n/f1v8aPs6f3pP8Av63+NAEtFRfZ0/vSf9/W/wAaPs6f3pP+/rf40AS0VF9nT+9J/wB/W/xo+zp/ek/7+t/jQBLRUX2dP70n/f1v8aPs6f3pP+/rf40AS0VF9nT+9J/39b/Gj7On96T/AL+t/jQBLRUX2dP70n/f1v8AGj7On96T/v63+NAEtFRfZ0/vSf8Af1v8aPs6f3pP+/rf40AS0VF9nT+9J/39b/Gj7On96T/v63+NAEtFRfZ0/vSf9/W/xo+zp/ek/wC/rf40AS0VF9nT+9J/39b/ABo+zp/ek/7+t/jQBLRUX2dP70n/AH9b/Gj7On96T/v63+NAEtFRfZ0/vSf9/W/xo+zp/ek/7+t/jQBLRUX2dP70n/f1v8aPs6f3pP8Av63+NAEtFRfZ0/vSf9/W/wAaPs6f3pP+/rf40AS0VF9nT+9J/wB/W/xo+zp/ek/7+t/jQBLRUX2dP70n/f1v8aPs6f3pP+/rf40AS0VF9nT+9J/39b/Gj7On96T/AL+t/jQBLRUX2dP70n/f1v8AGj7On96T/v63+NAEtFRfZ0/vSf8Af1v8aPs6f3pP+/rf40AS0VF9nT+9J/39b/Gj7On96T/v63+NAEtFRfZ0/vSf9/W/xo+zp/ek/wC/rf40AS0VF9nT+9J/39b/ABo+zp/ek/7+t/jQBLRUX2dP70n/AH9b/Gj7On96T/v63+NAEtFRfZ0/vSf9/W/xo+zp/ek/7+t/jQBLRUX2dP70n/f1v8aPs6f3pP8Av63+NAEtFRfZ0/vSf9/W/wAaPs6f3pP+/rf40AS0VF9nT+9J/wB/W/xo+zp/ek/7+t/jQBLRUX2dP70n/f1v8aPs6f3pP+/rf40AS0VF9nT+9J/39b/Gj7On96T/AL+t/jQBLRUX2dP70n/f1v8AGj7On96T/v63+NAEtFRfZ0/vSf8Af1v8aPs6f3pP+/rf40AS0VF9nT+9J/39b/Gj7On96T/v63+NAEtFRfZ0/vSf9/W/xo+zp/ek/wC/rf40AS0VF9nT+9J/39b/ABo+zp/ek/7+t/jQBLRUX2dP70n/AH9b/Gj7On96T/v63+NAEtFRfZ0/vSf9/W/xo+zp/ek/7+t/jQBLRUX2dP70n/f1v8aPs6f3pP8Av63+NAEtFRfZ0/vSf9/W/wAaPs6f3pP+/rf40AS0VF9nT+9J/wB/W/xo+zp/ek/7+t/jQBLRUX2dP70n/f1v8aPs6f3pP+/rf40AS0VF9nT+9J/39b/Gj7On96T/AL+t/jQBLRUX2dP70n/f1v8AGj7On96T/v63+NAEtFRfZ0/vSf8Af1v8aPs6f3pP+/rf40AS0VF9nT+9J/39b/Gj7On96T/v63+NAEtFRfZ0/vSf9/W/xo+zp/ek/wC/rf40AS0VF9nT+9J/39b/ABo+zp/ek/7+t/jQBLRUX2dP70n/AH9b/Gj7On96T/v63+NAEtFRfZ0/vSf9/W/xo+zp/ek/7+t/jQBLRUX2dP70n/f1v8aPs6f3pP8Av63+NAEtFRfZ0/vSf9/W/wAaPIx9ySRT7sW/nQBLRUSSMHEcoAY9GHRqloAib57lVPRBuI9+g/rUtRL/AMfkn/XNf5tUtABRRRQAUUUUAFFFFABRRRQAUUUUAFFFFABRRRQAUUUUAFFFFABRRRQAUUUUAFFFFABRRRQAUUUUAFFFFABRRRQAUUUUAFFFFABRRRQAUUUUAFFFFABRRRQAUUUUAFFFFABRRRQAUUUUAFFFFABRRRQAUUUUAFFFFABRRRQAUUUUAFFFFABRRRQAUUUUAFFFFABRRRQAUUUUAFFFFABRRRQAUUUUAFFFFABRRRQAUUUUAFFFFABRRRQAUUUUAFFFFABRRRQAUUUUAFFFFABRRRQAUUUUAFFFFABRRRQAUUUUAFFFFABRRRQBHMm+IgfeHKn0PanI2+NXHRgDTqitf+POH/rmv8qABf8Aj8k/65r/ADapaiX/AI/JP+ua/wA2qWgAqKa6t7eaGKeeOOS4YpErsAZGAJwvqcAnHoDUtYnjDS59W8K3kOnqx1GNPOsWRgrJcJzGQTwORjnjBIPBoGld2Llzruk2djLe3WpWkNrDIYpJnmUKrg4KE5+9njHXPFOt9Y027s7e6tb+2mt7p/LglSVSsrc/KpzyeDx7GuevfD8+mWfh2TSLFr1dGlZ5LTzFEku+NlLhnIUyBmLZJGctzmqP9g6wtjLqa6di4fXV1UaYJkDrGEEZTdnZvOC/3sZON3en1t/W6/4L+RPS6/rf/gI6661vS7KGeW81G1gjt5FimeWZVEbsAQrEngkEYB9RU1hqNlqlot1pl3BeW7EgSwSB1JBwRkccVw9z4e1zU7G+uVt5NNub/XLa8SMvE8ttFGIlLNyULfuy20Fu3Wt/wdpV9pOnXsWrF5b2W+llluWKYuckbZAq4C/KFG3A5B69SLbX+tv8393rZvfT+t/8v60L9n4i0XUL57Kw1axubpN26CK4RnG04b5Qc8Hg+lLp3iLRtXlaPStWsr10Xey29wrkL0ycHpXH+HfCuuafrWmXGpvLPZwyXzpbZiUWbySMUfI+Z1ZGIxk4LDj0h8KeH/EC+Cbrw/qa6vZySaa1tG93JZtbwuVK/u/JPmd/488D1qel/L/Mas3r3O00/wASaJqzzppmrWV21uN0whnV9g9Tg9ODz04ptv4p0C7tZ7m11rT5oLZPMmljuUZYl/vMQcAe5rI06LUry1WG68MR6a9rpz2yTSSxMxYgDZFsJxGducttPC/L6YOn6F4gm+GmoaFf2mrPctp0dvFFqEtkYtwXBWMwnOP+unbHPWqtv/Xcm+39dj0CbU7G33+feW8flw+e+6QDbH/fP+zx16VDpviDR9ZeRNI1SzvmjGXW2nWQrzjnB4rn/DvhvUdE8ZXJbEmjx2CQWMhcFox5hbyiM5IXOAf7uB1FanhTTrrTbG/jvYvKabU7udBuByjzMyng9wQcdaS/z/O3/BH0+78rlu48QaPaarFpl1qlpDfTY8u2eZRI2eny5zz29asNqVikU0j3kCx28gimYyDEbnHysex+ZePcVx+s6Tq58VyzaRpc6rdXNu88zTQSWc6JtDNLHJ+8R1C4UxjkhST1Aj1LRtaeTWNJt9LaWDVdSiu01ATxiKFB5W4OpbfuHlnAVSDkcjnAtf69P+D9wPTb+tzqz4i0VdW/sxtWsRf79n2U3CeZuxnbtznOOcelWU1Kxla6Ed5A5sztuQsgPkHG7D/3eOee1ef3Hh/X28ZXskVletaza3BfRs01v9jMaxxKzMM+dvGxsADGQpPeku/ButSeINXktYUSy1y9MWoZkXLWyohVwM9TiWPHX94D0FH2b+X+X+b+4Ho/68/8vxPQINUsLkRG2vbeUTQ/aIikoO+Lj5x6ryOenNV7DxJomqw3E2m6tZXUVsN07xTqwjGM5JB4GAeenFcponhnUrWy0iG809HW38NvYTQvOqqZSY/3ZZckAhT8wBApmmaJq02m6vaX+j3EljJpwtYLXVLmDznPzZiWeHJ8rBGC53Z5pvRu3n+b/wAl94ev9bf5v7jrbPxJomoWct3Y6tZT28LhJJY51KoxxgE54zkY9c0t/wCItG0u9hs9S1WztLmbHlwzTqjNk4HBPc8fWuNXRfEF7oerwTWV1iVrVbUag9sbohJAzhpIjtZAPu7iW+9nqKt61pGrpdeJba00f+0o9fiVYrnzo1S3PlCPbKGIbaCNw2BvvHgd09HoEddzsG1GyS5mt3u4FngiE0sRkG6OM5w5HULweenBqaKWOeFJoHWSORQyOhyGB5BB7ivPdZ8F6vNq+p6jpuPtsWkW9rZzu4C3JAmE0TDOQGDIcno2084NdtoNtLZeHNNtblNk0FpFHIuQdrBACMjjqKdt/wCu/wDwBXd1/Xb/AIJfooopDCiiigAooooAKKKKACiiigAooooAKKKKACiiigAooooAKKKKACiiigAooooAKKKKACiiigAooooAKKKKACiiigAooooAKKKKACiiigAooooAKKKKACiiigAooooAKKKKACiiigAooooAKKKKACiiigAooooAKKKKACiiigAooooAKKKKACiiigAooooAKKKKACiiigAooooAKKKKACiiigAooooAKKKKACiiigAooooAKKKKACiiigAqK1/484f+ua/yqWorX/jzh/65r/KgAX/j8k/65r/NqlqJf+PyT/rmv82qWgAooooAKKKKACiiigAooooAKKKKACiiigAooooAKKKKACiiigAooooAKKKKACiiigAooooAKKKKACiiigAooooAKKKKACiiigAooooAKKKKACiiigAooooAKKKKACiiigAooooAKKKKACiiigAooooAKKKKACiiigAooooAKKKKACiiigAooooAKKKKACiiigAooooAKKKKACiiigAooooAKKKKACiiigAooooAKKKKACiiigAooooAKKKKACiiigAooooAKKKKACiiigAooooAKKKKACiiigAooooAKKKKACiiigAooooAKitf+POH/rmv8qlqK1/484f+ua/yoAF/4/JP+ua/zapaiX/j8k/65r/NqloAKKKKACqt/qlhpUPm6leQWsZ6NNIFz9M9a5rx942TwpYLDaKsupXI/coeQg/vkfyHc1y2ifDO/wDEbjV/G19ceZN8wgU/vMdtxPCj/ZA/KsnNt2gtjlq13Gfs6avL8vU6/wD4WV4R83y/7ZTd6+TJj89uK3tP1Ww1aEy6ZewXaDqYZA23646fjXN/8Kt8IeXt/sts4xv+0y5+v3sVy+t/DC90F/7W8E31wJofm8gt8+O+1h1/3SOffpS5px1ktPIjnxUdZRT9L3/E9XorjvAHjhfFNm9rfKsWqWw/eoBgSL03Advcdq7Gtk01dHTSqRqx5ohRRXM+PvFU/hHw4l/a20czy3Mdv5k7MsNuHOPMkKgkIO+PUUGqVzpqK821D4h6xp3w51bXyuiX81jNGkFxp90ZracMyg5AO5CN3QnrXQav4jurbxlp+hJFEYL7Trm4eQg71ZNuAOcY+b0olor/ANbX/IFrb+utv1Oporxjwh4x8TeH/hjoGsXun2lxoKlYLiR7h2uyGlK+bjG3aCemST7Z42tW+IPieC68VNpWmaXNaeG5VaZ7iWRHki8sOQoGQW68nAHHBpyVm12v+Fv80RF3Sff+v0PTaOvSuD0vxrrkvizSbDWdLsoNP160kuLBrednliCKG2y5AGSpH3eh7nrXNaF46bQvhZoVzpmm6fpy6jqE1uZbiWX7JafvHJd2JZuSOmQMnsBQ01v/AFrb8ylqrr+tLnsNGcda881D4happngJNZnttKuJ5L5bRbu0uzLZBWOPPZlBZUHcdc455rL8U+Kbi/8AhJrd5rNpoerw280KI+n3jSW1yDInXawdCpPQnqPShK7t/XT/ADGldpdz1eiuDvPFviO+8Qarp3g/TdNmi0RI/tb30zqZnZN/lxhQcYHduMmqY+JGq6zdeG4fDGnWjNr1jNOFvpGUQSRkAgso5A+boMnA6dQt9v63f6E30v8A10/zPSKK5jwP4lvvEVlqMWs2cNrqOl3z2VyLdy0TsoB3JnnBDdDWdqHivxHf+KtT0bwbp+nTjR0jN5LqEzr5juu4RxhRwcfxHjmj/h/kM7iivPvE/j7VdGm0Sza007RbnUrd5pp9auCLe3dcZi3pwWyeuQMflVv/AITPVLa48KPqNnYx2etSvbXElvP5yxy7SYikgOCrYPbNNK/5Cv8A5nbUVzfhDxHd+JZNZuHhij0+1v3tLJ0B3TLHwzk5xgtkDAHSukpdEx9QooooAKKKKACiiigAooooAKKKKACiiigAooooAKKKKACiiigAooooAKKKKACiiigAooooAKKKKACiiigAooooAKKKKACiiigAooooAKKKKACiiigAooooAKKKKACiiigAooooAKKKKACiiigAooooAKKKKACiiigAooooAKKKKACiiigAooooAKKKKACiiigAoorxbxFpyQeKtbu/iHYeIJrZ5i+l6vpskrQWEG3glY2+RgeSSpyefqr6jtoe00VwM3irUYF8P+H/AAnPa65qN9ZG5/tK/crEYUwPMYJyzMTjA79al1Hxnr+kaBZJqOhW8XiC/wBQGnWsAuc28rHkTbh8wTAJwRu7e9VbXT+tbfmTfS/9bXO5orzbUfiFr2g2PiCz1zT9PGs6Xp66hA9s7tb3EZbb0OGUg8YzS6r8Qta0PSNOk1e30WzvNamxYCe7ZIbeEIGZ53I6jIGF9QM0v6+/T9GP+v1PSKK8/wDD/j7VNf03W7XTLXStT1zSjFs+w3ubS6V+jK55UjDZB7jrzXQeNdYutB8AavqtsAt3bWbumPmCPjAPvgnP4UpPlTbHFXdjoKK8eutDXwRp3hXxJpd7eyale3trBqby3ckovlmGG3KxIyCcjAGK9M1/w9pviOyS31hZmhifzB5VzJCQcEclGBxgng8VUla/k7f195Kd7eepq0V4romn+R4V8Z+J9A1GXSbCaF7XSZbm8kdVSPhptzliC7DAxyO1J4JntofHvh5NHtNZ0BLqylkv49YeQLqb7Rjyw7EMwOWJGOO1EVd28v8AN/oD0V/60t/me10V458StEg0SG81adtevtauZGks9WikkS20obgFVtjbUQe6nPNXfHtxFca94YttWN5rumz2cjz6ZpDuZJ3wpWcqhG6Pr3AGfrUrVDejPVqK8w8BWV34i8A3lkmu6hY241SZViEhN5aW4PFs7tlkcdc8kA4BrS+C00s/ws097iWSZ/NnBeRyzHErAcmrtv8AL8Q6X87fn/kd7RRRUgFRWv8Ax5w/9c1/lUtRWv8Ax5w/9c1/lQAL/wAfkn/XNf5tUtRL/wAfkn/XNf5tUtABRRQeRQB5H4ZgHjL4s6jqt4PMttPYmJWGRwdqD9C31FeuV5T8JHFp4l8QafNlZ9wbB/2HYH/0IVYn8b654V8cz23ixA2mXTZheJfljXoGXuf9odf689KUY04J9fzPNo1Y0oSqT6yd/L/gHpc00dvC807rHHGpZ3Y4CgdSTXmf/Cc634o8b29n4PRRYWz5mklX5ZV6Fm9B6Drn9M3Xte1P4k64NB8NBo9MRszTEEBwD99v9n0Hf+XpXhvw3Y+F9JSy09PeWVh80rep/wAO1VFupLm+yvx/4H9emkqksRLkpO0Vu/0X+f8AT868Ywjwd8UNN1yzHlQXjbplUcddsn5g5+teuV5T8Y5PtWpaFp0ILXDMzAD/AGiqj9Qa9VUYUD0FOjpFpd2VS0xFSK20fza/XcWsvxDpl/qunLDpWrSaVcpIsizLEsqsB1R0ONynuAQfetSo7i5gtLd57uaOCFBl5JWCqo9yeBWp2nAJ8J4LjRvEdtqupLLdeIPLMstpaC3ihMfKFYwx5zySTz7Vc07wHqsfiKy1rXPE76rc2tnNaY+xLCpV8YICtwRjnOc57YxXZ29xBd26T2s0c8LjKSRsGVh6gjg04yxiYRF1EjKWCZ5IGMnHpyPzofb+trfkL+v6+482svhPfwaDpfh698VSXWg2Uiyy2f2JUadlcuF8zcSqZwdvJ9+mNmb4f+bD4xj/ALS2/wDCTjGfs/8Ax7fu9n975/X+GuyqOW4ht9nnyxxeY4RN7AbmPRRnqfam3e9+v62/yQkkrW6fpf8AzZzn/CG/8Tjwzffb/wDkA2slvs8n/X741Tdnd8uNucc9azdL8AaloXg3T9F0fxIYJrOeSVpnsg8VwrszFHiLcj5uoYetdzketFDbe/8AWtxrRWX9dDhdL+Hd5o2iXsOmeIWtNSvb/wC3TXEFkiwE9PL8jONhHUbsn17VQuPhGbzQfENrdazGt9r0kDzT29iIoYhEwICwh+pwcktzn8/R2ljWRI2dQ7glVJ5bHXA70CWNpmiV1MigMyA8gHOCR74P5GhOzuv62/yQ9ji9T8Cal/beo6j4Y8RHR/7WiVL6NrNZw7Ku0SISw2Nt47jvUum/Dq00fWPDl1p12yW+g2c1qkDx7mm8zq5bIwc5PTv2rsaiuru3sbdri9uIreFPvSSuEVfqTxSTt/Xqv1ZPKnp/XT/JHLweDdQ0+31v+yNfNlc6rqn28Ti0V/JU7d0e1iQ2QuN3HXpUOreB9SfxFf6v4X8RtokuqRJHfIbRZw5UbVkTLDYwHHcV2EM8VzAk1vKksTjcjxsGVh6gjrT6PL+uw79f67nJ3/hLVmsdPt9K8SyqtrbmCdNTthepd/7bgsp3575x2xVFfhjbw/DVfCttqckU0cwuotQEIBinEm/eqAgKM8BQeh613VFD1BaGT4X0GHwx4YsdGt5PNW1iCtKV2mRzyzkc4JYk9e9a1I7rHGzyMERQSzMcAD1JoVg6hlIZSMgg8EU27u7DYWio1uIWjd1mjKRkh2DDCkdQT2xT0dZI1eNgyMMqynII9aQC0UyWWOCF5Z5FjjjUs7ucKoHJJJ6CnI6yIrowZWGVYHII9aAFooooAKKakscjOsbqxjba4U52nAOD6HBB/GnUAFFFQve2sUmyS5hR96x7WkAO4jIXHqR0FAE1FFVrjUbK0uIYLq8t4JpziKOSVVaQ/wCyCcn8KALNFFMjljmUtDIsihipKtkAg4I+oIIoAfRRUa3MDXEkCzRmaMKzxhhuQNnBI6jODj6GgCSiiigAopqSxylxHIrmNtrhTnacZwfQ4I/Oq1xq2nWkcr3d/awJC4SRpZlUIxGQCSeCRzigC3RVax1Gy1OEzabeW93ErbS9vKsig+mQevIqzQAUVGlxDJNJDHLG8sWPMRWBZMjIyO2akoAKKKKACiiigAooooAKKKKACiiigAooooAKKKKACiiigAooooAKKKKACiiigAooooAKKKKACiiigAooooAKKKKACiiigAooooAKKKKACiiigAooooAKKKKACiiigAooooAK4fUPBHiE3mpDQvGc9hYak7SS21xZrcmIt97ynZhtB9MEDtXcVSg1rS7q/ksbbUrOa7jJD28c6tIpHXKg5GKVrjvY5SX4bLY22ht4V1aTSr/RbdrWK5lgE6zRNyyyJlc5POQRg065+Htxe+HIba98R3txrNvff2jBqki7vJn7BYicCPHGwHFdqzKiFnIVVGSScACmNcQpam5eaNYFTzDKWAULjO7PTGOc1V3e/wDXf8xJdP67HB3PwzudVstek1zX/tmraxaLZC7SzEcdtCp3BVjDc88klvyrY13wadVsNHNnqJsdT0YhrS98kSAfJsYMhPKsOoyO3NdHFcwXDypBPHK8LbJVRwTG2AcHHQ4IOD2IqWl/wP6/EP6+/wD4Y5eHw74iTQ9Rhk8WN/al4ymK8jsUWO1AI+VIiTnIyDlj1zxW5f6ZBqui3GmakPPguYDDN23gjB6dKuUUPVWYLTVHAad8N9RS60iLXvE8mq6VokglsbI2axNuUYjMkgJ37R7DPWtnUfDetajoOt6bJ4kYNqUreRN9kXNnA2AYgAw3HGRuJzzmumooeu4LTY57VfBel6p4EbwoQ8Fh5CQxmI4aPZgqR6nIB96y7PwNqs+vaVqPinxJ/aq6PlrSGGyW3BkK7d8hDNuOOwwK7C5uYLO3e4u5o4IYxl5JXCqo9STwKb9ttfsP237TD9k2eZ5/mDy9mM7t3TGO9O+twtpynFap4A12+/tKxtvGl3Fo2puzTWk9qs8sat99I5WbKqRwBg7e1WL34fvBqmman4V1Y6TeafYDTh51uLiOW3HIVl3KQQQDkGuks9f0fUfN/s/VrG68ld8vkXKPsX1ODwPepodUsLjTzfwX1tLZqCxuEmUxgDqdwOOKWy/r0DdmP4S8J/8ACM29+9xfyajqGpXBuby6eMRh3Ix8qDhQAOmT9ad4I8L/APCG+FLfRftn23yXkfzvK8vdvct93J6Zx1rXn1KxtWgW5vbeE3LbYBJKq+afRcnk/Sq9x4i0S0vjZ3WsWEF0CFMEl0iuCeg2k55yKfl/WgdPxNGiiikAVFa/8ecP/XNf5VLUVr/x5w/9c1/lQAL/AMfkn/XNf5tUtRL/AMfkn/XNf5tUtABRRRQB5L42srzwX43h8W6XGXtZ3xcKOm4jDKfQMOQfWuzlTQfiR4XwjrLGwyGGPMtpMenY/oa6G7tIL60ktryFJoJV2vG4yGFeaaj8Kr/Tb9r7wVqz2jHnyZJGQqPQOOo9iPxrn5XBONrx/I4Z0505ucFeMt1+q9ep3Xhvw3Y+F9JWy09PeWVh80rep/w7VPreuWHh/TXvdTnWKNR8o/ic+ijua84+z/FwHyfPXZjHmZtv543VLYfCvUtVvlvfGusPdEf8sYpGckehc/dHsB+IqnOctIq3qKNaSjyUqT+eiK3g+0vPHPjuTxVqURSytW/cKem4fdUeuOpPr9a9bqGzs7fT7OK1soUggiXakaDAUVNWkYqEeVG9Ck6abk7yerYVieKPsi2lnNeX8entBdCSGe4j3wrJtYDzBkDbgnqy87cHOK26OvWqOlHF22vwQR2l5JPZWtkdUeO5vrd9ltc5gYiTceAC+1ep+ZcZNU01O3uNT0261TV3s7eSLUF+0GXygwFygRS5+6MAY6Zxj2PoFFH9fhYLnn8mparPpt9dPqNzFJaaXFcwlAF3sZJgJGXGDuVFJXGOenTGnNNdWmpy2QvLiWJb612tK+WAcHcM+nGcdsnHHFdbRQ9xd/T9LHnVrbWcWj6Z5up3CLa63MtwzXZHksTKAGOflzlev9//AGqtWGsarP4i8t720W5F3Oklk16WkMS79g8jy/l4Ctv3c56kECu7oo/r8h/1+f8AmcNod7Ffa7ocn9qyXt4bWZr2FnB8iUhMgqB+7IORt46dOCak1q8tbTxXqhu9XfTW/s6BoNrhd8gabGM/fP8Asc5z0PbtaKHqCdjkYr/VG1e20m5aSKe9MN6SP+WMSqPOjB9N6qPpL7Vd12e2svEWmXmrtHHYRxTBZpyBHFOSm0sTwpK7wCfUjvWwmnwJqUl/87XDoI9zOSEXrhR0GTycdcD0FWafn/X9W/EX9f1/WxwSaxDDpMs0f2eyt7rUiEuba98m1uD5e5mMrKdikgjKDlhx1OZ9Hu77W102K51GeNXtrwu1tL98xzqiHdtBOAeuBnuOSK7bFFL+vwsO557Pr9zLoDXmo6tNY3J0aK4s1jwonlMbM7AY+c5AG3sOcDOaln1jUz4geE39rbSrcQJbwzXpR5YyqFiIBEfM3EuN27jH8ODXWajosGqM32i4u0jkTy5Yop2VJF54I7dTkjBPQmtAKFACgAAYAHan1uDtayOEl1ZnvNVs5tQ+1yNDdgLb3Iby1AOBLCVBi2j5QwJ3HknkVs6GJrTU4LQ3c88MunJMRMwba4IGRxxkHoOOBgCujoqVo/68/wDP8Abv/Xp/kcfrSPDrFxosQYR+IWRgVB+XaAtxz2zGq49yarrrsn/CX21taXg2tfSW0ttJdgyIio/HkBMKmVBDltxBHUHFdxRRYG9DhbO8v4tF0+5fULid7/Q5riYSsCBIqIVZeOMbiOOvfJ5q3FfX/wDa1tpHnzE3nk3qy90hVR5qg/76qP8Att7V19Vk0+BNSkv/AJ2uHQR7mckIvXCjoMnk464HoKf2r/11f+XyQN3X9eRw0PiK4l1CYWl/vSSzu5HR7wSTRMoBUPGqAREcjAOT3yRmrF3Lf28GpSJq16TaaVBfRguP9c3mZJ45U+WPl+7yeK7qihaf16jb/r7v8vxOMtry4g8YXsdzIbbTZNQAWSM8yz+RFtjc/wAKnt/ePBxwGyW8TXTpfSWOoFlbSru4Ia8Es0UiBSm+MIFhZckbQT7jIzXpNFC6ApWdzjdSu7zSp7u3XUbn7OYrSWWeQhmgV5WSVwccDaM9MLgkAVDY3cY1G7fTdQe8t5NUtUWfzA4ZSgBUP/EM5Gee4zxXcUdKO3qT0+X6ETG4+1xhEiNvsbzGLkOG42gDGCOuTkdutch4ju7DT9S1GQ32nNNPAgn0zUI/mulAO1YmyDzkjhXG7sDmu0oxQNOxxl74gNvdX1k975F22p2Qt7ZnAk8hzbhsL1K5MgJ6ZzVXSdQSC4MVpqjNqDa1cIdP3jmE3D7zs64A3Nv9RjOOK72inf8Ar7v8vxC/u8v9bHF2AvL2405ZtVvgt5DdNMEkAzskUJjj5cbu3Xvms64vLjVvDZm1G7lVRY6ZdSyI/l7SZGMjkjoMDJ7DGe1ei0UltYdzg7qZtMuvEE2lX7yXbpbSRiW5yPIbYrTDIbgDcd+CBjoelJBrFz9jLS6xbDSzexxy3VrfG4+zoY2LAzsigAsIxnkrvPI4x3tGOMdqBX/r5HO+D2jki1Z7e5a7hbUGMc7EHevlx4OR1Hoe/XJ61FZmx0C48QSJAsVtbtE/lxr94+WOAO7En6kmunooeqX9dBLRmbolhJYaYTdbftlwxnuSvTzG6geyjCj2UVylg9/c6fYPJq99uutEN7IRIB+9UJgjjgfOeOhwM55z3tFD/r7n/XyGnb+vP9Ti/wC0L27uoUN3LCLiWzDmIhTh4nZgOOMkf4YqSHWTpeoQJqmpeXZxXdzbme5kChsBWjVmOATyQM8nHc12FFHVvv8A8D/L8RdEv66/5/gef21zK95pWqG6mkvZdHuDbRySlRcShlITacZOOcdeM9qNP1i/msb149csdq2W+WQXzXJhl3D5m/cqIQRuBHOMZC8GvQKKS0Vv66/5/gO+t/66f5GF4V1Bb+wuCkrzCKcpvFyLiM/KpxHKAC68/wAXIOR2FcvB4kv5ric6Tdm5eTT7mYRNcieZJFKbQ8QQCNhuI2AnPcEivRQMdKZLEs0LxOWCyKVJRyrc+hGCD7jmmCOHl1gxS3o0bWpr22jtIWeYsJfI3TbZZAcYyEy2OcY6AcVu+Hb1Lq+v47G/Oo6dEIzDceaJQHIbegcfexhT3xux7C/Y6RDY3Elx51xcTyIIzLcSbyEBJCjsByfc9yav9OlC0X9dxP8Ar7gooooAKKKKACiiigAooooAKKKKACiiigAooooAKKKKACiiigAooooAKKKKACiiigAooooAKKKKACiiigAooooAKKKKACiiigAooooAKKKKACiiigArgtB03UNVhniaKzhsoNeubhbkSs05KXTttCbQFzgrnceCeOa72imtHcf2bf11/wAzgZPEQuIotO/tESXq3t9HdW4fLpGEuDGHXqBgIRnqAMVmS6lHL4KuLbT9WfUA3hy4a/iZw32dxEu3Kj/Vnlhs4zg8ZBNeo0ULR39P1/zBO0k+3/A/yOHudWkh1W9iv9Rax0waosUtxvEYjX7HE6pv/gDOevHPGea2zeBvBNxdafq5kAgkMOozR5xjOHOF+YD+8AQQM8553SMjB5opPVCWljz+38Qq9nCsuqNDp/24RXl9HfLPCimEsFS4wCAXCglsEFsDGRVufWLJTYLd+JJYdIkgnaK/kkEPnyK4CjzCAGwuSMffAz8wBrtcDGMcelGM0P8Ar7gOEtdR1u6W5ufNuJLy10GG6htAuxZp288AsmM5Oxfl4+nAw3QtXmuFu2ufEVotmlqjTT22oi6eGUt94loVWPdyChz04A5rvaKd9Qlqv68v8vxOf8USQ282jXV+ypYW99vuJJDhI/3ThGYngAOV5PQ4PaovDF7Y/wCmrBPCtte3k09igIAliATzHQd18wscjg7s966WiktP69P8getv67/5nCamqXvhrUddmUKl9LAlu7cJBbJKuyR/9jJMjeqkA4xkRWsVrq2ieJ5LuWw1frcfbLOPFs8gg2jau5vmUKM5ZuSDkdB6BQBjpUyjeLj3KTs0zgr250y0a/XXjGBeaNBFarLjM4w+6OMfxPuK8Dk5XitV4pdSm0nRrsBnggiu9Sb1K42If96RSfpGR3rqKKtu7b/rr/mZpWSX9dP8gooopFBUVr/x5w/9c1/lUtRWv/HnD/1zX+VAAv8Ax+Sf9c1/m1S1Ev8Ax+Sf9c1/m1S0AFFFFABRRRQAUUUUAFFFFABRRRQAUUUUAFFFFABRRRQAUUUUAFFFFABRRRQAUUUUAFFFFABRRRQAUUUUAFFFFABRRRQAUUUUAFFFFABRRRQAUUUUAFFFFABRRRQAUUUUAFFFFABRRRQAUUUUAFFFFABRRRQAUUUUAFFFFABRRRQAUUUUAFFFFABRRRQAUUUUAFFFFABRRRQAUUUUAFFFFABRRRQAUUUUAFFFFABRRRQAUUUUAFFFFABRRRQAUUUUAFFFFABRRRQAUUUUAFFFFABRRRQAUUUUAFFFFABRRRQAUUUUAFFFFABUVr/x5w/9c1/lUtRWv/HnD/1zX+VAH//Z)"
      ],
      "metadata": {
        "id": "HyqrvvAiIwnQ"
      }
    },
    {
      "cell_type": "markdown",
      "source": [
        "## **Got a Private Score of 0.78381 and Public score of 0.78107**"
      ],
      "metadata": {
        "id": "EWoe8-mNI9ck"
      }
    }
  ]
}