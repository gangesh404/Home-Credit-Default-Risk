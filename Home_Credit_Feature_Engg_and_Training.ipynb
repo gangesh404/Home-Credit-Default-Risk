{
  "cells": [
    {
      "cell_type": "markdown",
      "source": [
        "# Import Modules"
      ],
      "metadata": {
        "id": "esCaCsCKVGh3"
      }
    },
    {
      "cell_type": "code",
      "execution_count": null,
      "metadata": {
        "id": "6RWJUeiep_h5"
      },
      "outputs": [],
      "source": [
        "import pandas as pd\n",
        "import seaborn as sns\n",
        "import numpy as np\n",
        "import matplotlib.pyplot as plt\n",
        "from sklearn.preprocessing import StandardScaler\n",
        "from sklearn.preprocessing import MinMaxScaler\n",
        "from sklearn.preprocessing import LabelEncoder\n",
        "from sklearn.experimental import enable_iterative_imputer\n",
        "from sklearn.impute import IterativeImputer\n",
        "from sklearn.feature_extraction.text import CountVectorizer\n",
        "from scipy.stats import spearmanr\n",
        "from lightgbm import LGBMClassifier\n",
        "import warnings\n",
        "import pickle\n",
        "%matplotlib inline\n",
        "warnings.filterwarnings('ignore')\n",
        "from sklearn.impute import SimpleImputer"
      ]
    },
    {
      "cell_type": "code",
      "execution_count": null,
      "metadata": {
        "id": "p3Zbkx09ou-L"
      },
      "outputs": [],
      "source": [
        "# Upload Dataset\n",
        "!wget --header=\"Host: doc-0s-3g-docs.googleusercontent.com\" --header=\"User-Agent: Mozilla/5.0 (Windows NT 10.0; Win64; x64) AppleWebKit/537.36 (KHTML, like Gecko) Chrome/99.0.4844.51 Safari/537.36\" --header=\"Accept: text/html,application/xhtml+xml,application/xml;q=0.9,image/avif,image/webp,image/apng,*/*;q=0.8,application/signed-exchange;v=b3;q=0.9\" --header=\"Accept-Language: en-US,en;q=0.9\" --header=\"Referer: https://drive.google.com/\" --header=\"Cookie: AUTH_6i6311e1ha4e3lu90s1q4hbjnb369mac_nonce=odt82qd59g89q\" --header=\"Connection: keep-alive\" \"https://doc-0s-3g-docs.googleusercontent.com/docs/securesc/7jhvm23dpf0jsrpv14f2fr5ihu8tg8kq/7taf9cfrtjr22umbgoj45fmq3452lgs3/1647949950000/17867563074405901316/17867563074405901316/1O4UgcWFo84LG3Ebcr3epzCEK7-625SFS?ax=ACxEAsZGcVH-nftRwL3XtF_aRWU8YU8ouSl8UY_uE2MAR-k4jXwmrOaFhlvI5_eIS6Mlhf1VSbkHPzpzeyVtpsGiZxrm2rbHYpGIw_JEPiWl_ckyiwbS6F2UQHSlGRbSBipVARIbiwVhQlfdn5qzbYnaez5BOSkmRnZOjCyC8VwrSTjC6UbvHCWkLUtVmPypdWFOcmc52t7IssstRA1KbkPDR2CQNnTosfgWJGmxibJuwceuIfMv-9HI8u_wytjdczui13DOG_mpGFacHF1rZMlgk5408RTD5xkkDYXdprmxt2lsK1V7l3AqLP8XNVGybWjuDEHUrdZY__zXEjhHqlzCUc98WQ6yTnesGHwK35sRRZ2f5M3wz49QxCSzBY7qdoj8RIRZD_5ERxB1mpP6kLR30jgyk2hW4-lqOUPnbiHUXsyFfxgnAl6pG5PwNKnONwhGGl2CwCcbqyygBRtOayunmLr3R9ELvubmawh0eMJhLZcbsHsnYOKZXivUdE2zNJY_FDPOHFvbh24W1o1EBaULgrCBvHem6T-C8gin2aP0zTOwo0hJ8yJ-4wPkOjHI9R7Ixuydf_bf-DB5eblLjGa5iToeyzvv_DNRUereofydlAQPj5XqB1MaI3_0u8bzaBV_fjq70SjEDWmvlRySF3NmB-MpSkDtsnGZoP7j7719lbvdaSv1MAVHzAnl9afi_GjgLJ1uKlT5RqqJuWjG1n411CAzEuo8hPsap3Vi3d7wqVXw9_B0yjENuUwLPXFjnPJuMNYGcYd9BwdQzcFViTJZ8QrJYtq26FHdYUj_hIZ0TyTRO_cS0lgIQ57sRMY&authuser=0&nonce=odt82qd59g89q&user=17867563074405901316&hash=6qrn89eaa8e7t1jlatun3j586vbs6t23\" -c -O 'complete_data.zip'"
      ]
    },
    {
      "cell_type": "code",
      "execution_count": null,
      "metadata": {
        "id": "61qIBB1vozAi"
      },
      "outputs": [],
      "source": [
        "# Unzip Dataset\n",
        "get_ipython().system_raw(\"unzip complete_data.zip\")"
      ]
    },
    {
      "cell_type": "markdown",
      "metadata": {
        "id": "0gn2rcafAAaR"
      },
      "source": [
        "# **Application Train**"
      ]
    },
    {
      "cell_type": "code",
      "execution_count": null,
      "metadata": {
        "colab": {
          "base_uri": "https://localhost:8080/",
          "height": 205
        },
        "id": "pq3pZRfSqwZR",
        "outputId": "a38b18bd-7bd4-4238-e603-ec704eda9f59"
      },
      "outputs": [
        {
          "output_type": "execute_result",
          "data": {
            "text/plain": [
              "   SK_ID_CURR  TARGET NAME_CONTRACT_TYPE CODE_GENDER FLAG_OWN_CAR  \\\n",
              "0      100002       1         Cash loans           M            N   \n",
              "1      100003       0         Cash loans           F            N   \n",
              "\n",
              "  FLAG_OWN_REALTY  CNT_CHILDREN  AMT_INCOME_TOTAL  AMT_CREDIT  AMT_ANNUITY  \\\n",
              "0               Y             0          202500.0    406597.5      24700.5   \n",
              "1               N             0          270000.0   1293502.5      35698.5   \n",
              "\n",
              "   ...  FLAG_DOCUMENT_18 FLAG_DOCUMENT_19 FLAG_DOCUMENT_20 FLAG_DOCUMENT_21  \\\n",
              "0  ...                 0                0                0                0   \n",
              "1  ...                 0                0                0                0   \n",
              "\n",
              "  AMT_REQ_CREDIT_BUREAU_HOUR AMT_REQ_CREDIT_BUREAU_DAY  \\\n",
              "0                        0.0                       0.0   \n",
              "1                        0.0                       0.0   \n",
              "\n",
              "   AMT_REQ_CREDIT_BUREAU_WEEK  AMT_REQ_CREDIT_BUREAU_MON  \\\n",
              "0                         0.0                        0.0   \n",
              "1                         0.0                        0.0   \n",
              "\n",
              "   AMT_REQ_CREDIT_BUREAU_QRT  AMT_REQ_CREDIT_BUREAU_YEAR  \n",
              "0                        0.0                         1.0  \n",
              "1                        0.0                         0.0  \n",
              "\n",
              "[2 rows x 122 columns]"
            ],
            "text/html": [
              "\n",
              "  <div id=\"df-ad9d3e06-f0a4-4b64-a886-b65437a471a3\">\n",
              "    <div class=\"colab-df-container\">\n",
              "      <div>\n",
              "<style scoped>\n",
              "    .dataframe tbody tr th:only-of-type {\n",
              "        vertical-align: middle;\n",
              "    }\n",
              "\n",
              "    .dataframe tbody tr th {\n",
              "        vertical-align: top;\n",
              "    }\n",
              "\n",
              "    .dataframe thead th {\n",
              "        text-align: right;\n",
              "    }\n",
              "</style>\n",
              "<table border=\"1\" class=\"dataframe\">\n",
              "  <thead>\n",
              "    <tr style=\"text-align: right;\">\n",
              "      <th></th>\n",
              "      <th>SK_ID_CURR</th>\n",
              "      <th>TARGET</th>\n",
              "      <th>NAME_CONTRACT_TYPE</th>\n",
              "      <th>CODE_GENDER</th>\n",
              "      <th>FLAG_OWN_CAR</th>\n",
              "      <th>FLAG_OWN_REALTY</th>\n",
              "      <th>CNT_CHILDREN</th>\n",
              "      <th>AMT_INCOME_TOTAL</th>\n",
              "      <th>AMT_CREDIT</th>\n",
              "      <th>AMT_ANNUITY</th>\n",
              "      <th>...</th>\n",
              "      <th>FLAG_DOCUMENT_18</th>\n",
              "      <th>FLAG_DOCUMENT_19</th>\n",
              "      <th>FLAG_DOCUMENT_20</th>\n",
              "      <th>FLAG_DOCUMENT_21</th>\n",
              "      <th>AMT_REQ_CREDIT_BUREAU_HOUR</th>\n",
              "      <th>AMT_REQ_CREDIT_BUREAU_DAY</th>\n",
              "      <th>AMT_REQ_CREDIT_BUREAU_WEEK</th>\n",
              "      <th>AMT_REQ_CREDIT_BUREAU_MON</th>\n",
              "      <th>AMT_REQ_CREDIT_BUREAU_QRT</th>\n",
              "      <th>AMT_REQ_CREDIT_BUREAU_YEAR</th>\n",
              "    </tr>\n",
              "  </thead>\n",
              "  <tbody>\n",
              "    <tr>\n",
              "      <th>0</th>\n",
              "      <td>100002</td>\n",
              "      <td>1</td>\n",
              "      <td>Cash loans</td>\n",
              "      <td>M</td>\n",
              "      <td>N</td>\n",
              "      <td>Y</td>\n",
              "      <td>0</td>\n",
              "      <td>202500.0</td>\n",
              "      <td>406597.5</td>\n",
              "      <td>24700.5</td>\n",
              "      <td>...</td>\n",
              "      <td>0</td>\n",
              "      <td>0</td>\n",
              "      <td>0</td>\n",
              "      <td>0</td>\n",
              "      <td>0.0</td>\n",
              "      <td>0.0</td>\n",
              "      <td>0.0</td>\n",
              "      <td>0.0</td>\n",
              "      <td>0.0</td>\n",
              "      <td>1.0</td>\n",
              "    </tr>\n",
              "    <tr>\n",
              "      <th>1</th>\n",
              "      <td>100003</td>\n",
              "      <td>0</td>\n",
              "      <td>Cash loans</td>\n",
              "      <td>F</td>\n",
              "      <td>N</td>\n",
              "      <td>N</td>\n",
              "      <td>0</td>\n",
              "      <td>270000.0</td>\n",
              "      <td>1293502.5</td>\n",
              "      <td>35698.5</td>\n",
              "      <td>...</td>\n",
              "      <td>0</td>\n",
              "      <td>0</td>\n",
              "      <td>0</td>\n",
              "      <td>0</td>\n",
              "      <td>0.0</td>\n",
              "      <td>0.0</td>\n",
              "      <td>0.0</td>\n",
              "      <td>0.0</td>\n",
              "      <td>0.0</td>\n",
              "      <td>0.0</td>\n",
              "    </tr>\n",
              "  </tbody>\n",
              "</table>\n",
              "<p>2 rows × 122 columns</p>\n",
              "</div>\n",
              "      <button class=\"colab-df-convert\" onclick=\"convertToInteractive('df-ad9d3e06-f0a4-4b64-a886-b65437a471a3')\"\n",
              "              title=\"Convert this dataframe to an interactive table.\"\n",
              "              style=\"display:none;\">\n",
              "        \n",
              "  <svg xmlns=\"http://www.w3.org/2000/svg\" height=\"24px\"viewBox=\"0 0 24 24\"\n",
              "       width=\"24px\">\n",
              "    <path d=\"M0 0h24v24H0V0z\" fill=\"none\"/>\n",
              "    <path d=\"M18.56 5.44l.94 2.06.94-2.06 2.06-.94-2.06-.94-.94-2.06-.94 2.06-2.06.94zm-11 1L8.5 8.5l.94-2.06 2.06-.94-2.06-.94L8.5 2.5l-.94 2.06-2.06.94zm10 10l.94 2.06.94-2.06 2.06-.94-2.06-.94-.94-2.06-.94 2.06-2.06.94z\"/><path d=\"M17.41 7.96l-1.37-1.37c-.4-.4-.92-.59-1.43-.59-.52 0-1.04.2-1.43.59L10.3 9.45l-7.72 7.72c-.78.78-.78 2.05 0 2.83L4 21.41c.39.39.9.59 1.41.59.51 0 1.02-.2 1.41-.59l7.78-7.78 2.81-2.81c.8-.78.8-2.07 0-2.86zM5.41 20L4 18.59l7.72-7.72 1.47 1.35L5.41 20z\"/>\n",
              "  </svg>\n",
              "      </button>\n",
              "      \n",
              "  <style>\n",
              "    .colab-df-container {\n",
              "      display:flex;\n",
              "      flex-wrap:wrap;\n",
              "      gap: 12px;\n",
              "    }\n",
              "\n",
              "    .colab-df-convert {\n",
              "      background-color: #E8F0FE;\n",
              "      border: none;\n",
              "      border-radius: 50%;\n",
              "      cursor: pointer;\n",
              "      display: none;\n",
              "      fill: #1967D2;\n",
              "      height: 32px;\n",
              "      padding: 0 0 0 0;\n",
              "      width: 32px;\n",
              "    }\n",
              "\n",
              "    .colab-df-convert:hover {\n",
              "      background-color: #E2EBFA;\n",
              "      box-shadow: 0px 1px 2px rgba(60, 64, 67, 0.3), 0px 1px 3px 1px rgba(60, 64, 67, 0.15);\n",
              "      fill: #174EA6;\n",
              "    }\n",
              "\n",
              "    [theme=dark] .colab-df-convert {\n",
              "      background-color: #3B4455;\n",
              "      fill: #D2E3FC;\n",
              "    }\n",
              "\n",
              "    [theme=dark] .colab-df-convert:hover {\n",
              "      background-color: #434B5C;\n",
              "      box-shadow: 0px 1px 3px 1px rgba(0, 0, 0, 0.15);\n",
              "      filter: drop-shadow(0px 1px 2px rgba(0, 0, 0, 0.3));\n",
              "      fill: #FFFFFF;\n",
              "    }\n",
              "  </style>\n",
              "\n",
              "      <script>\n",
              "        const buttonEl =\n",
              "          document.querySelector('#df-ad9d3e06-f0a4-4b64-a886-b65437a471a3 button.colab-df-convert');\n",
              "        buttonEl.style.display =\n",
              "          google.colab.kernel.accessAllowed ? 'block' : 'none';\n",
              "\n",
              "        async function convertToInteractive(key) {\n",
              "          const element = document.querySelector('#df-ad9d3e06-f0a4-4b64-a886-b65437a471a3');\n",
              "          const dataTable =\n",
              "            await google.colab.kernel.invokeFunction('convertToInteractive',\n",
              "                                                     [key], {});\n",
              "          if (!dataTable) return;\n",
              "\n",
              "          const docLinkHtml = 'Like what you see? Visit the ' +\n",
              "            '<a target=\"_blank\" href=https://colab.research.google.com/notebooks/data_table.ipynb>data table notebook</a>'\n",
              "            + ' to learn more about interactive tables.';\n",
              "          element.innerHTML = '';\n",
              "          dataTable['output_type'] = 'display_data';\n",
              "          await google.colab.output.renderOutput(dataTable, element);\n",
              "          const docLink = document.createElement('div');\n",
              "          docLink.innerHTML = docLinkHtml;\n",
              "          element.appendChild(docLink);\n",
              "        }\n",
              "      </script>\n",
              "    </div>\n",
              "  </div>\n",
              "  "
            ]
          },
          "metadata": {},
          "execution_count": 4
        }
      ],
      "source": [
        "app_train = pd.read_csv('/content/application_train.csv')\n",
        "app_train.head(2)"
      ]
    },
    {
      "cell_type": "code",
      "execution_count": null,
      "metadata": {
        "colab": {
          "base_uri": "https://localhost:8080/"
        },
        "id": "abWHomC5QT5c",
        "outputId": "e28e4b49-cc37-4b76-e7e5-e516150b3427"
      },
      "outputs": [
        {
          "output_type": "execute_result",
          "data": {
            "text/plain": [
              "(307511, 106)"
            ]
          },
          "metadata": {},
          "execution_count": 5
        }
      ],
      "source": [
        "# Filter Numerical Dataset\n",
        "app_train_num = app_train.select_dtypes(['int','float'])\n",
        "app_train_num.shape"
      ]
    },
    {
      "cell_type": "code",
      "execution_count": null,
      "metadata": {
        "colab": {
          "base_uri": "https://localhost:8080/"
        },
        "id": "2NEI5_5CRrST",
        "outputId": "7dfbe67c-55ff-49ae-c5d7-17c6814049b7"
      },
      "outputs": [
        {
          "output_type": "execute_result",
          "data": {
            "text/plain": [
              "(307511, 16)"
            ]
          },
          "metadata": {},
          "execution_count": 6
        }
      ],
      "source": [
        "# Filter Categorical Dataset\n",
        "app_train_cat = app_train.select_dtypes('object')\n",
        "app_train_cat.shape"
      ]
    },
    {
      "cell_type": "code",
      "execution_count": null,
      "metadata": {
        "id": "y_pToO_Ai3yK"
      },
      "outputs": [],
      "source": [
        "#Days Employed have very high positive values which is a outlier\n",
        "app_train_num['DAYS_EMPLOYED'].replace({365243 :np.nan}, inplace = True)\n",
        "app_train_cat['NAME_FAMILY_STATUS'].replace('Unknown', np.nan, inplace=True)\n",
        "app_train_cat['ORGANIZATION_TYPE'].replace('XNA', np.nan, inplace=True)\n",
        "app_train_cat['CODE_GENDER'].replace('XNA', np.nan, inplace=True)"
      ]
    },
    {
      "cell_type": "code",
      "execution_count": null,
      "metadata": {
        "colab": {
          "base_uri": "https://localhost:8080/",
          "height": 193
        },
        "id": "ORmzwKKdGQOt",
        "outputId": "910e8fbf-b8a4-45e9-f6ec-af229e45168d"
      },
      "outputs": [
        {
          "output_type": "execute_result",
          "data": {
            "text/plain": [
              "  NAME_CONTRACT_TYPE CODE_GENDER FLAG_OWN_CAR FLAG_OWN_REALTY NAME_TYPE_SUITE  \\\n",
              "0         Cash loans           M            N               Y   Unaccompanied   \n",
              "1         Cash loans           F            N               N          Family   \n",
              "\n",
              "  NAME_INCOME_TYPE            NAME_EDUCATION_TYPE    NAME_FAMILY_STATUS  \\\n",
              "0          Working  Secondary / secondary special  Single / not married   \n",
              "1    State servant               Higher education               Married   \n",
              "\n",
              "   NAME_HOUSING_TYPE OCCUPATION_TYPE WEEKDAY_APPR_PROCESS_START  \\\n",
              "0  House / apartment        Laborers                  WEDNESDAY   \n",
              "1  House / apartment      Core staff                     MONDAY   \n",
              "\n",
              "        ORGANIZATION_TYPE FONDKAPREMONT_MODE  HOUSETYPE_MODE  \\\n",
              "0  Business Entity Type 3   reg oper account  block of flats   \n",
              "1                  School   reg oper account  block of flats   \n",
              "\n",
              "  WALLSMATERIAL_MODE EMERGENCYSTATE_MODE  \n",
              "0       Stone, brick                  No  \n",
              "1              Block                  No  "
            ],
            "text/html": [
              "\n",
              "  <div id=\"df-c7574a07-85bb-4485-8e2c-6311d412bde0\">\n",
              "    <div class=\"colab-df-container\">\n",
              "      <div>\n",
              "<style scoped>\n",
              "    .dataframe tbody tr th:only-of-type {\n",
              "        vertical-align: middle;\n",
              "    }\n",
              "\n",
              "    .dataframe tbody tr th {\n",
              "        vertical-align: top;\n",
              "    }\n",
              "\n",
              "    .dataframe thead th {\n",
              "        text-align: right;\n",
              "    }\n",
              "</style>\n",
              "<table border=\"1\" class=\"dataframe\">\n",
              "  <thead>\n",
              "    <tr style=\"text-align: right;\">\n",
              "      <th></th>\n",
              "      <th>NAME_CONTRACT_TYPE</th>\n",
              "      <th>CODE_GENDER</th>\n",
              "      <th>FLAG_OWN_CAR</th>\n",
              "      <th>FLAG_OWN_REALTY</th>\n",
              "      <th>NAME_TYPE_SUITE</th>\n",
              "      <th>NAME_INCOME_TYPE</th>\n",
              "      <th>NAME_EDUCATION_TYPE</th>\n",
              "      <th>NAME_FAMILY_STATUS</th>\n",
              "      <th>NAME_HOUSING_TYPE</th>\n",
              "      <th>OCCUPATION_TYPE</th>\n",
              "      <th>WEEKDAY_APPR_PROCESS_START</th>\n",
              "      <th>ORGANIZATION_TYPE</th>\n",
              "      <th>FONDKAPREMONT_MODE</th>\n",
              "      <th>HOUSETYPE_MODE</th>\n",
              "      <th>WALLSMATERIAL_MODE</th>\n",
              "      <th>EMERGENCYSTATE_MODE</th>\n",
              "    </tr>\n",
              "  </thead>\n",
              "  <tbody>\n",
              "    <tr>\n",
              "      <th>0</th>\n",
              "      <td>Cash loans</td>\n",
              "      <td>M</td>\n",
              "      <td>N</td>\n",
              "      <td>Y</td>\n",
              "      <td>Unaccompanied</td>\n",
              "      <td>Working</td>\n",
              "      <td>Secondary / secondary special</td>\n",
              "      <td>Single / not married</td>\n",
              "      <td>House / apartment</td>\n",
              "      <td>Laborers</td>\n",
              "      <td>WEDNESDAY</td>\n",
              "      <td>Business Entity Type 3</td>\n",
              "      <td>reg oper account</td>\n",
              "      <td>block of flats</td>\n",
              "      <td>Stone, brick</td>\n",
              "      <td>No</td>\n",
              "    </tr>\n",
              "    <tr>\n",
              "      <th>1</th>\n",
              "      <td>Cash loans</td>\n",
              "      <td>F</td>\n",
              "      <td>N</td>\n",
              "      <td>N</td>\n",
              "      <td>Family</td>\n",
              "      <td>State servant</td>\n",
              "      <td>Higher education</td>\n",
              "      <td>Married</td>\n",
              "      <td>House / apartment</td>\n",
              "      <td>Core staff</td>\n",
              "      <td>MONDAY</td>\n",
              "      <td>School</td>\n",
              "      <td>reg oper account</td>\n",
              "      <td>block of flats</td>\n",
              "      <td>Block</td>\n",
              "      <td>No</td>\n",
              "    </tr>\n",
              "  </tbody>\n",
              "</table>\n",
              "</div>\n",
              "      <button class=\"colab-df-convert\" onclick=\"convertToInteractive('df-c7574a07-85bb-4485-8e2c-6311d412bde0')\"\n",
              "              title=\"Convert this dataframe to an interactive table.\"\n",
              "              style=\"display:none;\">\n",
              "        \n",
              "  <svg xmlns=\"http://www.w3.org/2000/svg\" height=\"24px\"viewBox=\"0 0 24 24\"\n",
              "       width=\"24px\">\n",
              "    <path d=\"M0 0h24v24H0V0z\" fill=\"none\"/>\n",
              "    <path d=\"M18.56 5.44l.94 2.06.94-2.06 2.06-.94-2.06-.94-.94-2.06-.94 2.06-2.06.94zm-11 1L8.5 8.5l.94-2.06 2.06-.94-2.06-.94L8.5 2.5l-.94 2.06-2.06.94zm10 10l.94 2.06.94-2.06 2.06-.94-2.06-.94-.94-2.06-.94 2.06-2.06.94z\"/><path d=\"M17.41 7.96l-1.37-1.37c-.4-.4-.92-.59-1.43-.59-.52 0-1.04.2-1.43.59L10.3 9.45l-7.72 7.72c-.78.78-.78 2.05 0 2.83L4 21.41c.39.39.9.59 1.41.59.51 0 1.02-.2 1.41-.59l7.78-7.78 2.81-2.81c.8-.78.8-2.07 0-2.86zM5.41 20L4 18.59l7.72-7.72 1.47 1.35L5.41 20z\"/>\n",
              "  </svg>\n",
              "      </button>\n",
              "      \n",
              "  <style>\n",
              "    .colab-df-container {\n",
              "      display:flex;\n",
              "      flex-wrap:wrap;\n",
              "      gap: 12px;\n",
              "    }\n",
              "\n",
              "    .colab-df-convert {\n",
              "      background-color: #E8F0FE;\n",
              "      border: none;\n",
              "      border-radius: 50%;\n",
              "      cursor: pointer;\n",
              "      display: none;\n",
              "      fill: #1967D2;\n",
              "      height: 32px;\n",
              "      padding: 0 0 0 0;\n",
              "      width: 32px;\n",
              "    }\n",
              "\n",
              "    .colab-df-convert:hover {\n",
              "      background-color: #E2EBFA;\n",
              "      box-shadow: 0px 1px 2px rgba(60, 64, 67, 0.3), 0px 1px 3px 1px rgba(60, 64, 67, 0.15);\n",
              "      fill: #174EA6;\n",
              "    }\n",
              "\n",
              "    [theme=dark] .colab-df-convert {\n",
              "      background-color: #3B4455;\n",
              "      fill: #D2E3FC;\n",
              "    }\n",
              "\n",
              "    [theme=dark] .colab-df-convert:hover {\n",
              "      background-color: #434B5C;\n",
              "      box-shadow: 0px 1px 3px 1px rgba(0, 0, 0, 0.15);\n",
              "      filter: drop-shadow(0px 1px 2px rgba(0, 0, 0, 0.3));\n",
              "      fill: #FFFFFF;\n",
              "    }\n",
              "  </style>\n",
              "\n",
              "      <script>\n",
              "        const buttonEl =\n",
              "          document.querySelector('#df-c7574a07-85bb-4485-8e2c-6311d412bde0 button.colab-df-convert');\n",
              "        buttonEl.style.display =\n",
              "          google.colab.kernel.accessAllowed ? 'block' : 'none';\n",
              "\n",
              "        async function convertToInteractive(key) {\n",
              "          const element = document.querySelector('#df-c7574a07-85bb-4485-8e2c-6311d412bde0');\n",
              "          const dataTable =\n",
              "            await google.colab.kernel.invokeFunction('convertToInteractive',\n",
              "                                                     [key], {});\n",
              "          if (!dataTable) return;\n",
              "\n",
              "          const docLinkHtml = 'Like what you see? Visit the ' +\n",
              "            '<a target=\"_blank\" href=https://colab.research.google.com/notebooks/data_table.ipynb>data table notebook</a>'\n",
              "            + ' to learn more about interactive tables.';\n",
              "          element.innerHTML = '';\n",
              "          dataTable['output_type'] = 'display_data';\n",
              "          await google.colab.output.renderOutput(dataTable, element);\n",
              "          const docLink = document.createElement('div');\n",
              "          docLink.innerHTML = docLinkHtml;\n",
              "          element.appendChild(docLink);\n",
              "        }\n",
              "      </script>\n",
              "    </div>\n",
              "  </div>\n",
              "  "
            ]
          },
          "metadata": {},
          "execution_count": 8
        }
      ],
      "source": [
        "app_train_cat.head(2)"
      ]
    },
    {
      "cell_type": "markdown",
      "metadata": {
        "id": "jSc5e_38Chs6"
      },
      "source": [
        "# **Bureau and Bureau Balance**"
      ]
    },
    {
      "cell_type": "code",
      "execution_count": null,
      "metadata": {
        "colab": {
          "base_uri": "https://localhost:8080/",
          "height": 162
        },
        "id": "NObfEEgCGRj2",
        "outputId": "76e66932-8380-49eb-e6cb-8de176c50bca"
      },
      "outputs": [
        {
          "output_type": "execute_result",
          "data": {
            "text/plain": [
              "   SK_ID_CURR  SK_ID_BUREAU CREDIT_ACTIVE CREDIT_CURRENCY  DAYS_CREDIT  \\\n",
              "0      215354       5714462        Closed      currency 1         -497   \n",
              "\n",
              "   CREDIT_DAY_OVERDUE  DAYS_CREDIT_ENDDATE  DAYS_ENDDATE_FACT  \\\n",
              "0                   0               -153.0             -153.0   \n",
              "\n",
              "   AMT_CREDIT_MAX_OVERDUE  CNT_CREDIT_PROLONG  AMT_CREDIT_SUM  \\\n",
              "0                     NaN                   0         91323.0   \n",
              "\n",
              "   AMT_CREDIT_SUM_DEBT  AMT_CREDIT_SUM_LIMIT  AMT_CREDIT_SUM_OVERDUE  \\\n",
              "0                  0.0                   NaN                     0.0   \n",
              "\n",
              "       CREDIT_TYPE  DAYS_CREDIT_UPDATE  AMT_ANNUITY  \n",
              "0  Consumer credit                -131          NaN  "
            ],
            "text/html": [
              "\n",
              "  <div id=\"df-283caa5e-aa12-4dd1-a399-21171d74b247\">\n",
              "    <div class=\"colab-df-container\">\n",
              "      <div>\n",
              "<style scoped>\n",
              "    .dataframe tbody tr th:only-of-type {\n",
              "        vertical-align: middle;\n",
              "    }\n",
              "\n",
              "    .dataframe tbody tr th {\n",
              "        vertical-align: top;\n",
              "    }\n",
              "\n",
              "    .dataframe thead th {\n",
              "        text-align: right;\n",
              "    }\n",
              "</style>\n",
              "<table border=\"1\" class=\"dataframe\">\n",
              "  <thead>\n",
              "    <tr style=\"text-align: right;\">\n",
              "      <th></th>\n",
              "      <th>SK_ID_CURR</th>\n",
              "      <th>SK_ID_BUREAU</th>\n",
              "      <th>CREDIT_ACTIVE</th>\n",
              "      <th>CREDIT_CURRENCY</th>\n",
              "      <th>DAYS_CREDIT</th>\n",
              "      <th>CREDIT_DAY_OVERDUE</th>\n",
              "      <th>DAYS_CREDIT_ENDDATE</th>\n",
              "      <th>DAYS_ENDDATE_FACT</th>\n",
              "      <th>AMT_CREDIT_MAX_OVERDUE</th>\n",
              "      <th>CNT_CREDIT_PROLONG</th>\n",
              "      <th>AMT_CREDIT_SUM</th>\n",
              "      <th>AMT_CREDIT_SUM_DEBT</th>\n",
              "      <th>AMT_CREDIT_SUM_LIMIT</th>\n",
              "      <th>AMT_CREDIT_SUM_OVERDUE</th>\n",
              "      <th>CREDIT_TYPE</th>\n",
              "      <th>DAYS_CREDIT_UPDATE</th>\n",
              "      <th>AMT_ANNUITY</th>\n",
              "    </tr>\n",
              "  </thead>\n",
              "  <tbody>\n",
              "    <tr>\n",
              "      <th>0</th>\n",
              "      <td>215354</td>\n",
              "      <td>5714462</td>\n",
              "      <td>Closed</td>\n",
              "      <td>currency 1</td>\n",
              "      <td>-497</td>\n",
              "      <td>0</td>\n",
              "      <td>-153.0</td>\n",
              "      <td>-153.0</td>\n",
              "      <td>NaN</td>\n",
              "      <td>0</td>\n",
              "      <td>91323.0</td>\n",
              "      <td>0.0</td>\n",
              "      <td>NaN</td>\n",
              "      <td>0.0</td>\n",
              "      <td>Consumer credit</td>\n",
              "      <td>-131</td>\n",
              "      <td>NaN</td>\n",
              "    </tr>\n",
              "  </tbody>\n",
              "</table>\n",
              "</div>\n",
              "      <button class=\"colab-df-convert\" onclick=\"convertToInteractive('df-283caa5e-aa12-4dd1-a399-21171d74b247')\"\n",
              "              title=\"Convert this dataframe to an interactive table.\"\n",
              "              style=\"display:none;\">\n",
              "        \n",
              "  <svg xmlns=\"http://www.w3.org/2000/svg\" height=\"24px\"viewBox=\"0 0 24 24\"\n",
              "       width=\"24px\">\n",
              "    <path d=\"M0 0h24v24H0V0z\" fill=\"none\"/>\n",
              "    <path d=\"M18.56 5.44l.94 2.06.94-2.06 2.06-.94-2.06-.94-.94-2.06-.94 2.06-2.06.94zm-11 1L8.5 8.5l.94-2.06 2.06-.94-2.06-.94L8.5 2.5l-.94 2.06-2.06.94zm10 10l.94 2.06.94-2.06 2.06-.94-2.06-.94-.94-2.06-.94 2.06-2.06.94z\"/><path d=\"M17.41 7.96l-1.37-1.37c-.4-.4-.92-.59-1.43-.59-.52 0-1.04.2-1.43.59L10.3 9.45l-7.72 7.72c-.78.78-.78 2.05 0 2.83L4 21.41c.39.39.9.59 1.41.59.51 0 1.02-.2 1.41-.59l7.78-7.78 2.81-2.81c.8-.78.8-2.07 0-2.86zM5.41 20L4 18.59l7.72-7.72 1.47 1.35L5.41 20z\"/>\n",
              "  </svg>\n",
              "      </button>\n",
              "      \n",
              "  <style>\n",
              "    .colab-df-container {\n",
              "      display:flex;\n",
              "      flex-wrap:wrap;\n",
              "      gap: 12px;\n",
              "    }\n",
              "\n",
              "    .colab-df-convert {\n",
              "      background-color: #E8F0FE;\n",
              "      border: none;\n",
              "      border-radius: 50%;\n",
              "      cursor: pointer;\n",
              "      display: none;\n",
              "      fill: #1967D2;\n",
              "      height: 32px;\n",
              "      padding: 0 0 0 0;\n",
              "      width: 32px;\n",
              "    }\n",
              "\n",
              "    .colab-df-convert:hover {\n",
              "      background-color: #E2EBFA;\n",
              "      box-shadow: 0px 1px 2px rgba(60, 64, 67, 0.3), 0px 1px 3px 1px rgba(60, 64, 67, 0.15);\n",
              "      fill: #174EA6;\n",
              "    }\n",
              "\n",
              "    [theme=dark] .colab-df-convert {\n",
              "      background-color: #3B4455;\n",
              "      fill: #D2E3FC;\n",
              "    }\n",
              "\n",
              "    [theme=dark] .colab-df-convert:hover {\n",
              "      background-color: #434B5C;\n",
              "      box-shadow: 0px 1px 3px 1px rgba(0, 0, 0, 0.15);\n",
              "      filter: drop-shadow(0px 1px 2px rgba(0, 0, 0, 0.3));\n",
              "      fill: #FFFFFF;\n",
              "    }\n",
              "  </style>\n",
              "\n",
              "      <script>\n",
              "        const buttonEl =\n",
              "          document.querySelector('#df-283caa5e-aa12-4dd1-a399-21171d74b247 button.colab-df-convert');\n",
              "        buttonEl.style.display =\n",
              "          google.colab.kernel.accessAllowed ? 'block' : 'none';\n",
              "\n",
              "        async function convertToInteractive(key) {\n",
              "          const element = document.querySelector('#df-283caa5e-aa12-4dd1-a399-21171d74b247');\n",
              "          const dataTable =\n",
              "            await google.colab.kernel.invokeFunction('convertToInteractive',\n",
              "                                                     [key], {});\n",
              "          if (!dataTable) return;\n",
              "\n",
              "          const docLinkHtml = 'Like what you see? Visit the ' +\n",
              "            '<a target=\"_blank\" href=https://colab.research.google.com/notebooks/data_table.ipynb>data table notebook</a>'\n",
              "            + ' to learn more about interactive tables.';\n",
              "          element.innerHTML = '';\n",
              "          dataTable['output_type'] = 'display_data';\n",
              "          await google.colab.output.renderOutput(dataTable, element);\n",
              "          const docLink = document.createElement('div');\n",
              "          docLink.innerHTML = docLinkHtml;\n",
              "          element.appendChild(docLink);\n",
              "        }\n",
              "      </script>\n",
              "    </div>\n",
              "  </div>\n",
              "  "
            ]
          },
          "metadata": {},
          "execution_count": 9
        }
      ],
      "source": [
        "#Load Bureau csv\n",
        "bureau = pd.read_csv('/content/bureau.csv')\n",
        "bureau.head(1)"
      ]
    },
    {
      "cell_type": "code",
      "source": [
        "# Load Bureau balance csv\n",
        "bu_bal = pd.read_csv('/content/bureau_balance.csv')\n",
        "bu_bal.head(1)"
      ],
      "metadata": {
        "colab": {
          "base_uri": "https://localhost:8080/",
          "height": 81
        },
        "id": "ON4MbGV0b8UZ",
        "outputId": "00b17d0c-9e62-4e95-c7ab-32095bcd8aba"
      },
      "execution_count": null,
      "outputs": [
        {
          "output_type": "execute_result",
          "data": {
            "text/plain": [
              "   SK_ID_BUREAU  MONTHS_BALANCE STATUS\n",
              "0       5715448               0      C"
            ],
            "text/html": [
              "\n",
              "  <div id=\"df-fc9bc960-5279-4b1a-a5ab-108fc61a725f\">\n",
              "    <div class=\"colab-df-container\">\n",
              "      <div>\n",
              "<style scoped>\n",
              "    .dataframe tbody tr th:only-of-type {\n",
              "        vertical-align: middle;\n",
              "    }\n",
              "\n",
              "    .dataframe tbody tr th {\n",
              "        vertical-align: top;\n",
              "    }\n",
              "\n",
              "    .dataframe thead th {\n",
              "        text-align: right;\n",
              "    }\n",
              "</style>\n",
              "<table border=\"1\" class=\"dataframe\">\n",
              "  <thead>\n",
              "    <tr style=\"text-align: right;\">\n",
              "      <th></th>\n",
              "      <th>SK_ID_BUREAU</th>\n",
              "      <th>MONTHS_BALANCE</th>\n",
              "      <th>STATUS</th>\n",
              "    </tr>\n",
              "  </thead>\n",
              "  <tbody>\n",
              "    <tr>\n",
              "      <th>0</th>\n",
              "      <td>5715448</td>\n",
              "      <td>0</td>\n",
              "      <td>C</td>\n",
              "    </tr>\n",
              "  </tbody>\n",
              "</table>\n",
              "</div>\n",
              "      <button class=\"colab-df-convert\" onclick=\"convertToInteractive('df-fc9bc960-5279-4b1a-a5ab-108fc61a725f')\"\n",
              "              title=\"Convert this dataframe to an interactive table.\"\n",
              "              style=\"display:none;\">\n",
              "        \n",
              "  <svg xmlns=\"http://www.w3.org/2000/svg\" height=\"24px\"viewBox=\"0 0 24 24\"\n",
              "       width=\"24px\">\n",
              "    <path d=\"M0 0h24v24H0V0z\" fill=\"none\"/>\n",
              "    <path d=\"M18.56 5.44l.94 2.06.94-2.06 2.06-.94-2.06-.94-.94-2.06-.94 2.06-2.06.94zm-11 1L8.5 8.5l.94-2.06 2.06-.94-2.06-.94L8.5 2.5l-.94 2.06-2.06.94zm10 10l.94 2.06.94-2.06 2.06-.94-2.06-.94-.94-2.06-.94 2.06-2.06.94z\"/><path d=\"M17.41 7.96l-1.37-1.37c-.4-.4-.92-.59-1.43-.59-.52 0-1.04.2-1.43.59L10.3 9.45l-7.72 7.72c-.78.78-.78 2.05 0 2.83L4 21.41c.39.39.9.59 1.41.59.51 0 1.02-.2 1.41-.59l7.78-7.78 2.81-2.81c.8-.78.8-2.07 0-2.86zM5.41 20L4 18.59l7.72-7.72 1.47 1.35L5.41 20z\"/>\n",
              "  </svg>\n",
              "      </button>\n",
              "      \n",
              "  <style>\n",
              "    .colab-df-container {\n",
              "      display:flex;\n",
              "      flex-wrap:wrap;\n",
              "      gap: 12px;\n",
              "    }\n",
              "\n",
              "    .colab-df-convert {\n",
              "      background-color: #E8F0FE;\n",
              "      border: none;\n",
              "      border-radius: 50%;\n",
              "      cursor: pointer;\n",
              "      display: none;\n",
              "      fill: #1967D2;\n",
              "      height: 32px;\n",
              "      padding: 0 0 0 0;\n",
              "      width: 32px;\n",
              "    }\n",
              "\n",
              "    .colab-df-convert:hover {\n",
              "      background-color: #E2EBFA;\n",
              "      box-shadow: 0px 1px 2px rgba(60, 64, 67, 0.3), 0px 1px 3px 1px rgba(60, 64, 67, 0.15);\n",
              "      fill: #174EA6;\n",
              "    }\n",
              "\n",
              "    [theme=dark] .colab-df-convert {\n",
              "      background-color: #3B4455;\n",
              "      fill: #D2E3FC;\n",
              "    }\n",
              "\n",
              "    [theme=dark] .colab-df-convert:hover {\n",
              "      background-color: #434B5C;\n",
              "      box-shadow: 0px 1px 3px 1px rgba(0, 0, 0, 0.15);\n",
              "      filter: drop-shadow(0px 1px 2px rgba(0, 0, 0, 0.3));\n",
              "      fill: #FFFFFF;\n",
              "    }\n",
              "  </style>\n",
              "\n",
              "      <script>\n",
              "        const buttonEl =\n",
              "          document.querySelector('#df-fc9bc960-5279-4b1a-a5ab-108fc61a725f button.colab-df-convert');\n",
              "        buttonEl.style.display =\n",
              "          google.colab.kernel.accessAllowed ? 'block' : 'none';\n",
              "\n",
              "        async function convertToInteractive(key) {\n",
              "          const element = document.querySelector('#df-fc9bc960-5279-4b1a-a5ab-108fc61a725f');\n",
              "          const dataTable =\n",
              "            await google.colab.kernel.invokeFunction('convertToInteractive',\n",
              "                                                     [key], {});\n",
              "          if (!dataTable) return;\n",
              "\n",
              "          const docLinkHtml = 'Like what you see? Visit the ' +\n",
              "            '<a target=\"_blank\" href=https://colab.research.google.com/notebooks/data_table.ipynb>data table notebook</a>'\n",
              "            + ' to learn more about interactive tables.';\n",
              "          element.innerHTML = '';\n",
              "          dataTable['output_type'] = 'display_data';\n",
              "          await google.colab.output.renderOutput(dataTable, element);\n",
              "          const docLink = document.createElement('div');\n",
              "          docLink.innerHTML = docLinkHtml;\n",
              "          element.appendChild(docLink);\n",
              "        }\n",
              "      </script>\n",
              "    </div>\n",
              "  </div>\n",
              "  "
            ]
          },
          "metadata": {},
          "execution_count": 10
        }
      ]
    },
    {
      "cell_type": "code",
      "source": [
        "bu_bal_dum=pd.get_dummies(bu_bal['STATUS'].astype(str)) #Create Categorical features and perform one hot encoding"
      ],
      "metadata": {
        "id": "ewfOY7aJcAFM"
      },
      "execution_count": null,
      "outputs": []
    },
    {
      "cell_type": "code",
      "source": [
        "bu_bal_num=bu_bal.drop(['STATUS'],axis=1) # Filter numerical features\n",
        "bu_bal_num= pd.concat([bu_bal_num,bu_bal_dum],axis=1) # Concat both numerical and encoded categorical features\n",
        "bu_bal_num.sort_values(by='MONTHS_BALANCE') #Sort values by Months Balance\n",
        "bu_bal_num['EWM_MONTHS_BALANCE'] = bu_bal_num['MONTHS_BALANCE'].transform(lambda x: x.ewm(alpha = 0.5).mean()) #Get Exponential Weighted Moving Average\n",
        "bu_bal_num.shape"
      ],
      "metadata": {
        "colab": {
          "base_uri": "https://localhost:8080/"
        },
        "id": "IDxSjjTMcSn5",
        "outputId": "373121e4-2f63-47d7-d0cd-37c8b425d979"
      },
      "execution_count": null,
      "outputs": [
        {
          "output_type": "execute_result",
          "data": {
            "text/plain": [
              "(27299925, 11)"
            ]
          },
          "metadata": {},
          "execution_count": 12
        }
      ]
    },
    {
      "cell_type": "code",
      "source": [
        "bu_bal_num = bu_bal_num.groupby(by = ['SK_ID_BUREAU']).mean().reset_index()"
      ],
      "metadata": {
        "id": "FcIbvM19j1dU"
      },
      "execution_count": null,
      "outputs": []
    },
    {
      "cell_type": "code",
      "execution_count": null,
      "metadata": {
        "id": "vOj2wsFgm6_q"
      },
      "outputs": [],
      "source": [
        "cat=bureau.select_dtypes('object') #Select categorical dataset\n",
        "cat_list= list(cat.columns.values) #Make a list of categorical dataset\n",
        "bureau_dum=pd.get_dummies(bureau[cat_list]) #Perform One hot Encoding on the Categorical Dataset\n",
        "bureau_num = bureau.drop(cat_list,axis=1) \n",
        "bureau_num = pd.concat([bureau_num,bureau_dum],axis=1) #Concatenate the categorical and Numerical dataset\n",
        "bureau_num.sort_values(by='DAYS_CREDIT')\n",
        "bureau_num['EWM_DAYS_CREDIT'] = bureau_num['DAYS_CREDIT'].transform(lambda x: x.ewm(alpha = 0.8).mean())\n",
        "bureau_num.sort_values(by='DAYS_CREDIT_ENDDATE')\n",
        "bureau_num['EWM_DAYS_CREDIT_ENDDATE'] = bureau_num['DAYS_CREDIT_ENDDATE'].transform(lambda x: x.ewm(alpha = 0.5).mean())\n",
        "bureau_num = bureau_num.groupby(by = ['SK_ID_BUREAU']).mean().reset_index()"
      ]
    },
    {
      "cell_type": "code",
      "execution_count": null,
      "metadata": {
        "id": "sD3m8nrrXicT"
      },
      "outputs": [],
      "source": [
        "count = (bureau_num.groupby(by =['SK_ID_CURR'])).count().reset_index()\n",
        "count['COUNT']=count['SK_ID_BUREAU']"
      ]
    },
    {
      "cell_type": "code",
      "source": [
        "bureau_num = bureau_num.merge(bu_bal_num, on='SK_ID_BUREAU',how='left') #Merge Bureau Balance features on Bureau features"
      ],
      "metadata": {
        "id": "OEqZxMMSctAm"
      },
      "execution_count": null,
      "outputs": []
    },
    {
      "cell_type": "code",
      "execution_count": null,
      "metadata": {
        "id": "9PzIiEMv9Na6"
      },
      "outputs": [],
      "source": [
        "bureau_num = bureau_num.drop(['SK_ID_BUREAU'],axis=1) #Drop SK_ID_BUREAU\n",
        "agg1 = bureau_num.groupby(by = ['SK_ID_CURR']).min().reset_index() # Groupby SK_ID_CURR and take the min values\n",
        "agg1=agg1.rename(columns= lambda x: x+'_min' if x !='SK_ID_CURR'  else x) \n",
        "agg2 = bureau_num.groupby(by = ['SK_ID_CURR']).max().reset_index() # Groupby SK_ID_CURR and take the max values\n",
        "agg2=agg2.rename(columns= lambda x: x+'_max' if x !='SK_ID_CURR'  else x) \n",
        "agg3 = bureau_num.groupby(by = ['SK_ID_CURR']).mean().reset_index()\n",
        "agg3=agg3.rename(columns= lambda x: x+'_mean' if x !='SK_ID_CURR' else x) # Groupby SK_ID_CURR and take the mean of values\n",
        "\n",
        "bureau_num = agg1 # Merge the min max and mean feature together\n",
        "bureau_num = bureau_num.merge(agg2, on='SK_ID_CURR',how='left')\n",
        "bureau_num = bureau_num.merge(agg3, on='SK_ID_CURR',how='left')\n",
        "\n",
        "bureau_num = bureau_num.merge(count[['SK_ID_CURR','COUNT']], on='SK_ID_CURR',how='left')"
      ]
    },
    {
      "cell_type": "code",
      "execution_count": null,
      "metadata": {
        "id": "BdMgEXKInS3o"
      },
      "outputs": [],
      "source": [
        "bureau_num=bureau_num.rename(columns= lambda x: 'BU_'+x if x !='SK_ID_CURR' else x) #Update the name of the Features\n",
        "app_train_num = app_train_num.merge(bureau_num, on='SK_ID_CURR', how='left') #Merge the features on the SK_ID_CURR\n",
        "del bureau_num\n",
        "del bureau\n",
        "del count\n",
        "del agg1\n",
        "del agg2\n",
        "del agg3"
      ]
    },
    {
      "cell_type": "markdown",
      "metadata": {
        "id": "iGzx5-WtSRkK"
      },
      "source": [
        "# **Credit Card Balance**"
      ]
    },
    {
      "cell_type": "code",
      "execution_count": null,
      "metadata": {
        "colab": {
          "base_uri": "https://localhost:8080/",
          "height": 174
        },
        "id": "xgMRQIIoPKxV",
        "outputId": "d5404d7f-6c94-4ed9-f7ec-dc7ebcfd4308"
      },
      "outputs": [
        {
          "output_type": "execute_result",
          "data": {
            "text/plain": [
              "   SK_ID_PREV  SK_ID_CURR  MONTHS_BALANCE  AMT_BALANCE  \\\n",
              "0     2562384      378907              -6        56.97   \n",
              "\n",
              "   AMT_CREDIT_LIMIT_ACTUAL  AMT_DRAWINGS_ATM_CURRENT  AMT_DRAWINGS_CURRENT  \\\n",
              "0                   135000                       0.0                 877.5   \n",
              "\n",
              "   AMT_DRAWINGS_OTHER_CURRENT  AMT_DRAWINGS_POS_CURRENT  \\\n",
              "0                         0.0                     877.5   \n",
              "\n",
              "   AMT_INST_MIN_REGULARITY  ...  AMT_RECIVABLE  AMT_TOTAL_RECEIVABLE  \\\n",
              "0                 1700.325  ...            0.0                   0.0   \n",
              "\n",
              "   CNT_DRAWINGS_ATM_CURRENT  CNT_DRAWINGS_CURRENT  CNT_DRAWINGS_OTHER_CURRENT  \\\n",
              "0                       0.0                     1                         0.0   \n",
              "\n",
              "   CNT_DRAWINGS_POS_CURRENT  CNT_INSTALMENT_MATURE_CUM  NAME_CONTRACT_STATUS  \\\n",
              "0                       1.0                       35.0                Active   \n",
              "\n",
              "   SK_DPD  SK_DPD_DEF  \n",
              "0       0           0  \n",
              "\n",
              "[1 rows x 23 columns]"
            ],
            "text/html": [
              "\n",
              "  <div id=\"df-b7f1f0c8-2b01-488c-8ee2-291620530bec\">\n",
              "    <div class=\"colab-df-container\">\n",
              "      <div>\n",
              "<style scoped>\n",
              "    .dataframe tbody tr th:only-of-type {\n",
              "        vertical-align: middle;\n",
              "    }\n",
              "\n",
              "    .dataframe tbody tr th {\n",
              "        vertical-align: top;\n",
              "    }\n",
              "\n",
              "    .dataframe thead th {\n",
              "        text-align: right;\n",
              "    }\n",
              "</style>\n",
              "<table border=\"1\" class=\"dataframe\">\n",
              "  <thead>\n",
              "    <tr style=\"text-align: right;\">\n",
              "      <th></th>\n",
              "      <th>SK_ID_PREV</th>\n",
              "      <th>SK_ID_CURR</th>\n",
              "      <th>MONTHS_BALANCE</th>\n",
              "      <th>AMT_BALANCE</th>\n",
              "      <th>AMT_CREDIT_LIMIT_ACTUAL</th>\n",
              "      <th>AMT_DRAWINGS_ATM_CURRENT</th>\n",
              "      <th>AMT_DRAWINGS_CURRENT</th>\n",
              "      <th>AMT_DRAWINGS_OTHER_CURRENT</th>\n",
              "      <th>AMT_DRAWINGS_POS_CURRENT</th>\n",
              "      <th>AMT_INST_MIN_REGULARITY</th>\n",
              "      <th>...</th>\n",
              "      <th>AMT_RECIVABLE</th>\n",
              "      <th>AMT_TOTAL_RECEIVABLE</th>\n",
              "      <th>CNT_DRAWINGS_ATM_CURRENT</th>\n",
              "      <th>CNT_DRAWINGS_CURRENT</th>\n",
              "      <th>CNT_DRAWINGS_OTHER_CURRENT</th>\n",
              "      <th>CNT_DRAWINGS_POS_CURRENT</th>\n",
              "      <th>CNT_INSTALMENT_MATURE_CUM</th>\n",
              "      <th>NAME_CONTRACT_STATUS</th>\n",
              "      <th>SK_DPD</th>\n",
              "      <th>SK_DPD_DEF</th>\n",
              "    </tr>\n",
              "  </thead>\n",
              "  <tbody>\n",
              "    <tr>\n",
              "      <th>0</th>\n",
              "      <td>2562384</td>\n",
              "      <td>378907</td>\n",
              "      <td>-6</td>\n",
              "      <td>56.97</td>\n",
              "      <td>135000</td>\n",
              "      <td>0.0</td>\n",
              "      <td>877.5</td>\n",
              "      <td>0.0</td>\n",
              "      <td>877.5</td>\n",
              "      <td>1700.325</td>\n",
              "      <td>...</td>\n",
              "      <td>0.0</td>\n",
              "      <td>0.0</td>\n",
              "      <td>0.0</td>\n",
              "      <td>1</td>\n",
              "      <td>0.0</td>\n",
              "      <td>1.0</td>\n",
              "      <td>35.0</td>\n",
              "      <td>Active</td>\n",
              "      <td>0</td>\n",
              "      <td>0</td>\n",
              "    </tr>\n",
              "  </tbody>\n",
              "</table>\n",
              "<p>1 rows × 23 columns</p>\n",
              "</div>\n",
              "      <button class=\"colab-df-convert\" onclick=\"convertToInteractive('df-b7f1f0c8-2b01-488c-8ee2-291620530bec')\"\n",
              "              title=\"Convert this dataframe to an interactive table.\"\n",
              "              style=\"display:none;\">\n",
              "        \n",
              "  <svg xmlns=\"http://www.w3.org/2000/svg\" height=\"24px\"viewBox=\"0 0 24 24\"\n",
              "       width=\"24px\">\n",
              "    <path d=\"M0 0h24v24H0V0z\" fill=\"none\"/>\n",
              "    <path d=\"M18.56 5.44l.94 2.06.94-2.06 2.06-.94-2.06-.94-.94-2.06-.94 2.06-2.06.94zm-11 1L8.5 8.5l.94-2.06 2.06-.94-2.06-.94L8.5 2.5l-.94 2.06-2.06.94zm10 10l.94 2.06.94-2.06 2.06-.94-2.06-.94-.94-2.06-.94 2.06-2.06.94z\"/><path d=\"M17.41 7.96l-1.37-1.37c-.4-.4-.92-.59-1.43-.59-.52 0-1.04.2-1.43.59L10.3 9.45l-7.72 7.72c-.78.78-.78 2.05 0 2.83L4 21.41c.39.39.9.59 1.41.59.51 0 1.02-.2 1.41-.59l7.78-7.78 2.81-2.81c.8-.78.8-2.07 0-2.86zM5.41 20L4 18.59l7.72-7.72 1.47 1.35L5.41 20z\"/>\n",
              "  </svg>\n",
              "      </button>\n",
              "      \n",
              "  <style>\n",
              "    .colab-df-container {\n",
              "      display:flex;\n",
              "      flex-wrap:wrap;\n",
              "      gap: 12px;\n",
              "    }\n",
              "\n",
              "    .colab-df-convert {\n",
              "      background-color: #E8F0FE;\n",
              "      border: none;\n",
              "      border-radius: 50%;\n",
              "      cursor: pointer;\n",
              "      display: none;\n",
              "      fill: #1967D2;\n",
              "      height: 32px;\n",
              "      padding: 0 0 0 0;\n",
              "      width: 32px;\n",
              "    }\n",
              "\n",
              "    .colab-df-convert:hover {\n",
              "      background-color: #E2EBFA;\n",
              "      box-shadow: 0px 1px 2px rgba(60, 64, 67, 0.3), 0px 1px 3px 1px rgba(60, 64, 67, 0.15);\n",
              "      fill: #174EA6;\n",
              "    }\n",
              "\n",
              "    [theme=dark] .colab-df-convert {\n",
              "      background-color: #3B4455;\n",
              "      fill: #D2E3FC;\n",
              "    }\n",
              "\n",
              "    [theme=dark] .colab-df-convert:hover {\n",
              "      background-color: #434B5C;\n",
              "      box-shadow: 0px 1px 3px 1px rgba(0, 0, 0, 0.15);\n",
              "      filter: drop-shadow(0px 1px 2px rgba(0, 0, 0, 0.3));\n",
              "      fill: #FFFFFF;\n",
              "    }\n",
              "  </style>\n",
              "\n",
              "      <script>\n",
              "        const buttonEl =\n",
              "          document.querySelector('#df-b7f1f0c8-2b01-488c-8ee2-291620530bec button.colab-df-convert');\n",
              "        buttonEl.style.display =\n",
              "          google.colab.kernel.accessAllowed ? 'block' : 'none';\n",
              "\n",
              "        async function convertToInteractive(key) {\n",
              "          const element = document.querySelector('#df-b7f1f0c8-2b01-488c-8ee2-291620530bec');\n",
              "          const dataTable =\n",
              "            await google.colab.kernel.invokeFunction('convertToInteractive',\n",
              "                                                     [key], {});\n",
              "          if (!dataTable) return;\n",
              "\n",
              "          const docLinkHtml = 'Like what you see? Visit the ' +\n",
              "            '<a target=\"_blank\" href=https://colab.research.google.com/notebooks/data_table.ipynb>data table notebook</a>'\n",
              "            + ' to learn more about interactive tables.';\n",
              "          element.innerHTML = '';\n",
              "          dataTable['output_type'] = 'display_data';\n",
              "          await google.colab.output.renderOutput(dataTable, element);\n",
              "          const docLink = document.createElement('div');\n",
              "          docLink.innerHTML = docLinkHtml;\n",
              "          element.appendChild(docLink);\n",
              "        }\n",
              "      </script>\n",
              "    </div>\n",
              "  </div>\n",
              "  "
            ]
          },
          "metadata": {},
          "execution_count": 19
        }
      ],
      "source": [
        "cc_bal = pd.read_csv('/content/credit_card_balance.csv')\n",
        "cc_bal.head(1)"
      ]
    },
    {
      "cell_type": "code",
      "execution_count": null,
      "metadata": {
        "id": "VemIczaUcRhP"
      },
      "outputs": [],
      "source": [
        "cc_bal_dum=pd.get_dummies(cc_bal['NAME_CONTRACT_STATUS'])"
      ]
    },
    {
      "cell_type": "code",
      "execution_count": null,
      "metadata": {
        "id": "_rsDs5yzPK-q"
      },
      "outputs": [],
      "source": [
        "cc_bal_num=cc_bal.drop(['NAME_CONTRACT_STATUS'],axis=1)\n",
        "cc_bal_num= pd.concat([cc_bal_num,cc_bal_dum],axis=1)\n",
        "cc_bal_num.sort_values(by='MONTHS_BALANCE')\n",
        "cc_bal['EWM_MONTHS_BALANCE'] = cc_bal['MONTHS_BALANCE'].transform(lambda x: x.ewm(alpha = 0.5).mean())"
      ]
    },
    {
      "cell_type": "code",
      "execution_count": null,
      "metadata": {
        "id": "DWHAkKYVibqc"
      },
      "outputs": [],
      "source": [
        "count = cc_bal_num.groupby(by =['SK_ID_CURR']).count().reset_index()\n",
        "count['COUNT']=count['SK_ID_PREV']"
      ]
    },
    {
      "cell_type": "code",
      "execution_count": null,
      "metadata": {
        "id": "NTz9M_nVKZbY"
      },
      "outputs": [],
      "source": [
        "cc_bal_num =cc_bal_num.drop(['SK_ID_PREV'],axis=1)\n",
        "agg1 = cc_bal_num.groupby(by = ['SK_ID_CURR']).min().reset_index()\n",
        "agg1=agg1.rename(columns= lambda x: x+'_min' if x !='SK_ID_CURR'  else x) \n",
        "agg2 = cc_bal_num.groupby(by = ['SK_ID_CURR']).max().reset_index()\n",
        "agg2=agg2.rename(columns= lambda x: x+'_max' if x !='SK_ID_CURR'  else x) \n",
        "agg3 = cc_bal_num.groupby(by = ['SK_ID_CURR']).mean().reset_index()\n",
        "agg3=agg3.rename(columns= lambda x: x+'_mean' if x !='SK_ID_CURR' else x) \n",
        "\n",
        "cc_bal_num = agg1\n",
        "cc_bal_num = cc_bal_num.merge(agg2, on='SK_ID_CURR',how='left')\n",
        "cc_bal_num = cc_bal_num.merge(agg3, on='SK_ID_CURR',how='left')\n",
        "\n",
        "cc_bal_num = cc_bal_num.merge(count[['SK_ID_CURR','COUNT']], on='SK_ID_CURR',how='left')\n",
        "cc_bal_num =cc_bal_num.rename(columns= lambda x: 'CCB_'+x if x !='SK_ID_CURR' else x)\n",
        "app_train_num = app_train_num.merge(cc_bal_num, on='SK_ID_CURR', how='left')\n",
        "del cc_bal_num\n",
        "del cc_bal\n",
        "del count\n",
        "del agg1\n",
        "del agg2\n",
        "del agg3"
      ]
    },
    {
      "cell_type": "markdown",
      "metadata": {
        "id": "VPe81N7od0qW"
      },
      "source": [
        "# **Installments_payments**"
      ]
    },
    {
      "cell_type": "code",
      "execution_count": null,
      "metadata": {
        "colab": {
          "base_uri": "https://localhost:8080/",
          "height": 81
        },
        "id": "y15_9sS_d8JN",
        "outputId": "301c32da-eea5-4784-bbb9-1c5de152ded4"
      },
      "outputs": [
        {
          "output_type": "execute_result",
          "data": {
            "text/plain": [
              "   SK_ID_PREV  SK_ID_CURR  NUM_INSTALMENT_VERSION  NUM_INSTALMENT_NUMBER  \\\n",
              "0     1054186      161674                     1.0                      6   \n",
              "\n",
              "   DAYS_INSTALMENT  DAYS_ENTRY_PAYMENT  AMT_INSTALMENT  AMT_PAYMENT  \n",
              "0          -1180.0             -1187.0         6948.36      6948.36  "
            ],
            "text/html": [
              "\n",
              "  <div id=\"df-c0a950cf-5b26-482d-a66e-12d1697acf24\">\n",
              "    <div class=\"colab-df-container\">\n",
              "      <div>\n",
              "<style scoped>\n",
              "    .dataframe tbody tr th:only-of-type {\n",
              "        vertical-align: middle;\n",
              "    }\n",
              "\n",
              "    .dataframe tbody tr th {\n",
              "        vertical-align: top;\n",
              "    }\n",
              "\n",
              "    .dataframe thead th {\n",
              "        text-align: right;\n",
              "    }\n",
              "</style>\n",
              "<table border=\"1\" class=\"dataframe\">\n",
              "  <thead>\n",
              "    <tr style=\"text-align: right;\">\n",
              "      <th></th>\n",
              "      <th>SK_ID_PREV</th>\n",
              "      <th>SK_ID_CURR</th>\n",
              "      <th>NUM_INSTALMENT_VERSION</th>\n",
              "      <th>NUM_INSTALMENT_NUMBER</th>\n",
              "      <th>DAYS_INSTALMENT</th>\n",
              "      <th>DAYS_ENTRY_PAYMENT</th>\n",
              "      <th>AMT_INSTALMENT</th>\n",
              "      <th>AMT_PAYMENT</th>\n",
              "    </tr>\n",
              "  </thead>\n",
              "  <tbody>\n",
              "    <tr>\n",
              "      <th>0</th>\n",
              "      <td>1054186</td>\n",
              "      <td>161674</td>\n",
              "      <td>1.0</td>\n",
              "      <td>6</td>\n",
              "      <td>-1180.0</td>\n",
              "      <td>-1187.0</td>\n",
              "      <td>6948.36</td>\n",
              "      <td>6948.36</td>\n",
              "    </tr>\n",
              "  </tbody>\n",
              "</table>\n",
              "</div>\n",
              "      <button class=\"colab-df-convert\" onclick=\"convertToInteractive('df-c0a950cf-5b26-482d-a66e-12d1697acf24')\"\n",
              "              title=\"Convert this dataframe to an interactive table.\"\n",
              "              style=\"display:none;\">\n",
              "        \n",
              "  <svg xmlns=\"http://www.w3.org/2000/svg\" height=\"24px\"viewBox=\"0 0 24 24\"\n",
              "       width=\"24px\">\n",
              "    <path d=\"M0 0h24v24H0V0z\" fill=\"none\"/>\n",
              "    <path d=\"M18.56 5.44l.94 2.06.94-2.06 2.06-.94-2.06-.94-.94-2.06-.94 2.06-2.06.94zm-11 1L8.5 8.5l.94-2.06 2.06-.94-2.06-.94L8.5 2.5l-.94 2.06-2.06.94zm10 10l.94 2.06.94-2.06 2.06-.94-2.06-.94-.94-2.06-.94 2.06-2.06.94z\"/><path d=\"M17.41 7.96l-1.37-1.37c-.4-.4-.92-.59-1.43-.59-.52 0-1.04.2-1.43.59L10.3 9.45l-7.72 7.72c-.78.78-.78 2.05 0 2.83L4 21.41c.39.39.9.59 1.41.59.51 0 1.02-.2 1.41-.59l7.78-7.78 2.81-2.81c.8-.78.8-2.07 0-2.86zM5.41 20L4 18.59l7.72-7.72 1.47 1.35L5.41 20z\"/>\n",
              "  </svg>\n",
              "      </button>\n",
              "      \n",
              "  <style>\n",
              "    .colab-df-container {\n",
              "      display:flex;\n",
              "      flex-wrap:wrap;\n",
              "      gap: 12px;\n",
              "    }\n",
              "\n",
              "    .colab-df-convert {\n",
              "      background-color: #E8F0FE;\n",
              "      border: none;\n",
              "      border-radius: 50%;\n",
              "      cursor: pointer;\n",
              "      display: none;\n",
              "      fill: #1967D2;\n",
              "      height: 32px;\n",
              "      padding: 0 0 0 0;\n",
              "      width: 32px;\n",
              "    }\n",
              "\n",
              "    .colab-df-convert:hover {\n",
              "      background-color: #E2EBFA;\n",
              "      box-shadow: 0px 1px 2px rgba(60, 64, 67, 0.3), 0px 1px 3px 1px rgba(60, 64, 67, 0.15);\n",
              "      fill: #174EA6;\n",
              "    }\n",
              "\n",
              "    [theme=dark] .colab-df-convert {\n",
              "      background-color: #3B4455;\n",
              "      fill: #D2E3FC;\n",
              "    }\n",
              "\n",
              "    [theme=dark] .colab-df-convert:hover {\n",
              "      background-color: #434B5C;\n",
              "      box-shadow: 0px 1px 3px 1px rgba(0, 0, 0, 0.15);\n",
              "      filter: drop-shadow(0px 1px 2px rgba(0, 0, 0, 0.3));\n",
              "      fill: #FFFFFF;\n",
              "    }\n",
              "  </style>\n",
              "\n",
              "      <script>\n",
              "        const buttonEl =\n",
              "          document.querySelector('#df-c0a950cf-5b26-482d-a66e-12d1697acf24 button.colab-df-convert');\n",
              "        buttonEl.style.display =\n",
              "          google.colab.kernel.accessAllowed ? 'block' : 'none';\n",
              "\n",
              "        async function convertToInteractive(key) {\n",
              "          const element = document.querySelector('#df-c0a950cf-5b26-482d-a66e-12d1697acf24');\n",
              "          const dataTable =\n",
              "            await google.colab.kernel.invokeFunction('convertToInteractive',\n",
              "                                                     [key], {});\n",
              "          if (!dataTable) return;\n",
              "\n",
              "          const docLinkHtml = 'Like what you see? Visit the ' +\n",
              "            '<a target=\"_blank\" href=https://colab.research.google.com/notebooks/data_table.ipynb>data table notebook</a>'\n",
              "            + ' to learn more about interactive tables.';\n",
              "          element.innerHTML = '';\n",
              "          dataTable['output_type'] = 'display_data';\n",
              "          await google.colab.output.renderOutput(dataTable, element);\n",
              "          const docLink = document.createElement('div');\n",
              "          docLink.innerHTML = docLinkHtml;\n",
              "          element.appendChild(docLink);\n",
              "        }\n",
              "      </script>\n",
              "    </div>\n",
              "  </div>\n",
              "  "
            ]
          },
          "metadata": {},
          "execution_count": 24
        }
      ],
      "source": [
        "install_pay = pd.read_csv('/content/installments_payments.csv')\n",
        "install_pay.head(1)"
      ]
    },
    {
      "cell_type": "code",
      "source": [
        "install_pay.sort_values(by='DAYS_INSTALMENT')\n",
        "install_pay['EWM_DAYS_INSTALMENT'] = install_pay['DAYS_INSTALMENT'] .transform(lambda x: x.ewm(alpha = 0.5).mean())\n",
        "install_pay.sort_values(by='DAYS_ENTRY_PAYMENT')\n",
        "install_pay['EWM_DAYS_ENTRY_PAYMENT'] = install_pay['DAYS_ENTRY_PAYMENT'] .transform(lambda x: x.ewm(alpha = 0.5).mean())"
      ],
      "metadata": {
        "id": "1gY0-zGOdT3V"
      },
      "execution_count": null,
      "outputs": []
    },
    {
      "cell_type": "code",
      "execution_count": null,
      "metadata": {
        "id": "1FpBLHW9bzG3"
      },
      "outputs": [],
      "source": [
        "count = install_pay.groupby(by =['SK_ID_CURR']).count().reset_index()\n",
        "count['COUNT']=count['SK_ID_PREV']"
      ]
    },
    {
      "cell_type": "code",
      "execution_count": null,
      "metadata": {
        "id": "5THjLJjHd8S3"
      },
      "outputs": [],
      "source": [
        "install_pay_num =install_pay.drop(['SK_ID_PREV'],axis=1)\n",
        "agg1 = install_pay_num.groupby(by = ['SK_ID_CURR']).min().reset_index()\n",
        "agg1=agg1.rename(columns= lambda x: x+'_min' if x !='SK_ID_CURR'  else x) \n",
        "agg2 = install_pay_num.groupby(by = ['SK_ID_CURR']).max().reset_index()\n",
        "agg2=agg2.rename(columns= lambda x: x+'_max' if x !='SK_ID_CURR'  else x) \n",
        "agg3 = install_pay_num.groupby(by = ['SK_ID_CURR']).mean().reset_index()\n",
        "agg3=agg3.rename(columns= lambda x: x+'_mean' if x !='SK_ID_CURR' else x) \n",
        "\n",
        "install_pay_num = agg1\n",
        "install_pay_num = install_pay_num.merge(agg2, on='SK_ID_CURR',how='left')\n",
        "install_pay_num = install_pay_num.merge(agg3, on='SK_ID_CURR',how='left')\n",
        "\n",
        "\n",
        "install_pay_num = install_pay_num.merge(count[['SK_ID_CURR','COUNT']], on='SK_ID_CURR',how='left')"
      ]
    },
    {
      "cell_type": "code",
      "execution_count": null,
      "metadata": {
        "id": "6M7H2Ip5d8cC"
      },
      "outputs": [],
      "source": [
        "install_pay_num =install_pay_num.rename(columns= lambda x: 'IP_'+x if x !='SK_ID_CURR' else x)\n",
        "app_train_num = app_train_num.merge(install_pay_num, on='SK_ID_CURR', how='left')\n",
        "del install_pay_num\n",
        "del install_pay\n",
        "del count\n",
        "del agg1\n",
        "del agg2\n",
        "del agg3"
      ]
    },
    {
      "cell_type": "markdown",
      "metadata": {
        "id": "EIsRNBjXf2wx"
      },
      "source": [
        "# **POS_CASH**"
      ]
    },
    {
      "cell_type": "code",
      "execution_count": null,
      "metadata": {
        "colab": {
          "base_uri": "https://localhost:8080/",
          "height": 112
        },
        "id": "YiyQfFuAf8BB",
        "outputId": "e429b30f-ffbc-4e79-8686-22c62355d64f"
      },
      "outputs": [
        {
          "output_type": "execute_result",
          "data": {
            "text/plain": [
              "   SK_ID_PREV  SK_ID_CURR  MONTHS_BALANCE  CNT_INSTALMENT  \\\n",
              "0     1803195      182943             -31            48.0   \n",
              "1     1715348      367990             -33            36.0   \n",
              "\n",
              "   CNT_INSTALMENT_FUTURE NAME_CONTRACT_STATUS  SK_DPD  SK_DPD_DEF  \n",
              "0                   45.0               Active       0           0  \n",
              "1                   35.0               Active       0           0  "
            ],
            "text/html": [
              "\n",
              "  <div id=\"df-e5898eff-1aee-476a-9c0c-73fb71d69de6\">\n",
              "    <div class=\"colab-df-container\">\n",
              "      <div>\n",
              "<style scoped>\n",
              "    .dataframe tbody tr th:only-of-type {\n",
              "        vertical-align: middle;\n",
              "    }\n",
              "\n",
              "    .dataframe tbody tr th {\n",
              "        vertical-align: top;\n",
              "    }\n",
              "\n",
              "    .dataframe thead th {\n",
              "        text-align: right;\n",
              "    }\n",
              "</style>\n",
              "<table border=\"1\" class=\"dataframe\">\n",
              "  <thead>\n",
              "    <tr style=\"text-align: right;\">\n",
              "      <th></th>\n",
              "      <th>SK_ID_PREV</th>\n",
              "      <th>SK_ID_CURR</th>\n",
              "      <th>MONTHS_BALANCE</th>\n",
              "      <th>CNT_INSTALMENT</th>\n",
              "      <th>CNT_INSTALMENT_FUTURE</th>\n",
              "      <th>NAME_CONTRACT_STATUS</th>\n",
              "      <th>SK_DPD</th>\n",
              "      <th>SK_DPD_DEF</th>\n",
              "    </tr>\n",
              "  </thead>\n",
              "  <tbody>\n",
              "    <tr>\n",
              "      <th>0</th>\n",
              "      <td>1803195</td>\n",
              "      <td>182943</td>\n",
              "      <td>-31</td>\n",
              "      <td>48.0</td>\n",
              "      <td>45.0</td>\n",
              "      <td>Active</td>\n",
              "      <td>0</td>\n",
              "      <td>0</td>\n",
              "    </tr>\n",
              "    <tr>\n",
              "      <th>1</th>\n",
              "      <td>1715348</td>\n",
              "      <td>367990</td>\n",
              "      <td>-33</td>\n",
              "      <td>36.0</td>\n",
              "      <td>35.0</td>\n",
              "      <td>Active</td>\n",
              "      <td>0</td>\n",
              "      <td>0</td>\n",
              "    </tr>\n",
              "  </tbody>\n",
              "</table>\n",
              "</div>\n",
              "      <button class=\"colab-df-convert\" onclick=\"convertToInteractive('df-e5898eff-1aee-476a-9c0c-73fb71d69de6')\"\n",
              "              title=\"Convert this dataframe to an interactive table.\"\n",
              "              style=\"display:none;\">\n",
              "        \n",
              "  <svg xmlns=\"http://www.w3.org/2000/svg\" height=\"24px\"viewBox=\"0 0 24 24\"\n",
              "       width=\"24px\">\n",
              "    <path d=\"M0 0h24v24H0V0z\" fill=\"none\"/>\n",
              "    <path d=\"M18.56 5.44l.94 2.06.94-2.06 2.06-.94-2.06-.94-.94-2.06-.94 2.06-2.06.94zm-11 1L8.5 8.5l.94-2.06 2.06-.94-2.06-.94L8.5 2.5l-.94 2.06-2.06.94zm10 10l.94 2.06.94-2.06 2.06-.94-2.06-.94-.94-2.06-.94 2.06-2.06.94z\"/><path d=\"M17.41 7.96l-1.37-1.37c-.4-.4-.92-.59-1.43-.59-.52 0-1.04.2-1.43.59L10.3 9.45l-7.72 7.72c-.78.78-.78 2.05 0 2.83L4 21.41c.39.39.9.59 1.41.59.51 0 1.02-.2 1.41-.59l7.78-7.78 2.81-2.81c.8-.78.8-2.07 0-2.86zM5.41 20L4 18.59l7.72-7.72 1.47 1.35L5.41 20z\"/>\n",
              "  </svg>\n",
              "      </button>\n",
              "      \n",
              "  <style>\n",
              "    .colab-df-container {\n",
              "      display:flex;\n",
              "      flex-wrap:wrap;\n",
              "      gap: 12px;\n",
              "    }\n",
              "\n",
              "    .colab-df-convert {\n",
              "      background-color: #E8F0FE;\n",
              "      border: none;\n",
              "      border-radius: 50%;\n",
              "      cursor: pointer;\n",
              "      display: none;\n",
              "      fill: #1967D2;\n",
              "      height: 32px;\n",
              "      padding: 0 0 0 0;\n",
              "      width: 32px;\n",
              "    }\n",
              "\n",
              "    .colab-df-convert:hover {\n",
              "      background-color: #E2EBFA;\n",
              "      box-shadow: 0px 1px 2px rgba(60, 64, 67, 0.3), 0px 1px 3px 1px rgba(60, 64, 67, 0.15);\n",
              "      fill: #174EA6;\n",
              "    }\n",
              "\n",
              "    [theme=dark] .colab-df-convert {\n",
              "      background-color: #3B4455;\n",
              "      fill: #D2E3FC;\n",
              "    }\n",
              "\n",
              "    [theme=dark] .colab-df-convert:hover {\n",
              "      background-color: #434B5C;\n",
              "      box-shadow: 0px 1px 3px 1px rgba(0, 0, 0, 0.15);\n",
              "      filter: drop-shadow(0px 1px 2px rgba(0, 0, 0, 0.3));\n",
              "      fill: #FFFFFF;\n",
              "    }\n",
              "  </style>\n",
              "\n",
              "      <script>\n",
              "        const buttonEl =\n",
              "          document.querySelector('#df-e5898eff-1aee-476a-9c0c-73fb71d69de6 button.colab-df-convert');\n",
              "        buttonEl.style.display =\n",
              "          google.colab.kernel.accessAllowed ? 'block' : 'none';\n",
              "\n",
              "        async function convertToInteractive(key) {\n",
              "          const element = document.querySelector('#df-e5898eff-1aee-476a-9c0c-73fb71d69de6');\n",
              "          const dataTable =\n",
              "            await google.colab.kernel.invokeFunction('convertToInteractive',\n",
              "                                                     [key], {});\n",
              "          if (!dataTable) return;\n",
              "\n",
              "          const docLinkHtml = 'Like what you see? Visit the ' +\n",
              "            '<a target=\"_blank\" href=https://colab.research.google.com/notebooks/data_table.ipynb>data table notebook</a>'\n",
              "            + ' to learn more about interactive tables.';\n",
              "          element.innerHTML = '';\n",
              "          dataTable['output_type'] = 'display_data';\n",
              "          await google.colab.output.renderOutput(dataTable, element);\n",
              "          const docLink = document.createElement('div');\n",
              "          docLink.innerHTML = docLinkHtml;\n",
              "          element.appendChild(docLink);\n",
              "        }\n",
              "      </script>\n",
              "    </div>\n",
              "  </div>\n",
              "  "
            ]
          },
          "metadata": {},
          "execution_count": 29
        }
      ],
      "source": [
        "pcb = pd.read_csv('/content/POS_CASH_balance.csv')\n",
        "pcb.head(2)"
      ]
    },
    {
      "cell_type": "code",
      "execution_count": null,
      "metadata": {
        "id": "q4AUU1g5heZo"
      },
      "outputs": [],
      "source": [
        "pcb_dum=pd.get_dummies(pcb['NAME_CONTRACT_STATUS'])\n",
        "pcb_num=pcb.drop(['NAME_CONTRACT_STATUS'],axis=1)\n",
        "pcb_num= pd.concat([pcb_num,pcb_dum],axis=1)\n",
        "pcb_num.sort_values(by='MONTHS_BALANCE')\n",
        "pcb_num['EWM_MONTHS_BALANCE'] = pcb_num['MONTHS_BALANCE'].transform(lambda x: x.ewm(alpha = 0.5).mean())"
      ]
    },
    {
      "cell_type": "code",
      "execution_count": null,
      "metadata": {
        "id": "TkZpOY6kbXtJ"
      },
      "outputs": [],
      "source": [
        "count = pcb_num.groupby(by =['SK_ID_CURR']).count().reset_index()\n",
        "count['COUNT']=count['SK_ID_PREV']"
      ]
    },
    {
      "cell_type": "code",
      "execution_count": null,
      "metadata": {
        "id": "N7SfocHdlfdy"
      },
      "outputs": [],
      "source": [
        "pcb_num =pcb_num.drop(['SK_ID_PREV'],axis=1)\n",
        "agg1 = pcb_num.groupby(by = ['SK_ID_CURR']).min().reset_index()\n",
        "agg1=agg1.rename(columns= lambda x: x+'_min' if x !='SK_ID_CURR'  else x) \n",
        "agg2 = pcb_num.groupby(by = ['SK_ID_CURR']).max().reset_index()\n",
        "agg2=agg2.rename(columns= lambda x: x+'_max' if x !='SK_ID_CURR'  else x) \n",
        "agg3 = pcb_num.groupby(by = ['SK_ID_CURR']).mean().reset_index()\n",
        "agg3=agg3.rename(columns= lambda x: x+'_mean' if x !='SK_ID_CURR' else x) \n",
        "\n",
        "pcb_num = agg1\n",
        "pcb_num = pcb_num.merge(agg2, on='SK_ID_CURR',how='left')\n",
        "pcb_num = pcb_num.merge(agg3, on='SK_ID_CURR',how='left')\n",
        "\n",
        "pcb_num = pcb_num.merge(count[['SK_ID_CURR','COUNT']], on='SK_ID_CURR',how='left')"
      ]
    },
    {
      "cell_type": "code",
      "execution_count": null,
      "metadata": {
        "id": "XdZWcGHUmHwZ"
      },
      "outputs": [],
      "source": [
        "pcb_num = pcb_num.rename(columns= lambda x: 'PCB_'+x if x !='SK_ID_CURR' else x)\n",
        "app_train_num = app_train_num.merge(pcb_num, on='SK_ID_CURR', how='left')\n",
        "del pcb_num\n",
        "del pcb\n",
        "del count\n",
        "del agg1\n",
        "del agg2\n",
        "del agg3"
      ]
    },
    {
      "cell_type": "markdown",
      "metadata": {
        "id": "nHvAjsHonl1-"
      },
      "source": [
        "# **Previous Application**"
      ]
    },
    {
      "cell_type": "code",
      "execution_count": null,
      "metadata": {
        "colab": {
          "base_uri": "https://localhost:8080/",
          "height": 191
        },
        "id": "MELfHCl7nqqZ",
        "outputId": "dd44cc78-9eea-4adc-bea3-22eac34b2fdd"
      },
      "outputs": [
        {
          "output_type": "execute_result",
          "data": {
            "text/plain": [
              "   SK_ID_PREV  SK_ID_CURR NAME_CONTRACT_TYPE  AMT_ANNUITY  AMT_APPLICATION  \\\n",
              "0     2030495      271877     Consumer loans      1730.43          17145.0   \n",
              "\n",
              "   AMT_CREDIT  AMT_DOWN_PAYMENT  AMT_GOODS_PRICE WEEKDAY_APPR_PROCESS_START  \\\n",
              "0     17145.0               0.0          17145.0                   SATURDAY   \n",
              "\n",
              "   HOUR_APPR_PROCESS_START  ... NAME_SELLER_INDUSTRY  CNT_PAYMENT  \\\n",
              "0                       15  ...         Connectivity         12.0   \n",
              "\n",
              "   NAME_YIELD_GROUP       PRODUCT_COMBINATION  DAYS_FIRST_DRAWING  \\\n",
              "0            middle  POS mobile with interest            365243.0   \n",
              "\n",
              "  DAYS_FIRST_DUE DAYS_LAST_DUE_1ST_VERSION  DAYS_LAST_DUE DAYS_TERMINATION  \\\n",
              "0          -42.0                     300.0          -42.0            -37.0   \n",
              "\n",
              "  NFLAG_INSURED_ON_APPROVAL  \n",
              "0                       0.0  \n",
              "\n",
              "[1 rows x 37 columns]"
            ],
            "text/html": [
              "\n",
              "  <div id=\"df-4fa96a56-1529-44a2-87ba-aaa8f3d6526e\">\n",
              "    <div class=\"colab-df-container\">\n",
              "      <div>\n",
              "<style scoped>\n",
              "    .dataframe tbody tr th:only-of-type {\n",
              "        vertical-align: middle;\n",
              "    }\n",
              "\n",
              "    .dataframe tbody tr th {\n",
              "        vertical-align: top;\n",
              "    }\n",
              "\n",
              "    .dataframe thead th {\n",
              "        text-align: right;\n",
              "    }\n",
              "</style>\n",
              "<table border=\"1\" class=\"dataframe\">\n",
              "  <thead>\n",
              "    <tr style=\"text-align: right;\">\n",
              "      <th></th>\n",
              "      <th>SK_ID_PREV</th>\n",
              "      <th>SK_ID_CURR</th>\n",
              "      <th>NAME_CONTRACT_TYPE</th>\n",
              "      <th>AMT_ANNUITY</th>\n",
              "      <th>AMT_APPLICATION</th>\n",
              "      <th>AMT_CREDIT</th>\n",
              "      <th>AMT_DOWN_PAYMENT</th>\n",
              "      <th>AMT_GOODS_PRICE</th>\n",
              "      <th>WEEKDAY_APPR_PROCESS_START</th>\n",
              "      <th>HOUR_APPR_PROCESS_START</th>\n",
              "      <th>...</th>\n",
              "      <th>NAME_SELLER_INDUSTRY</th>\n",
              "      <th>CNT_PAYMENT</th>\n",
              "      <th>NAME_YIELD_GROUP</th>\n",
              "      <th>PRODUCT_COMBINATION</th>\n",
              "      <th>DAYS_FIRST_DRAWING</th>\n",
              "      <th>DAYS_FIRST_DUE</th>\n",
              "      <th>DAYS_LAST_DUE_1ST_VERSION</th>\n",
              "      <th>DAYS_LAST_DUE</th>\n",
              "      <th>DAYS_TERMINATION</th>\n",
              "      <th>NFLAG_INSURED_ON_APPROVAL</th>\n",
              "    </tr>\n",
              "  </thead>\n",
              "  <tbody>\n",
              "    <tr>\n",
              "      <th>0</th>\n",
              "      <td>2030495</td>\n",
              "      <td>271877</td>\n",
              "      <td>Consumer loans</td>\n",
              "      <td>1730.43</td>\n",
              "      <td>17145.0</td>\n",
              "      <td>17145.0</td>\n",
              "      <td>0.0</td>\n",
              "      <td>17145.0</td>\n",
              "      <td>SATURDAY</td>\n",
              "      <td>15</td>\n",
              "      <td>...</td>\n",
              "      <td>Connectivity</td>\n",
              "      <td>12.0</td>\n",
              "      <td>middle</td>\n",
              "      <td>POS mobile with interest</td>\n",
              "      <td>365243.0</td>\n",
              "      <td>-42.0</td>\n",
              "      <td>300.0</td>\n",
              "      <td>-42.0</td>\n",
              "      <td>-37.0</td>\n",
              "      <td>0.0</td>\n",
              "    </tr>\n",
              "  </tbody>\n",
              "</table>\n",
              "<p>1 rows × 37 columns</p>\n",
              "</div>\n",
              "      <button class=\"colab-df-convert\" onclick=\"convertToInteractive('df-4fa96a56-1529-44a2-87ba-aaa8f3d6526e')\"\n",
              "              title=\"Convert this dataframe to an interactive table.\"\n",
              "              style=\"display:none;\">\n",
              "        \n",
              "  <svg xmlns=\"http://www.w3.org/2000/svg\" height=\"24px\"viewBox=\"0 0 24 24\"\n",
              "       width=\"24px\">\n",
              "    <path d=\"M0 0h24v24H0V0z\" fill=\"none\"/>\n",
              "    <path d=\"M18.56 5.44l.94 2.06.94-2.06 2.06-.94-2.06-.94-.94-2.06-.94 2.06-2.06.94zm-11 1L8.5 8.5l.94-2.06 2.06-.94-2.06-.94L8.5 2.5l-.94 2.06-2.06.94zm10 10l.94 2.06.94-2.06 2.06-.94-2.06-.94-.94-2.06-.94 2.06-2.06.94z\"/><path d=\"M17.41 7.96l-1.37-1.37c-.4-.4-.92-.59-1.43-.59-.52 0-1.04.2-1.43.59L10.3 9.45l-7.72 7.72c-.78.78-.78 2.05 0 2.83L4 21.41c.39.39.9.59 1.41.59.51 0 1.02-.2 1.41-.59l7.78-7.78 2.81-2.81c.8-.78.8-2.07 0-2.86zM5.41 20L4 18.59l7.72-7.72 1.47 1.35L5.41 20z\"/>\n",
              "  </svg>\n",
              "      </button>\n",
              "      \n",
              "  <style>\n",
              "    .colab-df-container {\n",
              "      display:flex;\n",
              "      flex-wrap:wrap;\n",
              "      gap: 12px;\n",
              "    }\n",
              "\n",
              "    .colab-df-convert {\n",
              "      background-color: #E8F0FE;\n",
              "      border: none;\n",
              "      border-radius: 50%;\n",
              "      cursor: pointer;\n",
              "      display: none;\n",
              "      fill: #1967D2;\n",
              "      height: 32px;\n",
              "      padding: 0 0 0 0;\n",
              "      width: 32px;\n",
              "    }\n",
              "\n",
              "    .colab-df-convert:hover {\n",
              "      background-color: #E2EBFA;\n",
              "      box-shadow: 0px 1px 2px rgba(60, 64, 67, 0.3), 0px 1px 3px 1px rgba(60, 64, 67, 0.15);\n",
              "      fill: #174EA6;\n",
              "    }\n",
              "\n",
              "    [theme=dark] .colab-df-convert {\n",
              "      background-color: #3B4455;\n",
              "      fill: #D2E3FC;\n",
              "    }\n",
              "\n",
              "    [theme=dark] .colab-df-convert:hover {\n",
              "      background-color: #434B5C;\n",
              "      box-shadow: 0px 1px 3px 1px rgba(0, 0, 0, 0.15);\n",
              "      filter: drop-shadow(0px 1px 2px rgba(0, 0, 0, 0.3));\n",
              "      fill: #FFFFFF;\n",
              "    }\n",
              "  </style>\n",
              "\n",
              "      <script>\n",
              "        const buttonEl =\n",
              "          document.querySelector('#df-4fa96a56-1529-44a2-87ba-aaa8f3d6526e button.colab-df-convert');\n",
              "        buttonEl.style.display =\n",
              "          google.colab.kernel.accessAllowed ? 'block' : 'none';\n",
              "\n",
              "        async function convertToInteractive(key) {\n",
              "          const element = document.querySelector('#df-4fa96a56-1529-44a2-87ba-aaa8f3d6526e');\n",
              "          const dataTable =\n",
              "            await google.colab.kernel.invokeFunction('convertToInteractive',\n",
              "                                                     [key], {});\n",
              "          if (!dataTable) return;\n",
              "\n",
              "          const docLinkHtml = 'Like what you see? Visit the ' +\n",
              "            '<a target=\"_blank\" href=https://colab.research.google.com/notebooks/data_table.ipynb>data table notebook</a>'\n",
              "            + ' to learn more about interactive tables.';\n",
              "          element.innerHTML = '';\n",
              "          dataTable['output_type'] = 'display_data';\n",
              "          await google.colab.output.renderOutput(dataTable, element);\n",
              "          const docLink = document.createElement('div');\n",
              "          docLink.innerHTML = docLinkHtml;\n",
              "          element.appendChild(docLink);\n",
              "        }\n",
              "      </script>\n",
              "    </div>\n",
              "  </div>\n",
              "  "
            ]
          },
          "metadata": {},
          "execution_count": 34
        }
      ],
      "source": [
        "prev_app = pd.read_csv('/content/previous_application.csv')\n",
        "prev_app.head(1)"
      ]
    },
    {
      "cell_type": "code",
      "execution_count": null,
      "metadata": {
        "id": "Y0j71Q0qnqy-"
      },
      "outputs": [],
      "source": [
        "cat=prev_app.select_dtypes('object')\n",
        "cat_list= list(cat.columns.values)\n",
        "prev_app_dum=pd.get_dummies(prev_app[cat_list])"
      ]
    },
    {
      "cell_type": "code",
      "execution_count": null,
      "metadata": {
        "id": "7ZlU2D5GoUyj"
      },
      "outputs": [],
      "source": [
        "prev_app_num = prev_app.drop(cat_list,axis=1)\n",
        "prev_app_num = pd.concat([prev_app_num,prev_app_dum],axis=1)"
      ]
    },
    {
      "cell_type": "code",
      "execution_count": null,
      "metadata": {
        "id": "rBQ7mcdHkgsC"
      },
      "outputs": [],
      "source": [
        "count = prev_app_num.groupby(by =['SK_ID_CURR']).count().reset_index()\n",
        "count['COUNT']=count['SK_ID_PREV']"
      ]
    },
    {
      "cell_type": "code",
      "execution_count": null,
      "metadata": {
        "id": "8-pONjijoU9V"
      },
      "outputs": [],
      "source": [
        "prev_app_num = prev_app_num.drop(['SK_ID_PREV'],axis=1)\n",
        "agg1 = prev_app_num.groupby(by = ['SK_ID_CURR']).min().reset_index()\n",
        "agg1=agg1.rename(columns= lambda x: x+'_min' if x !='SK_ID_CURR'  else x) \n",
        "agg2 = prev_app_num.groupby(by = ['SK_ID_CURR']).max().reset_index()\n",
        "agg2=agg2.rename(columns= lambda x: x+'_max' if x !='SK_ID_CURR'  else x) \n",
        "agg3 = prev_app_num.groupby(by = ['SK_ID_CURR']).mean().reset_index()\n",
        "agg3=agg3.rename(columns= lambda x: x+'_mean' if x !='SK_ID_CURR' else x) \n",
        " \n",
        "prev_app_num = agg1\n",
        "prev_app_num = prev_app_num.merge(agg2, on='SK_ID_CURR',how='left')\n",
        "prev_app_num = prev_app_num.merge(agg3, on='SK_ID_CURR',how='left')\n",
        "\n",
        "prev_app_num = prev_app_num.merge(count[['SK_ID_CURR','COUNT']], on='SK_ID_CURR',how='left')"
      ]
    },
    {
      "cell_type": "code",
      "execution_count": null,
      "metadata": {
        "id": "XgnypPT2oVHc"
      },
      "outputs": [],
      "source": [
        "prev_app_num = prev_app_num.rename(columns= lambda x: 'PA_'+x if x !='SK_ID_CURR' else x)\n",
        "app_train_num = app_train_num.merge(prev_app_num, on='SK_ID_CURR', how='left')\n",
        "del prev_app_num\n",
        "del prev_app\n",
        "del count\n",
        "del agg1\n",
        "del agg2\n",
        "del agg3"
      ]
    },
    {
      "cell_type": "markdown",
      "metadata": {
        "id": "RK2QIhgiBOX0"
      },
      "source": [
        "# **Normalizing Numerical Features**"
      ]
    },
    {
      "cell_type": "code",
      "execution_count": null,
      "metadata": {
        "id": "sOh4c-mmZXDt"
      },
      "outputs": [],
      "source": [
        "def norm(col_name):\n",
        "  norm_col_name = StandardScaler().fit(col_name)\n",
        "  norm=norm_col_name.transform(col_name)\n",
        "  return norm , norm_col_name"
      ]
    },
    {
      "cell_type": "code",
      "execution_count": null,
      "metadata": {
        "id": "q4sgGjacLGVn"
      },
      "outputs": [],
      "source": [
        "for i in app_train_num.columns.values:\n",
        "  if i !='TARGET' and i!='SK_ID_CURR':\n",
        "    app_train_num[i].replace({np.nan:0}, inplace = True)\n",
        "    app_train_num[i].replace({np.inf:0}, inplace = True)"
      ]
    },
    {
      "cell_type": "code",
      "execution_count": null,
      "metadata": {
        "id": "kjCL2wX5nz-s"
      },
      "outputs": [],
      "source": [
        "empty_list=[]\n",
        "for i in app_train_num.columns:\n",
        "  if len(app_train_num[i].unique())<=1:\n",
        "    empty_list.append(i)\n",
        "\n",
        "app_train_num = app_train_num.drop(empty_list,axis=1)"
      ]
    },
    {
      "cell_type": "code",
      "source": [
        "empty_list_File = open('empty_list_File', 'wb')\n",
        "pickle.dump(empty_list, empty_list_File)\n",
        "empty_list_File.close()"
      ],
      "metadata": {
        "id": "1bE544woV3Za"
      },
      "execution_count": null,
      "outputs": []
    },
    {
      "cell_type": "code",
      "execution_count": null,
      "metadata": {
        "id": "KvUDGfQLzzed"
      },
      "outputs": [],
      "source": [
        "#Create New Features\n",
        "app_train_num['INSTALL_MNT'] = app_train_num['AMT_CREDIT']/(app_train_num['AMT_ANNUITY']+1)\n",
        "app_train_num['CREDIT_Income'] = app_train_num['AMT_CREDIT']/(app_train_num['AMT_INCOME_TOTAL']+1)\n",
        "app_train_num['ANNUITY_Income'] = app_train_num['AMT_ANNUITY']/(app_train_num['AMT_INCOME_TOTAL']+1)\n",
        "app_train_num['EXT_combined'] = app_train_num['EXT_SOURCE_1'] * app_train_num['EXT_SOURCE_2'] * app_train_num['EXT_SOURCE_3'] \n",
        "app_train_num['EXT_mean'] = app_train_num[['EXT_SOURCE_1', 'EXT_SOURCE_2', 'EXT_SOURCE_3']].mean(axis=1)\n",
        "app_train_num['INC_PER_CHLD'] = app_train_num['AMT_INCOME_TOTAL'] / (1 + app_train_num['CNT_CHILDREN'])\n",
        "app_train_num['EMPLOY_TO_BIRTH_RATIO'] = app_train_num['DAYS_EMPLOYED'] / (app_train_num['DAYS_BIRTH']+1)\n",
        "app_train_num['SCORES_STD'] = app_train_num[['EXT_SOURCE_1', 'EXT_SOURCE_2', 'EXT_SOURCE_3']].std(axis=1)\n",
        "app_train_num['CAR_TO_BIRTH_RATIO'] = app_train_num['OWN_CAR_AGE'] / (app_train_num['DAYS_BIRTH']+1)\n",
        "app_train_num['PHONE_TO_BIRTH_RATIO'] = app_train_num['DAYS_LAST_PHONE_CHANGE'] / (app_train_num['DAYS_BIRTH']+1)\n",
        "app_train_num['AGE_EMPLOYED'] = app_train_num['DAYS_EMPLOYED'] - app_train_num['DAYS_BIRTH']\n",
        "docs_list = [i for i in app_train_num.columns if 'FLAG_DOC' in i]\n",
        "app_train_num['DOC_IND_KURT'] = app_train_num[docs_list].kurtosis(axis=1)"
      ]
    },
    {
      "cell_type": "code",
      "execution_count": null,
      "metadata": {
        "id": "Qb68jmHMZXKe"
      },
      "outputs": [],
      "source": [
        "normalizer_name={}\n",
        "for i in app_train_num.columns.values:\n",
        "  if i !='TARGET' and i!='SK_ID_CURR':\n",
        "    app_train_num[i],normalizer_name['norm_'+i]=norm(app_train_num[i].values.reshape(-1, 1))\n",
        "\n",
        "normalizer_file = open('normalizer_file', 'wb')\n",
        "pickle.dump(normalizer_name, normalizer_file)\n",
        "normalizer_file.close()"
      ]
    },
    {
      "cell_type": "code",
      "execution_count": null,
      "metadata": {
        "id": "iWhPytZtMAxF",
        "colab": {
          "base_uri": "https://localhost:8080/"
        },
        "outputId": "f8c5b3be-79a3-40be-88e5-d57a371cfb29"
      },
      "outputs": [
        {
          "output_type": "execute_result",
          "data": {
            "text/plain": [
              "array([[ 0.88947911],\n",
              "       [-0.49036222],\n",
              "       [ 0.19955844],\n",
              "       [-1.18028288]])"
            ]
          },
          "metadata": {},
          "execution_count": 46
        }
      ],
      "source": [
        "#checking min_max_scaler\n",
        "x=np.array([40000,20000,30000,10000]).reshape(-1,1)\n",
        "x.shape\n",
        "normalizer_name['norm_AMT_ANNUITY'].transform(x)"
      ]
    },
    {
      "cell_type": "markdown",
      "metadata": {
        "id": "M2MCfLFnBVLQ"
      },
      "source": [
        "# **Response Encoding Categorical Feature**"
      ]
    },
    {
      "cell_type": "code",
      "execution_count": null,
      "metadata": {
        "id": "VnbeiyA_vm5T"
      },
      "outputs": [],
      "source": [
        "def respose_coding_fit(X_Cat,y_train):\n",
        "    Cats_counts= dict(X_Cat.value_counts())\n",
        "    y_train_asstr=y_train.astype(str)\n",
        "    X_Cat_array=np.array(X_Cat)+y_train_asstr\n",
        "    unique,counts= np.unique(X_Cat_array, return_counts=True)\n",
        "    Cats_class_counts=dict(zip(unique,counts))\n",
        "    for i in Cats_counts:\n",
        "        if i+str(1) in Cats_class_counts:\n",
        "            Cats_class_counts[i+str(1)]=Cats_class_counts[i+str(1)]/Cats_counts[i]\n",
        "        if i+str(0) in Cats_class_counts:\n",
        "            Cats_class_counts[i+str(0)]=Cats_class_counts[i+str(0)]/Cats_counts[i]           \n",
        "    return Cats_class_counts\n",
        "\n",
        "def response_coding_transform(X,Cats_class_counts):\n",
        "    class0=[]\n",
        "    class1=[]\n",
        "    X=np.array(X)\n",
        "    for i in X:\n",
        "        if i+str(1) in Cats_class_counts and i+str(0) in Cats_class_counts:\n",
        "            class1.append(Cats_class_counts[i+str(1)])\n",
        "            class0.append(Cats_class_counts[i+str(0)])\n",
        "        if i+str(1) in Cats_class_counts and i+str(0) not in Cats_class_counts:\n",
        "            class1.append(Cats_class_counts[i+str(1)])\n",
        "            class0.append(0)\n",
        "        if i+str(1) not in Cats_class_counts and i+str(0) in Cats_class_counts:\n",
        "            class1.append(0)\n",
        "            class0.append(Cats_class_counts[i+str(0)])\n",
        "        if i+str(0) not in Cats_class_counts and i+str(1) not in Cats_class_counts :\n",
        "            class1.append(0.5)\n",
        "            class0.append(0.5)\n",
        "            \n",
        "    return  (np.array(class0)).reshape(-1,1), (np.array(class1)).reshape(-1,1)"
      ]
    },
    {
      "cell_type": "code",
      "execution_count": null,
      "metadata": {
        "id": "J7segHOolOcj"
      },
      "outputs": [],
      "source": [
        "def res_enco(col_name,y_train):\n",
        "  one_hot_col_name = respose_coding_fit(col_name,y_train)\n",
        "  onehot0,onehot1=response_coding_transform(col_name,one_hot_col_name)\n",
        "  return onehot0 ,onehot1, one_hot_col_name"
      ]
    },
    {
      "cell_type": "code",
      "execution_count": null,
      "metadata": {
        "id": "YQQsEx3yMA9b"
      },
      "outputs": [],
      "source": [
        "cat_mode={}\n",
        "for i in app_train_cat.columns.values:\n",
        "  if i !='TARGET' and i!='SK_ID_CURR':\n",
        "    cat_mode[i]=app_train_cat[i].mode()[0]\n",
        "    app_train_cat[i].replace({np.nan:app_train_cat[i].mode()[0]}, inplace = True)\n",
        "\n",
        "cat_mode_file = open('cat_mode_file', 'wb')\n",
        "pickle.dump(cat_mode, cat_mode_file)\n",
        "cat_mode_file.close()"
      ]
    },
    {
      "cell_type": "code",
      "execution_count": null,
      "metadata": {
        "id": "w2wwT73FmLo4"
      },
      "outputs": [],
      "source": [
        "response_encoding={}\n",
        "for i in app_train_cat.columns.values:\n",
        "  if i!='TARGET' and i!='SK_ID_CURR':\n",
        "    _,app_train_cat[i+str(1)],response_encoding[i]=res_enco(app_train_cat[i],app_train['TARGET'])\n",
        "    app_train_cat.drop([i],axis=1,inplace=True)\n",
        "\n",
        "res_enco_file = open('res_enco_file', 'wb')\n",
        "pickle.dump(response_encoding, res_enco_file)\n",
        "res_enco_file.close()"
      ]
    },
    {
      "cell_type": "code",
      "execution_count": null,
      "metadata": {
        "id": "m6b1f7TUmYpx",
        "colab": {
          "base_uri": "https://localhost:8080/"
        },
        "outputId": "21a94290-df53-49b7-d75f-235ad28527a7"
      },
      "outputs": [
        {
          "output_type": "execute_result",
          "data": {
            "text/plain": [
              "{'F0': 0.9300081006855946,\n",
              " 'F1': 0.06999189931440539,\n",
              " 'M0': 0.8985807974566672,\n",
              " 'M1': 0.1014192025433328}"
            ]
          },
          "metadata": {},
          "execution_count": 51
        }
      ],
      "source": [
        "#Test Label Encoder\n",
        "response_encoding['CODE_GENDER']"
      ]
    },
    {
      "cell_type": "markdown",
      "metadata": {
        "id": "_CuBA6lpBsnw"
      },
      "source": [
        "## **Concatenate Numerical and Categorical Features**"
      ]
    },
    {
      "cell_type": "code",
      "execution_count": null,
      "metadata": {
        "id": "q_V_fKxTfu5S"
      },
      "outputs": [],
      "source": [
        "app_train= pd.concat([app_train_num,app_train_cat],axis=1)"
      ]
    },
    {
      "cell_type": "code",
      "execution_count": null,
      "metadata": {
        "id": "m_r4U1OYMlPV",
        "colab": {
          "base_uri": "https://localhost:8080/"
        },
        "outputId": "5907f9f2-0ac2-4a9d-fd7f-a3ded9ce703f"
      },
      "outputs": [
        {
          "output_type": "execute_result",
          "data": {
            "text/plain": [
              "(307511, 893)"
            ]
          },
          "metadata": {},
          "execution_count": 53
        }
      ],
      "source": [
        "app_train.shape"
      ]
    },
    {
      "cell_type": "code",
      "execution_count": null,
      "metadata": {
        "id": "20UT55lP1FQt"
      },
      "outputs": [],
      "source": [
        "app_train['EMPLOY_TO_BIRTH_RATIOFLAG_DOCUMENT_6']=app_train['EMPLOY_TO_BIRTH_RATIO']/app_train['FLAG_DOCUMENT_6']\n",
        "app_train['PA_DAYS_DECISIONPCB_Demand_mean'] =app_train['PA_DAYS_DECISION_mean']/app_train['PCB_Demand_mean']\n",
        "app_train['SCORES_STDFLAG_DOCUMENT_17'] = app_train['SCORES_STD']/app_train['FLAG_DOCUMENT_17']\n",
        "app_train['PA_NAME_YIELD_GROUP_XNAPA_CODE_REJECT_REASON_SYSTEM_mean']=  app_train['PA_NAME_YIELD_GROUP_XNA_mean']/app_train['PA_CODE_REJECT_REASON_SYSTEM_mean']\n",
        "app_train['SCORES_STDFLAG_DOCUMENT_16'] = app_train['SCORES_STD']/app_train['FLAG_DOCUMENT_16']\n",
        "app_train['EMPLOY_TO_BIRTH_RATIO_mul_FLAG_EMP_PHONE']=app_train['EMPLOY_TO_BIRTH_RATIO']/app_train['FLAG_EMP_PHONE']\n",
        "app_train['PA_NAME_CONTRACT_STATUS_Refused_meanPA_NAME_YIELD_GROUP_high_min']=app_train['PA_NAME_CONTRACT_STATUS_Refused_mean']/app_train['PA_NAME_YIELD_GROUP_high_min']"
      ]
    },
    {
      "cell_type": "code",
      "source": [
        "#app_train.to_csv('comp_data',index=False)"
      ],
      "metadata": {
        "id": "HN_JL5KjALh1"
      },
      "execution_count": null,
      "outputs": []
    },
    {
      "cell_type": "code",
      "source": [
        "#app_train =pd.read_csv('comp_data')"
      ],
      "metadata": {
        "id": "6uUpImYLLWxA"
      },
      "execution_count": null,
      "outputs": []
    },
    {
      "cell_type": "markdown",
      "metadata": {
        "id": "19nix1Zsz6sI"
      },
      "source": [
        "## **Drop Correlated Features**"
      ]
    },
    {
      "cell_type": "code",
      "execution_count": null,
      "metadata": {
        "id": "w03AoAUsz7az",
        "colab": {
          "base_uri": "https://localhost:8080/"
        },
        "outputId": "2644d9b9-78aa-4cd7-f78c-db53686c6012"
      },
      "outputs": [
        {
          "output_type": "stream",
          "name": "stderr",
          "text": [
            "100%|██████████| 900/900 [00:12<00:00, 71.01it/s]\n"
          ]
        }
      ],
      "source": [
        "from tqdm import tqdm\n",
        "Corr_mat=app_train.corr().abs() # As the correlation has values -1 to 1. We take the absolute of these values so that 0 means no correlation & 1 means completely correlated\n",
        "\n",
        "correlated_features=[]\n",
        "for i in tqdm(range(len(Corr_mat.columns))):\n",
        "  for j in range(i):\n",
        "    k = Corr_mat.columns[i]\n",
        "    l = Corr_mat.index[j]\n",
        "    if Corr_mat.iloc[i,j] > 0.999: #if the correlation is greater than 0.8 then add the feature1 as key and the other feature_N as its values\n",
        "      if app_train[[k,'TARGET']].corr()['TARGET'][0] > app_train[[l,'TARGET']].corr()['TARGET'][0]:\n",
        "        correlated_features.append(k)\n",
        "      else:\n",
        "        correlated_features.append(l)\n",
        "Mut_corr_FL=list(set(correlated_features))"
      ]
    },
    {
      "cell_type": "code",
      "execution_count": null,
      "metadata": {
        "id": "F53NKzSk1qEW"
      },
      "outputs": [],
      "source": [
        "#List of Features to be dropped\n",
        "Mut_corr_File = open('Mut_corr_File', 'wb')\n",
        "pickle.dump(Mut_corr_FL, Mut_corr_File)\n",
        "Mut_corr_File.close()"
      ]
    },
    {
      "cell_type": "code",
      "execution_count": null,
      "metadata": {
        "id": "3ZejIfEi1xrf",
        "colab": {
          "base_uri": "https://localhost:8080/"
        },
        "outputId": "4b22854f-d864-4dd7-d110-70ef4bbf6078"
      },
      "outputs": [
        {
          "output_type": "execute_result",
          "data": {
            "text/plain": [
              "(307511, 900)"
            ]
          },
          "metadata": {},
          "execution_count": 59
        }
      ],
      "source": [
        "#del Corr_mat\n",
        "app_train.shape"
      ]
    },
    {
      "cell_type": "code",
      "execution_count": null,
      "metadata": {
        "id": "UR1vsANF1x99"
      },
      "outputs": [],
      "source": [
        "app_train=app_train.drop(Mut_corr_FL,axis=1)"
      ]
    },
    {
      "cell_type": "code",
      "source": [
        "app_train.shape"
      ],
      "metadata": {
        "colab": {
          "base_uri": "https://localhost:8080/"
        },
        "id": "FbcUQFFjtCQk",
        "outputId": "3fb837af-757f-479b-bc89-66090d7d7b9d"
      },
      "execution_count": null,
      "outputs": [
        {
          "output_type": "execute_result",
          "data": {
            "text/plain": [
              "(307511, 865)"
            ]
          },
          "metadata": {},
          "execution_count": 61
        }
      ]
    },
    {
      "cell_type": "code",
      "execution_count": null,
      "metadata": {
        "id": "Pgg2dsEgbkIb"
      },
      "outputs": [],
      "source": [
        "#train_data_for_neighbors = app_train[['EXT_SOURCE_1','EXT_SOURCE_2','EXT_SOURCE_3','EXT_mean','INSTALL_MNT']]\n",
        "#train_target = app_train.TARGET\n",
        "\n",
        "#from sklearn.neighbors import KNeighborsClassifier   \n",
        "#knn = KNeighborsClassifier(1000, n_jobs = -1)\n",
        "#knn.fit(train_data_for_neighbors, train_target)\n",
        "#train_500_neighbors = knn.kneighbors(train_data_for_neighbors)[1]\n",
        "#adding the means of targets of 500 neighbors to new column\n"
      ]
    },
    {
      "cell_type": "code",
      "execution_count": null,
      "metadata": {
        "id": "bjwzD_FA5_5l"
      },
      "outputs": [],
      "source": [
        "#app_train['TARGET_NEIGHBORS_1000_STD'] = [app_train['TARGET'].iloc[ele].std() for ele in train_500_neighbors]"
      ]
    },
    {
      "cell_type": "code",
      "source": [
        "#knn_model = open('knn_model', 'wb')\n",
        "#pickle.dump(knn, knn_model)\n",
        "#knn_model.close()"
      ],
      "metadata": {
        "id": "W07Bc2eueAcf"
      },
      "execution_count": null,
      "outputs": []
    },
    {
      "cell_type": "code",
      "source": [
        "#app_train.to_csv('data',index=False)\n",
        "#app_train =pd.read_csv('data')"
      ],
      "metadata": {
        "id": "COmFZgMiAGu0"
      },
      "execution_count": null,
      "outputs": []
    },
    {
      "cell_type": "code",
      "source": [
        "# Rename features to remove special characters\n",
        "for i in app_train.columns:\n",
        "  if ',' in i:\n",
        "    j=i.replace(',','')\n",
        "    app_train[j]=app_train[i]\n",
        "    del app_train[i]\n",
        "  if  ':' in i:\n",
        "    j=i.replace(':','')\n",
        "    app_train[j]=app_train[i]\n",
        "    del app_train[i]"
      ],
      "metadata": {
        "id": "QPcLEIrFDb75"
      },
      "execution_count": null,
      "outputs": []
    },
    {
      "cell_type": "code",
      "source": [
        "app_train.shape"
      ],
      "metadata": {
        "colab": {
          "base_uri": "https://localhost:8080/"
        },
        "id": "HeVDTSaPtaCL",
        "outputId": "9a6019e8-65cf-40a7-c5d1-580e886a53f6"
      },
      "execution_count": null,
      "outputs": [
        {
          "output_type": "execute_result",
          "data": {
            "text/plain": [
              "(307511, 865)"
            ]
          },
          "metadata": {},
          "execution_count": 67
        }
      ]
    },
    {
      "cell_type": "markdown",
      "metadata": {
        "id": "Vh1Rik142UAl"
      },
      "source": [
        "## Train Test Split"
      ]
    },
    {
      "cell_type": "code",
      "execution_count": null,
      "metadata": {
        "id": "DZKXvly62XqA",
        "colab": {
          "base_uri": "https://localhost:8080/"
        },
        "outputId": "4771a308-bd73-4c5d-c55e-3258ab823a37"
      },
      "outputs": [
        {
          "output_type": "execute_result",
          "data": {
            "text/plain": [
              "(307511, 863)"
            ]
          },
          "metadata": {},
          "execution_count": 68
        }
      ],
      "source": [
        "X=app_train.drop(['SK_ID_CURR','TARGET'],axis=1)\n",
        "y=app_train['TARGET'].values\n",
        "X.shape"
      ]
    },
    {
      "cell_type": "code",
      "execution_count": null,
      "metadata": {
        "id": "nwlGriS42a6G",
        "colab": {
          "base_uri": "https://localhost:8080/"
        },
        "outputId": "d7394909-e235-4c03-ab4c-946297f03183"
      },
      "outputs": [
        {
          "output_type": "execute_result",
          "data": {
            "text/plain": [
              "(246008, 863)"
            ]
          },
          "metadata": {},
          "execution_count": 69
        }
      ],
      "source": [
        "from sklearn.model_selection import train_test_split\n",
        "X_train, X_test, y_train,y_test=train_test_split(X,y,test_size=0.2,stratify=y,random_state=10)\n",
        "X_train.shape"
      ]
    },
    {
      "cell_type": "code",
      "execution_count": null,
      "metadata": {
        "id": "t7DnYlBzRcw1"
      },
      "outputs": [],
      "source": [
        "# Compute KNN on train dataset and get the standard deviation of 1000 nearest neighbour target values\n",
        "train_data_for_neighbors = X_train[['EXT_SOURCE_1','EXT_SOURCE_2','EXT_SOURCE_3','INSTALL_MNT','DAYS_BIRTH','ORGANIZATION_TYPE1']]\n",
        "test_data_for_neighbors = X_test[['EXT_SOURCE_1','EXT_SOURCE_2','EXT_SOURCE_3','INSTALL_MNT','DAYS_BIRTH','ORGANIZATION_TYPE1']]\n",
        "train_target = y_train\n",
        "\n",
        "from sklearn.neighbors import KNeighborsClassifier   \n",
        "knn = KNeighborsClassifier(1000, n_jobs =-1)\n",
        "knn.fit(train_data_for_neighbors, train_target)\n",
        "train_1000_neighbors = knn.kneighbors(train_data_for_neighbors)[1]\n",
        "test_1000_neighbors = knn.kneighbors(test_data_for_neighbors)[1]\n",
        "\n",
        "#adding the standard deviation of targets of 1000 neighbors to new column\n",
        "X_train['TARGET_NEIGHBORS_500_STD'] = [pd.DataFrame(y_train)[0].iloc[ele].std() for ele in train_1000_neighbors]\n",
        "X_test['TARGET_NEIGHBORS_500_STD'] = [pd.DataFrame(y_train)[0].iloc[ele].std() for ele in test_1000_neighbors]"
      ]
    },
    {
      "cell_type": "markdown",
      "metadata": {
        "id": "SEifJh5TCP9k"
      },
      "source": [
        "# Model "
      ]
    },
    {
      "cell_type": "code",
      "execution_count": null,
      "metadata": {
        "colab": {
          "base_uri": "https://localhost:8080/"
        },
        "id": "RjQ-dRAWb3g-",
        "outputId": "2aaeb692-5aaf-48ad-acc6-ce6f3cb9d7e3"
      },
      "outputs": [
        {
          "output_type": "execute_result",
          "data": {
            "text/plain": [
              "LGBMClassifier(class_weight={0: 0.09, 1: 1}, colsample_bytree=0.65,\n",
              "               learning_rate=0.2, metric='auc', min_child_weight=60,\n",
              "               min_split_gain=0.0223, objective='binary', random_state=10,\n",
              "               reg_alpha=0.0416, reg_lambda=0.074)"
            ]
          },
          "metadata": {},
          "execution_count": 71
        }
      ],
      "source": [
        "# Fit Model on train dataset\n",
        "LGBM1 = LGBMClassifier(objective= 'binary',class_weight = {0:0.09,1:1},random_state=10,n_jobs=-1,metric='auc',reg_alpha=0.0416,reg_lambda=0.074,\n",
        "                       min_split_gain=0.0223,min_child_weight=60,learning_rate= 0.2,colsample_bytree= 0.65)\n",
        "LGBM1.fit(X_train,y_train)"
      ]
    },
    {
      "cell_type": "code",
      "execution_count": null,
      "metadata": {
        "id": "UKTm_nw8YF6f"
      },
      "outputs": [],
      "source": [
        "# Predict target on test dataset\n",
        "y_test_pred=LGBM1.predict_proba(X_test)[:,1]"
      ]
    },
    {
      "cell_type": "code",
      "execution_count": null,
      "metadata": {
        "colab": {
          "base_uri": "https://localhost:8080/"
        },
        "id": "HoL8TdaKYGCV",
        "outputId": "4cd4f52c-943f-4f72-fd7d-8367cae84a0f"
      },
      "outputs": [
        {
          "output_type": "execute_result",
          "data": {
            "text/plain": [
              "0.7826698738065891"
            ]
          },
          "metadata": {},
          "execution_count": 73
        }
      ],
      "source": [
        "# Compute ROC_AUC score on test dataset\n",
        "from sklearn.metrics import roc_auc_score\n",
        "roc_auc_score(y_test,y_test_pred)"
      ]
    },
    {
      "cell_type": "code",
      "execution_count": null,
      "metadata": {
        "colab": {
          "base_uri": "https://localhost:8080/",
          "height": 279
        },
        "id": "wwPK8AaWYHe_",
        "outputId": "a3b4daf1-c638-4bc4-d902-ca13f6342945"
      },
      "outputs": [
        {
          "output_type": "display_data",
          "data": {
            "text/plain": [
              "<Figure size 432x288 with 1 Axes>"
            ],
            "image/png": "[encoded data removed]"
          },
          "metadata": {
            "needs_background": "light"
          }
        }
      ],
      "source": [
        "from sklearn.metrics import plot_roc_curve\n",
        "a=plot_roc_curve(LGBM1, X_train, y_train,name='Train_LGBM') \n",
        "b=plot_roc_curve(LGBM1, X_test, y_test,ax=a.ax_,name='Test_LGBM') \n",
        "plt.show()"
      ]
    },
    {
      "cell_type": "code",
      "execution_count": null,
      "metadata": {
        "colab": {
          "base_uri": "https://localhost:8080/",
          "height": 296
        },
        "id": "cPbWdTBjCSka",
        "outputId": "e50d0592-6f0d-46a0-c505-1edb1bc4402f"
      },
      "outputs": [
        {
          "output_type": "execute_result",
          "data": {
            "text/plain": [
              "<sklearn.metrics._plot.confusion_matrix.ConfusionMatrixDisplay at 0x7f4ffd333ed0>"
            ]
          },
          "metadata": {},
          "execution_count": 75
        },
        {
          "output_type": "display_data",
          "data": {
            "text/plain": [
              "<Figure size 432x288 with 2 Axes>"
            ],
            "image/png": "[encoded data removed]"
          },
          "metadata": {
            "needs_background": "light"
          }
        }
      ],
      "source": [
        "# plot confusion matrix on the train dataset\n",
        "from sklearn.metrics import plot_confusion_matrix\n",
        "plot_confusion_matrix(LGBM1, X_train, y_train) \n",
        "plt.show()"
      ]
    },
    {
      "cell_type": "code",
      "execution_count": null,
      "metadata": {
        "id": "2HqAZ8NMYGJi"
      },
      "outputs": [],
      "source": [
        "# Important Features DataFrame\n",
        "feature_imp = pd.DataFrame(sorted(zip(LGBM1.feature_importances_, X_train.columns)), columns=['Value','Feature'])\n",
        "features_df = feature_imp.sort_values(by=\"Value\", ascending=False)\n",
        "selected_features = list(features_df[features_df['Value']>=1]['Feature'])"
      ]
    },
    {
      "cell_type": "code",
      "source": [
        "#Plot top 30 important Features\n",
        "plt.figure(figsize=(10,10))\n",
        "sns.barplot(x=\"Value\", y=\"Feature\",data=features_df.iloc[:30,:30])\n",
        "plt.show()"
      ],
      "metadata": {
        "colab": {
          "base_uri": "https://localhost:8080/",
          "height": 606
        },
        "id": "_jI41poNjZa7",
        "outputId": "64d5c46f-a213-4703-d46c-5efa5b4d202a"
      },
      "execution_count": null,
      "outputs": [
        {
          "output_type": "display_data",
          "data": {
            "text/plain": [
              "<Figure size 720x720 with 1 Axes>"
            ],
            "image/png": "[encoded data removed]"
          },
          "metadata": {
            "needs_background": "light"
          }
        }
      ]
    },
    {
      "cell_type": "code",
      "execution_count": null,
      "metadata": {
        "id": "MS3uE-8JYHio",
        "colab": {
          "base_uri": "https://localhost:8080/"
        },
        "outputId": "6806c350-0d37-4685-abb6-0daede34162e"
      },
      "outputs": [
        {
          "output_type": "execute_result",
          "data": {
            "text/plain": [
              "359"
            ]
          },
          "metadata": {},
          "execution_count": 78
        }
      ],
      "source": [
        "len(selected_features)"
      ]
    },
    {
      "cell_type": "code",
      "source": [
        "#save list of selected_features to pickle file\n",
        "selected_fea = open('selected_fea', 'wb')\n",
        "pickle.dump(selected_features, selected_fea)\n",
        "selected_fea.close()"
      ],
      "metadata": {
        "id": "k0kuWZhzt-dt"
      },
      "execution_count": null,
      "outputs": []
    },
    {
      "cell_type": "code",
      "execution_count": null,
      "metadata": {
        "id": "i6vqhi7XOLLJ"
      },
      "outputs": [],
      "source": [
        "# Filter only the selected Features\n",
        "X_train1=X_train[selected_features]\n",
        "X_test1=X_test[selected_features]"
      ]
    },
    {
      "cell_type": "code",
      "source": [
        "#from sklearn.model_selection import GridSearchCV\n",
        "#LGBM2=LGBMClassifier(class_weight='balanced',random_state=10,n_jobs=-1)\n",
        "#parameters={'max_depth':[10,50,-1],'min_child_weight':[0.01,10,60]}\n",
        "#clf1=GridSearchCV(LGBM2,parameters,cv=3,scoring='roc_auc',return_train_score=True)\n",
        "#clf1.fit(X_train1,y_train)\n",
        "#results1=pd.DataFrame.from_dict(clf1.cv_results_)"
      ],
      "metadata": {
        "id": "66FeYoD0ATrZ"
      },
      "execution_count": null,
      "outputs": []
    },
    {
      "cell_type": "code",
      "execution_count": null,
      "metadata": {
        "id": "NPiuxx9dW2Ic",
        "colab": {
          "base_uri": "https://localhost:8080/"
        },
        "outputId": "c12f2d42-1fad-490a-836d-ab60b0bccc9a"
      },
      "outputs": [
        {
          "output_type": "execute_result",
          "data": {
            "text/plain": [
              "LGBMClassifier(class_weight={0: 0.09, 1: 1}, colsample_bytree=0.65,\n",
              "               learning_rate=0.2, metric='auc', min_child_weight=60,\n",
              "               min_split_gain=0.0223, objective='binary', random_state=10,\n",
              "               reg_alpha=0.0416, reg_lambda=0.074)"
            ]
          },
          "metadata": {},
          "execution_count": 81
        }
      ],
      "source": [
        "# Fit LGBM model on selected features\n",
        "LGBM3=LGBMClassifier(objective= 'binary',class_weight = {0:0.09,1:1},random_state=10,n_jobs=-1,metric='auc',reg_alpha=0.0416,reg_lambda=0.074,\n",
        "                       min_split_gain=0.0223,min_child_weight=60,learning_rate= 0.2,colsample_bytree= 0.65)\n",
        "LGBM3.fit(X_train1,y_train)"
      ]
    },
    {
      "cell_type": "code",
      "execution_count": null,
      "metadata": {
        "id": "TqMiapOuO9Tn"
      },
      "outputs": [],
      "source": [
        "#Predict the target for the test data.\n",
        "y_test_pred=LGBM3.predict_proba(X_test1)[:,1]"
      ]
    },
    {
      "cell_type": "code",
      "execution_count": null,
      "metadata": {
        "id": "AjCyuj_UPHSZ",
        "colab": {
          "base_uri": "https://localhost:8080/"
        },
        "outputId": "bdd80759-9ded-4eb9-a190-9b0f25ee4fa9"
      },
      "outputs": [
        {
          "output_type": "execute_result",
          "data": {
            "text/plain": [
              "0.782806341479037"
            ]
          },
          "metadata": {},
          "execution_count": 85
        }
      ],
      "source": [
        "# Calculate the ROC_AUC score on test dataset\n",
        "from sklearn.metrics import roc_auc_score\n",
        "roc_auc_score(y_test,y_test_pred)"
      ]
    },
    {
      "cell_type": "code",
      "source": [
        "#Plot ROC_AUC curve on train and test dataset\n",
        "from sklearn.metrics import plot_roc_curve\n",
        "a=plot_roc_curve(LGBM3, X_train1, y_train,name='Train_LGBM') \n",
        "b=plot_roc_curve(LGBM3, X_test1, y_test,ax=a.ax_,name='Test_LGBM') \n",
        "plt.show()"
      ],
      "metadata": {
        "colab": {
          "base_uri": "https://localhost:8080/",
          "height": 279
        },
        "id": "bpSrD7KxV72Z",
        "outputId": "df28625c-9d20-4abc-845f-010188d850e4"
      },
      "execution_count": null,
      "outputs": [
        {
          "output_type": "display_data",
          "data": {
            "text/plain": [
              "<Figure size 432x288 with 1 Axes>"
            ],
            "image/png": "[encoded data removed]"
          },
          "metadata": {
            "needs_background": "light"
          }
        }
      ]
    },
    {
      "cell_type": "code",
      "execution_count": null,
      "metadata": {
        "id": "FnWzKeJbnHhS",
        "colab": {
          "base_uri": "https://localhost:8080/",
          "height": 296
        },
        "outputId": "592e296f-3144-4bb9-ce4e-042dc31e771a"
      },
      "outputs": [
        {
          "output_type": "execute_result",
          "data": {
            "text/plain": [
              "<sklearn.metrics._plot.confusion_matrix.ConfusionMatrixDisplay at 0x7f4ffd81e550>"
            ]
          },
          "metadata": {},
          "execution_count": 87
        },
        {
          "output_type": "display_data",
          "data": {
            "text/plain": [
              "<Figure size 432x288 with 2 Axes>"
            ],
            "image/png": "[encoded data removed]"
          },
          "metadata": {
            "needs_background": "light"
          }
        }
      ],
      "source": [
        "# plot confusion matrix on test data \n",
        "from sklearn.metrics import plot_confusion_matrix\n",
        "plot_confusion_matrix(LGBM3, X_test1, y_test) \n",
        "plt.show()"
      ]
    },
    {
      "cell_type": "code",
      "execution_count": null,
      "metadata": {
        "id": "XMslWWB75XgT"
      },
      "outputs": [],
      "source": [
        "# Save model to a pickle file\n",
        "Model1 = open('Model1', 'wb')\n",
        "pickle.dump(LGBM3, Model1)\n",
        "Model1.close()"
      ]
    }
  ],
  "metadata": {
    "colab": {
      "collapsed_sections": [],
      "machine_shape": "hm",
      "name": "Home Credit Feature Engg and Training.ipynb",
      "provenance": []
    },
    "kernelspec": {
      "display_name": "Python 3",
      "name": "python3"
    },
    "language_info": {
      "name": "python"
    },
    "accelerator": "GPU"
  },
  "nbformat": 4,
  "nbformat_minor": 0
}